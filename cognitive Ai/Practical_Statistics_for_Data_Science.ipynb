{
 "cells": [
  {
   "cell_type": "markdown",
   "metadata": {},
   "source": [
    "# **Practical Statistics for Data Science & Machine Learning**\n",
    "\n",
    "Welcome to this course on Practical Statistics! By the end of these modules, you'll have a solid understanding of the statistical concepts most commonly used in Data Science and Machine Learning, and the ability to implement them in Python.\n",
    "\n",
    "---\n",
    "## Table of Contents\n",
    "- [Module 1: Introduction to Statistics & Data Exploration](#module-1)\n",
    "- [Module 2: Data Visualization & Distributions](#module-2)\n",
    "- [Module 3: Probability & Sampling](#module-3)\n",
    "- [Module 4: Hypothesis Testing & Statistical Inference](#module-4)\n",
    "- [Module 5: Correlation, Regression & Feature Relationships](#module-5)\n",
    "\n",
    "---"
   ]
  },
  {
   "cell_type": "markdown",
   "metadata": {},
   "source": [
    "<h2><span style=\"color:red\">🚨 Run the below cell to install required packages and start the timer</span></h2>\n",
    "\n"
   ]
  },
  {
   "cell_type": "code",
   "execution_count": 6,
   "metadata": {},
   "outputs": [
    {
     "name": "stdout",
     "output_type": "stream",
     "text": [
      "Defaulting to user installation because normal site-packages is not writeable\n",
      "Processing ./statstest-1.0.0-py3-none-any.whl\n",
      "Requirement already satisfied: numpy in /home/kalyan/.local/lib/python3.10/site-packages (1.24.4)\n",
      "Requirement already satisfied: pandas in /home/kalyan/.local/lib/python3.10/site-packages (2.2.3)\n",
      "Requirement already satisfied: matplotlib in /usr/lib/python3/dist-packages (3.5.1)\n",
      "Requirement already satisfied: seaborn in /home/kalyan/.local/lib/python3.10/site-packages (0.13.2)\n",
      "Requirement already satisfied: scikit-learn in /home/kalyan/.local/lib/python3.10/site-packages (1.6.1)\n",
      "Requirement already satisfied: scipy in /usr/lib/python3/dist-packages (1.8.0)\n",
      "Requirement already satisfied: ipywidgets in /usr/lib/python3/dist-packages (6.0.0)\n",
      "Requirement already satisfied: tzdata>=2022.7 in /home/kalyan/.local/lib/python3.10/site-packages (from pandas) (2023.4)\n",
      "Requirement already satisfied: python-dateutil>=2.8.2 in /home/kalyan/.local/lib/python3.10/site-packages (from pandas) (2.8.2)\n",
      "Requirement already satisfied: pytz>=2020.1 in /usr/lib/python3/dist-packages (from pandas) (2022.1)\n",
      "Requirement already satisfied: joblib>=1.2.0 in /home/kalyan/.local/lib/python3.10/site-packages (from scikit-learn) (1.3.2)\n",
      "Requirement already satisfied: threadpoolctl>=3.1.0 in /home/kalyan/.local/lib/python3.10/site-packages (from scikit-learn) (3.4.0)\n",
      "Requirement already satisfied: six>=1.5 in /usr/lib/python3/dist-packages (from python-dateutil>=2.8.2->pandas) (1.16.0)\n",
      "statstest is already installed with the same version as the provided wheel. Use --force-reinstall to force an installation of the wheel.\n"
     ]
    },
    {
     "name": "stderr",
     "output_type": "stream",
     "text": [
      "Widget Javascript not detected.  It may not be installed or enabled properly. Reconnecting the current kernel may help.\n"
     ]
    },
    {
     "data": {
      "application/vnd.jupyter.widget-view+json": {
       "model_id": "86381a563d9b4b9da3ac380ad6bb91c5"
      }
     },
     "metadata": {},
     "output_type": "display_data"
    },
    {
     "name": "stdout",
     "output_type": "stream",
     "text": [
      "60:00 remaining\n",
      "59:59 remaining\n",
      "59:58 remaining\n",
      "59:57 remaining\n",
      "59:56 remaining\n",
      "59:55 remaining\n"
     ]
    }
   ],
   "source": [
    "# Run this cell to install all required libraries for this course notebook\n",
    "\n",
    "!pip install numpy pandas matplotlib seaborn scikit-learn scipy statstest-1.0.0-py3-none-any.whl ipywidgets\n",
    "import time\n",
    "import threading\n",
    "import ipywidgets as widgets\n",
    "from IPython.display import display\n",
    "\n",
    "timer_out = widgets.Output()\n",
    "display(timer_out)\n",
    "\n",
    "def countdown_timer(total_seconds=3600):\n",
    "    for remaining in range(total_seconds, 0, -1):\n",
    "        mins, secs = divmod(remaining, 60)\n",
    "        timeformat = f\"{mins:02d}:{secs:02d} remaining\"\n",
    "        with timer_out:\n",
    "            timer_out.clear_output(wait=True)\n",
    "            print(timeformat)\n",
    "        time.sleep(1)\n",
    "    with timer_out:\n",
    "        timer_out.clear_output(wait=True)\n",
    "        print(\"⏰⏰⏰ TIME IS UP! Please stop and submit your notebook. ⏰⏰⏰\")\n",
    "\n",
    "if '_timer_started' not in globals():\n",
    "    _timer_started = True\n",
    "    timer_thread = threading.Thread(target=countdown_timer, args=(3600,))\n",
    "    timer_thread.start()\n",
    "else:\n",
    "    print(\"Timer has already been started! Do not run this cell again.\")\n"
   ]
  },
  {
   "cell_type": "markdown",
   "metadata": {},
   "source": [
    "<a id='module-1'></a>\n",
    "# **Module 1: Introduction to Statistics & Data Exploration**\n",
    "\n",
    "### What is Statistics?\n",
    "Statistics is the science of collecting, analyzing, interpreting, presenting, and organizing data. It helps us make sense of data and draw conclusions.\n",
    "\n",
    "### Descriptive vs Inferential Statistics\n",
    "- **Descriptive Statistics** summarize and describe the features of a dataset (mean, median, etc.).\n",
    "- **Inferential Statistics** use sample data to make inferences or predictions about a population.\n",
    "\n",
    "### Types of Data\n",
    "- **Numerical (Quantitative):** Numbers (e.g., height, salary)\n",
    "- **Categorical (Qualitative):** Categories/labels (e.g., gender, color)\n",
    "- **Ordinal:** Categorical data with an order (e.g., rankings)\n",
    "\n",
    "### Measures of Central Tendency\n",
    "- **Mean:** Average value\n",
    "- **Median:** Middle value\n",
    "- **Mode:** Most frequent value\n",
    "\n",
    "### Measures of Variability\n",
    "- **Range:** Difference between max and min\n",
    "- **Variance:** Average squared deviation from mean\n",
    "- **Standard Deviation:** Square root of variance; measures spread\n",
    "\n",
    "Let's explore these concepts with Python!"
   ]
  },
  {
   "cell_type": "code",
   "execution_count": 3,
   "metadata": {},
   "outputs": [
    {
     "data": {
      "text/html": [
       "<div>\n",
       "<style scoped>\n",
       "    .dataframe tbody tr th:only-of-type {\n",
       "        vertical-align: middle;\n",
       "    }\n",
       "\n",
       "    .dataframe tbody tr th {\n",
       "        vertical-align: top;\n",
       "    }\n",
       "\n",
       "    .dataframe thead th {\n",
       "        text-align: right;\n",
       "    }\n",
       "</style>\n",
       "<table border=\"1\" class=\"dataframe\">\n",
       "  <thead>\n",
       "    <tr style=\"text-align: right;\">\n",
       "      <th></th>\n",
       "      <th>Age</th>\n",
       "      <th>Salary</th>\n",
       "      <th>Department</th>\n",
       "    </tr>\n",
       "  </thead>\n",
       "  <tbody>\n",
       "    <tr>\n",
       "      <th>0</th>\n",
       "      <td>23</td>\n",
       "      <td>50000</td>\n",
       "      <td>HR</td>\n",
       "    </tr>\n",
       "    <tr>\n",
       "      <th>1</th>\n",
       "      <td>45</td>\n",
       "      <td>80000</td>\n",
       "      <td>Engineering</td>\n",
       "    </tr>\n",
       "    <tr>\n",
       "      <th>2</th>\n",
       "      <td>12</td>\n",
       "      <td>12000</td>\n",
       "      <td>Sales</td>\n",
       "    </tr>\n",
       "    <tr>\n",
       "      <th>3</th>\n",
       "      <td>36</td>\n",
       "      <td>67000</td>\n",
       "      <td>Engineering</td>\n",
       "    </tr>\n",
       "    <tr>\n",
       "      <th>4</th>\n",
       "      <td>28</td>\n",
       "      <td>56000</td>\n",
       "      <td>HR</td>\n",
       "    </tr>\n",
       "    <tr>\n",
       "      <th>5</th>\n",
       "      <td>52</td>\n",
       "      <td>90000</td>\n",
       "      <td>Management</td>\n",
       "    </tr>\n",
       "    <tr>\n",
       "      <th>6</th>\n",
       "      <td>33</td>\n",
       "      <td>59000</td>\n",
       "      <td>Sales</td>\n",
       "    </tr>\n",
       "    <tr>\n",
       "      <th>7</th>\n",
       "      <td>41</td>\n",
       "      <td>76000</td>\n",
       "      <td>Engineering</td>\n",
       "    </tr>\n",
       "    <tr>\n",
       "      <th>8</th>\n",
       "      <td>25</td>\n",
       "      <td>51000</td>\n",
       "      <td>HR</td>\n",
       "    </tr>\n",
       "    <tr>\n",
       "      <th>9</th>\n",
       "      <td>39</td>\n",
       "      <td>73000</td>\n",
       "      <td>Management</td>\n",
       "    </tr>\n",
       "  </tbody>\n",
       "</table>\n",
       "</div>"
      ],
      "text/plain": [
       "   Age  Salary   Department\n",
       "0   23   50000           HR\n",
       "1   45   80000  Engineering\n",
       "2   12   12000        Sales\n",
       "3   36   67000  Engineering\n",
       "4   28   56000           HR\n",
       "5   52   90000   Management\n",
       "6   33   59000        Sales\n",
       "7   41   76000  Engineering\n",
       "8   25   51000           HR\n",
       "9   39   73000   Management"
      ]
     },
     "execution_count": 3,
     "metadata": {},
     "output_type": "execute_result"
    }
   ],
   "source": [
    "# Import packages\n",
    "import numpy as np\n",
    "import pandas as pd\n",
    "\n",
    "# Sample dataset\n",
    "data = {'Age': [23, 45, 12, 36, 28, 52, 33, 41, 25, 39],\n",
    "        'Salary': [50000, 80000, 12000, 67000, 56000, 90000, 59000, 76000, 51000, 73000],\n",
    "        'Department': ['HR', 'Engineering', 'Sales', 'Engineering', 'HR', 'Management', 'Sales', 'Engineering', 'HR', 'Management']}\n",
    "\n",
    "df = pd.DataFrame(data)\n",
    "df"
   ]
  },
  {
   "cell_type": "markdown",
   "metadata": {},
   "source": [
    "### Central Tendency in Practice"
   ]
  },
  {
   "cell_type": "code",
   "execution_count": 2,
   "metadata": {},
   "outputs": [
    {
     "name": "stdout",
     "output_type": "stream",
     "text": [
      "Mean Age: 33.4\n",
      "Median Age: 34.5\n",
      "Mode Age: 12\n"
     ]
    }
   ],
   "source": [
    "print('Mean Age:', df['Age'].mean())\n",
    "print('Median Age:', df['Age'].median())\n",
    "print('Mode Age:', df['Age'].mode()[0])"
   ]
  },
  {
   "cell_type": "markdown",
   "metadata": {},
   "source": [
    "### Variability in Practice"
   ]
  },
  {
   "cell_type": "code",
   "execution_count": 3,
   "metadata": {},
   "outputs": [
    {
     "name": "stdout",
     "output_type": "stream",
     "text": [
      "Range of Salary: 78000\n",
      "Variance of Salary: 472933333.3333333\n",
      "Standard Deviation of Salary: 21747.03044862294\n"
     ]
    }
   ],
   "source": [
    "print('Range of Salary:', df['Salary'].max() - df['Salary'].min())\n",
    "print('Variance of Salary:', df['Salary'].var())\n",
    "print('Standard Deviation of Salary:', df['Salary'].std())"
   ]
  },
  {
   "cell_type": "markdown",
   "metadata": {},
   "source": [
    "### Data Exploration\n",
    "Let's check some basic info and summary statistics."
   ]
  },
  {
   "cell_type": "code",
   "execution_count": null,
   "metadata": {},
   "outputs": [],
   "source": [
    "df.info()\n",
    "df.describe()"
   ]
  },
  {
   "cell_type": "markdown",
   "metadata": {},
   "source": [
    "#### Exercises\n",
    "1. Calculate the mean and median salary for each department. (Store in `mean_salary_by_dept` and `median_salary_by_dept`)\n",
    "2. What is the mode of the 'Department' column? (Store in `department_mode`)\n",
    "3. Find the standard deviation of ages for the HR department. (Store in `std_age_hr`)\n"
   ]
  },
  {
   "cell_type": "code",
   "execution_count": 4,
   "metadata": {},
   "outputs": [
    {
     "name": "stdout",
     "output_type": "stream",
     "text": [
      "Department\n",
      "Engineering    74333.333333\n",
      "HR             52333.333333\n",
      "Management     81500.000000\n",
      "Sales          35500.000000\n",
      "Name: Salary, dtype: float64\n"
     ]
    },
    {
     "data": {
      "text/plain": [
       "Department\n",
       "Engineering    76000.0\n",
       "HR             51000.0\n",
       "Management     81500.0\n",
       "Sales          35500.0\n",
       "Name: Salary, dtype: float64"
      ]
     },
     "execution_count": 4,
     "metadata": {},
     "output_type": "execute_result"
    }
   ],
   "source": [
    "# STUDENT: Write your answers below using the specified variable names.\n",
    "\n",
    "# mean_salary_by_dept = ...\n",
    "# median_salary_by_dept = ...\n",
    "# department_mode = ...\n",
    "# std_age_hr = ...\n",
    "mean_salary_by_dept = df.groupby('Department')['Salary'].mean()\n",
    "median_salary_by_dept = df.groupby('Department')['Salary'].median()\n",
    "print(mean_salary_by_dept)\n",
    "median_salary_by_dept\n"
   ]
  },
  {
   "cell_type": "code",
   "execution_count": 5,
   "metadata": {},
   "outputs": [
    {
     "data": {
      "text/plain": [
       "'Engineering'"
      ]
     },
     "execution_count": 5,
     "metadata": {},
     "output_type": "execute_result"
    }
   ],
   "source": [
    "department_mode = df['Department'].mode()[0]\n",
    "department_mode"
   ]
  },
  {
   "cell_type": "markdown",
   "metadata": {},
   "source": [
    "#### Validate Your Module 1 Solutions\n",
    "Run the cell below to check your answers for Module 1. The feedback and your score will be displayed."
   ]
  },
  {
   "cell_type": "code",
   "execution_count": 6,
   "metadata": {},
   "outputs": [
    {
     "data": {
      "text/plain": [
       "2.5166114784235836"
      ]
     },
     "execution_count": 6,
     "metadata": {},
     "output_type": "execute_result"
    }
   ],
   "source": [
    "std_age_hr = df[df['Department'] == 'HR']['Age'].std()\n",
    "std_age_hr"
   ]
  },
  {
   "cell_type": "code",
   "execution_count": 7,
   "metadata": {},
   "outputs": [
    {
     "name": "stdout",
     "output_type": "stream",
     "text": [
      "Module 1 Score: 4/4\n",
      "Q1: Mean salary by department correct.\n",
      "Q2: Median salary by department correct.\n",
      "Q3: Department mode correct.\n",
      "Q4: Standard deviation of age in HR correct.\n",
      "\n"
     ]
    }
   ],
   "source": [
    "try:\n",
    "    from statstest import test\n",
    "    test.test_module1(df, {\n",
    "    'mean_salary_by_dept': mean_salary_by_dept,\n",
    "    'median_salary_by_dept': median_salary_by_dept,\n",
    "    'department_mode': department_mode,\n",
    "    'std_age_hr': std_age_hr\n",
    "})\n",
    "except:\n",
    "    print(\"Try Again!\")"
   ]
  },
  {
   "cell_type": "markdown",
   "metadata": {},
   "source": [
    "---\n",
    "<a id='module-2'></a>\n",
    "# **Module 2: Data Visualization & Distributions**\n",
    "\n",
    "### Why Visualize Data?\n",
    "Visualization helps us understand patterns, trends, and outliers in data. It makes complex information accessible and actionable.\n",
    "\n",
    "### Common Plots\n",
    "- **Histogram:** Distribution of numeric data\n",
    "- **Boxplot:** Shows distribution, median, quartiles, and outliers\n",
    "- **Scatterplot:** Relationship between two numeric variables\n",
    "\n",
    "### Understanding Distributions\n",
    "- **Normal Distribution:** Bell-shaped, symmetric\n",
    "- **Skewed Distribution:** Data leans left or right\n",
    "\n",
    "Let's visualize!"
   ]
  },
  {
   "cell_type": "code",
   "execution_count": 4,
   "metadata": {},
   "outputs": [
    {
     "data": {
      "image/png": "[encoded data removed]",
      "text/plain": [
       "<Figure size 432x288 with 1 Axes>"
      ]
     },
     "metadata": {},
     "output_type": "display_data"
    },
    {
     "data": {
      "image/png": "[encoded data removed]",
      "text/plain": [
       "<Figure size 432x288 with 1 Axes>"
      ]
     },
     "metadata": {},
     "output_type": "display_data"
    },
    {
     "data": {
      "image/png": "[encoded data removed]",
      "text/plain": [
       "<Figure size 432x288 with 1 Axes>"
      ]
     },
     "metadata": {},
     "output_type": "display_data"
    }
   ],
   "source": [
    "import numpy as np\n",
    "import matplotlib.pyplot as plt\n",
    "import seaborn as sns\n",
    "sns.set(style=\"whitegrid\")\n",
    "\n",
    "# Histogram of Age\n",
    "df['Age'] = np.asarray(df[\"Age\"])\n",
    "df['Salary'] = pd.to_numeric(df['Salary'], errors='coerce')\n",
    "\n",
    "# Drop rows where Age or Salary is missing\n",
    "df = df.dropna(subset=['Age', 'Salary'])\n",
    "plt.figure(figsize=(6,4))\n",
    "sns.histplot(df['Age'], kde=True)\n",
    "plt.title('Age Distribution')\n",
    "plt.show()\n",
    "\n",
    "# Boxplot of Salary by Department\n",
    "plt.figure(figsize=(6,4))\n",
    "sns.boxplot(x='Department', y='Salary', data=df)\n",
    "plt.title('Salary Distribution by Department')\n",
    "plt.show()\n",
    "\n",
    "# Scatterplot Age vs Salary\n",
    "plt.figure(figsize=(6,4))\n",
    "sns.scatterplot(x='Age', y='Salary', data=df, hue='Department')\n",
    "plt.title('Age vs Salary')\n",
    "plt.show()"
   ]
  },
  {
   "cell_type": "code",
   "execution_count": 22,
   "metadata": {},
   "outputs": [
    {
     "name": "stdout",
     "output_type": "stream",
     "text": [
      "Defaulting to user installation because normal site-packages is not writeable\n",
      "Collecting seaborn==0.11.2\n",
      "  Downloading seaborn-0.11.2-py3-none-any.whl (292 kB)\n",
      "\u001b[2K     \u001b[38;2;114;156;31m━━━━━━━━━━━━━━━━━━━━━━━━━━━━━━━━━━━━━\u001b[0m \u001b[32m292.8/292.8 KB\u001b[0m \u001b[31m615.3 kB/s\u001b[0m eta \u001b[36m0:00:00\u001b[0m[36m0:00:01\u001b[0mm eta \u001b[36m0:00:01\u001b[0m\n",
      "\u001b[?25hCollecting pandas==1.5.3\n",
      "  Downloading pandas-1.5.3-cp310-cp310-manylinux_2_17_x86_64.manylinux2014_x86_64.whl (12.1 MB)\n",
      "\u001b[2K     \u001b[38;2;114;156;31m━━━━━━━━━━━━━━━━━━━━━━━━━━━━━━━━━━━━━━━━\u001b[0m \u001b[32m12.1/12.1 MB\u001b[0m \u001b[31m3.3 MB/s\u001b[0m eta \u001b[36m0:00:00\u001b[0mm eta \u001b[36m0:00:01\u001b[0m[36m0:00:01\u001b[0m\n",
      "\u001b[?25hRequirement already satisfied: scipy>=1.0 in /usr/lib/python3/dist-packages (from seaborn==0.11.2) (1.8.0)\n",
      "Requirement already satisfied: matplotlib>=2.2 in /usr/lib/python3/dist-packages (from seaborn==0.11.2) (3.5.1)\n",
      "Requirement already satisfied: numpy>=1.15 in /home/kalyan/.local/lib/python3.10/site-packages (from seaborn==0.11.2) (1.24.4)\n",
      "Requirement already satisfied: pytz>=2020.1 in /usr/lib/python3/dist-packages (from pandas==1.5.3) (2022.1)\n",
      "Requirement already satisfied: python-dateutil>=2.8.1 in /home/kalyan/.local/lib/python3.10/site-packages (from pandas==1.5.3) (2.8.2)\n",
      "Requirement already satisfied: six>=1.5 in /usr/lib/python3/dist-packages (from python-dateutil>=2.8.1->pandas==1.5.3) (1.16.0)\n",
      "Installing collected packages: pandas, seaborn\n",
      "  Attempting uninstall: pandas\n",
      "    Found existing installation: pandas 2.2.3\n",
      "    Uninstalling pandas-2.2.3:\n",
      "      Successfully uninstalled pandas-2.2.3\n",
      "  Attempting uninstall: seaborn\n",
      "    Found existing installation: seaborn 0.13.2\n",
      "    Uninstalling seaborn-0.13.2:\n",
      "      Successfully uninstalled seaborn-0.13.2\n",
      "Successfully installed pandas-1.5.3 seaborn-0.11.2\n",
      "Note: you may need to restart the kernel to use updated packages.\n"
     ]
    }
   ],
   "source": [
    "pip install seaborn==0.11.2 pandas==1.5.3\n"
   ]
  },
  {
   "cell_type": "markdown",
   "metadata": {},
   "source": [
    "#### Exercises\n",
    "1. Plot a histogram for Salaries. (Store your matplotlib Figure in `salary_hist_fig`)\n",
    "2. Create a boxplot for Age by Department. (Store your matplotlib Figure in `age_box_fig`)\n",
    "3. In a variable `has_outliers`, set to True if you observe any outliers in the boxplot, else False.\n"
   ]
  },
  {
   "cell_type": "code",
   "execution_count": 15,
   "metadata": {},
   "outputs": [
    {
     "data": {
      "image/png": "[encoded data removed]",
      "text/plain": [
       "<Figure size 432x288 with 1 Axes>"
      ]
     },
     "metadata": {},
     "output_type": "display_data"
    }
   ],
   "source": [
    "# STUDENT: Write your answers below\n",
    "\n",
    "# salary_hist_fig = ...\n",
    "# age_box_fig = ...\n",
    "# has_outliers = ...\n",
    "salary_hist_fig = plt.figure()\n",
    "plt.hist(df['Salary'], bins=8, color='skyblue', edgecolor='black')\n",
    "plt.title('Histogram of Salaries')\n",
    "plt.xlabel('Salary')\n",
    "plt.ylabel('Frequency')\n",
    "plt.grid(True)\n",
    "plt.tight_layout()\n",
    "plt.show()"
   ]
  },
  {
   "cell_type": "code",
   "execution_count": 16,
   "metadata": {},
   "outputs": [
    {
     "data": {
      "image/png": "[encoded data removed]",
      "text/plain": [
       "<Figure size 432x288 with 1 Axes>"
      ]
     },
     "metadata": {},
     "output_type": "display_data"
    }
   ],
   "source": [
    "age_box_fig = plt.figure()\n",
    "sns.boxplot(x='Department', y='Age', data=df)\n",
    "plt.title('Boxplot of Age by Department')\n",
    "plt.xlabel('Department')\n",
    "plt.ylabel('Age')\n",
    "plt.grid(True)\n",
    "plt.tight_layout()\n",
    "plt.show()"
   ]
  },
  {
   "cell_type": "code",
   "execution_count": 17,
   "metadata": {},
   "outputs": [],
   "source": [
    "has_outliers = True  "
   ]
  },
  {
   "cell_type": "markdown",
   "metadata": {},
   "source": [
    "#### Validate Your Module 2 Solutions\n",
    "Run the cell below to check your answers for Module 2. The feedback and your score will be displayed."
   ]
  },
  {
   "cell_type": "code",
   "execution_count": 18,
   "metadata": {},
   "outputs": [
    {
     "name": "stdout",
     "output_type": "stream",
     "text": [
      "Module 2 Score: 3/3\n",
      "Q1: Salary histogram figure present.\n",
      "Q2: Age boxplot figure present.\n",
      "Q3: Outlier detection variable present.\n",
      "\n"
     ]
    }
   ],
   "source": [
    "try:\n",
    "    from statstest import test\n",
    "    test.test_module2(df, {\n",
    "    'salary_hist_fig': salary_hist_fig,\n",
    "    'age_box_fig': age_box_fig,\n",
    "    'has_outliers': has_outliers\n",
    "})\n",
    "except:\n",
    "    print(\"Try Again!\")"
   ]
  },
  {
   "cell_type": "markdown",
   "metadata": {},
   "source": [
    "---\n",
    "<a id='module-3'></a>\n",
    "# **Module 3: Probability & Sampling**\n",
    "\n",
    "### What is Probability?\n",
    "Probability measures the likelihood of an event occurring, between 0 (impossible) and 1 (certain).\n",
    "\n",
    "### Probability Distributions\n",
    "- **Normal Distribution:** Most data falls near the mean\n",
    "- **Binomial Distribution:** Number of successes in fixed trials (e.g., coin toss)\n",
    "- **Uniform Distribution:** All outcomes equally likely\n",
    "\n",
    "### Sampling\n",
    "- **Random Sampling:** Every data point has equal chance\n",
    "- **Stratified Sampling:** Data divided into subgroups, samples taken from each\n",
    "\n",
    "### Central Limit Theorem (CLT)\n",
    "CLT states that the sampling distribution of the sample mean approaches a normal distribution, as the sample size increases, regardless of the original distribution.\n",
    "\n",
    "Let's simulate some probabilities!"
   ]
  },
  {
   "cell_type": "code",
   "execution_count": 7,
   "metadata": {},
   "outputs": [
    {
     "data": {
      "image/png": "[encoded data removed]",
      "text/plain": [
       "<Figure size 432x288 with 1 Axes>"
      ]
     },
     "metadata": {},
     "output_type": "display_data"
    },
    {
     "data": {
      "image/png": "[encoded data removed]",
      "text/plain": [
       "<Figure size 432x288 with 1 Axes>"
      ]
     },
     "metadata": {},
     "output_type": "display_data"
    },
    {
     "data": {
      "image/png": "[encoded data removed]",
      "text/plain": [
       "<Figure size 432x288 with 1 Axes>"
      ]
     },
     "metadata": {},
     "output_type": "display_data"
    }
   ],
   "source": [
    "\n",
    "\n",
    "from scipy.stats import norm, binom\n",
    "import seaborn as sns\n",
    "import matplotlib.pyplot as plt\n",
    "\n",
    "# Normal Distribution\n",
    "mu, sigma = 0, 1\n",
    "data_norm = np.random.normal(mu, sigma, 1000)\n",
    "plt.figure(figsize=(6,4))\n",
    "sns.histplot(data_norm, kde=True)\n",
    "plt.title('Simulated Normal Distribution')\n",
    "plt.show()\n",
    "\n",
    "# Binomial Distribution (e.g. 10 coin tosses, p=0.5)\n",
    "n, p = 10, 0.5\n",
    "data_binom = binom.rvs(n, p, size=1000)\n",
    "plt.figure(figsize=(6,4))\n",
    "sns.histplot(data_binom, kde=False, bins=n+1)\n",
    "plt.title('Simulated Binomial Distribution (10 coin tosses)')\n",
    "plt.show()\n",
    "\n",
    "# Central Limit Theorem: mean of random samples\n",
    "means = [np.mean(np.random.choice(data_norm, 30)) for _ in range(1000)]\n",
    "plt.figure(figsize=(6,4))\n",
    "sns.histplot(means, kde=True)\n",
    "plt.title('Means of 1000 samples of size 30 (CLT)')\n",
    "plt.show()\n",
    "\n",
    "\n"
   ]
  },
  {
   "cell_type": "markdown",
   "metadata": {},
   "source": [
    "#### Exercises\n",
    "1. Simulate and plot a uniform distribution of 1000 values in [0,1]. (Store the array as `uniform_data` and the figure as `uniform_fig`)\n",
    "2. Try changing the parameters of the binomial distribution (n, p). What do you observe? (Store a short answer string in `binom_observation`)\n",
    "3. In a variable `clt_reason`, explain briefly why the CLT matters in machine learning (as a string).\n"
   ]
  },
  {
   "cell_type": "code",
   "execution_count": 9,
   "metadata": {},
   "outputs": [
    {
     "data": {
      "image/png": "[encoded data removed]",
      "text/plain": [
       "<Figure size 432x288 with 1 Axes>"
      ]
     },
     "metadata": {},
     "output_type": "display_data"
    }
   ],
   "source": [
    "# STUDENT: Write your answers below\n",
    "\n",
    "# uniform_data = ...\n",
    "# uniform_fig = ...\n",
    "# binom_observation = ...\n",
    "# clt_reason = ...\n",
    "\n",
    "uniform_data = np.random.uniform(0, 1, 1000)\n",
    "\n",
    "uniform_fig = plt.figure()\n",
    "sns.histplot(uniform_data, bins=20,kde=True, color='red', edgecolor='black')\n",
    "plt.title('Uniform Distribution [0,1]')\n",
    "plt.xlabel('Value')\n",
    "plt.ylabel('Frequency')\n",
    "plt.grid(True)\n",
    "plt.tight_layout()"
   ]
  },
  {
   "cell_type": "code",
   "execution_count": 21,
   "metadata": {},
   "outputs": [],
   "source": [
    "binom_observation = (\n",
    "    \"As n increases and p stays small, the distribution becomes more symmetric. \"\n",
    "    \"With small n or extreme p (close to 0 or 1), the distribution becomes skewed.\"\n",
    ")\n"
   ]
  },
  {
   "cell_type": "code",
   "execution_count": 22,
   "metadata": {},
   "outputs": [],
   "source": [
    "clt_reason = (\n",
    "    \"The CLT explains why the sampling distribution of the mean becomes approximately normal \"\n",
    "    \"for large sample sizes, regardless of the original distribution. This allows ML models to use \"\n",
    "    \"normal-based methods and makes statistical inference more reliable.\"\n",
    ")"
   ]
  },
  {
   "cell_type": "code",
   "execution_count": null,
   "metadata": {},
   "outputs": [],
   "source": []
  },
  {
   "cell_type": "markdown",
   "metadata": {},
   "source": [
    "#### Validate Your Module 3 Solutions\n",
    "Run the cell below to check your answers for Module 3. The feedback and your score will be displayed."
   ]
  },
  {
   "cell_type": "code",
   "execution_count": 23,
   "metadata": {},
   "outputs": [
    {
     "name": "stdout",
     "output_type": "stream",
     "text": [
      "Module 3 Score: 4/4\n",
      "Q1: Uniform distribution simulation correct.\n",
      "Q2: Uniform distribution figure present.\n",
      "Q3: Binomial observation answer present.\n",
      "Q4: CLT reason answer present.\n",
      "\n"
     ]
    }
   ],
   "source": [
    "try:\n",
    "    from statstest import test\n",
    "    test.test_module3(df, {\n",
    "    'uniform_data': uniform_data,\n",
    "    'uniform_fig': uniform_fig,\n",
    "    'binom_observation': binom_observation,\n",
    "    'clt_reason': clt_reason\n",
    "})\n",
    "except:\n",
    "    print(\"Try Again!\")"
   ]
  },
  {
   "cell_type": "markdown",
   "metadata": {},
   "source": [
    "---\n",
    "<a id='module-4'></a>\n",
    "# **Module 4: Hypothesis Testing & Statistical Inference**\n",
    "\n",
    "### What is Hypothesis Testing?\n",
    "A method to decide whether there is enough evidence to reject a hypothesis about a population.\n",
    "\n",
    "### Steps in Hypothesis Testing\n",
    "1. State the null (H0) and alternative (H1) hypotheses\n",
    "2. Choose a significance level (alpha, e.g., 0.05)\n",
    "3. Calculate a test statistic\n",
    "4. Find the p-value\n",
    "5. Reject or fail to reject H0\n",
    "\n",
    "### Common Tests\n",
    "- **t-test:** Compare means of two groups\n",
    "- **Chi-square test:** Compare categorical variables\n",
    "- **ANOVA:** Compare means of more than two groups\n",
    "\n",
    "Let's practice with Python!"
   ]
  },
  {
   "cell_type": "code",
   "execution_count": 24,
   "metadata": {},
   "outputs": [
    {
     "name": "stdout",
     "output_type": "stream",
     "text": [
      "t-statistic: 5.153734142323998\n",
      "p-value: 0.006727071309846925\n",
      "Reject the null hypothesis (means are different)\n"
     ]
    }
   ],
   "source": [
    "from scipy import stats\n",
    "\n",
    "# Example: Is the mean salary in Engineering different from HR?\n",
    "eng_salary = df[df['Department'] == 'Engineering']['Salary']\n",
    "hr_salary = df[df['Department'] == 'HR']['Salary']\n",
    "\n",
    "t_stat, p_val = stats.ttest_ind(eng_salary, hr_salary)\n",
    "print('t-statistic:', t_stat)\n",
    "print('p-value:', p_val)\n",
    "if p_val < 0.05:\n",
    "    print('Reject the null hypothesis (means are different)')\n",
    "else:\n",
    "    print('Fail to reject the null hypothesis (means are similar)')"
   ]
  },
  {
   "cell_type": "markdown",
   "metadata": {},
   "source": [
    "#### Exercises\n",
    "1. Test if the mean age is different between Management and Sales departments (store p-value as `p_age_mgmt_sales` and True/False in `age_diff_significant` for p<0.05).\n",
    "2. What does it mean if the p-value is less than 0.05? (Store in `pval_meaning` string)\n",
    "3. Try a chi-square test for the relationship between Department and whether Salary > 60000. Store the p-value as `p_chi2`.\n"
   ]
  },
  {
   "cell_type": "code",
   "execution_count": 25,
   "metadata": {},
   "outputs": [
    {
     "name": "stdout",
     "output_type": "stream",
     "text": [
      "0.2280729428298039\n"
     ]
    },
    {
     "data": {
      "text/plain": [
       "False"
      ]
     },
     "execution_count": 25,
     "metadata": {},
     "output_type": "execute_result"
    }
   ],
   "source": [
    "# STUDENT: Write your answers below\n",
    "\n",
    "# p_age_mgmt_sales = ...\n",
    "# age_diff_significant = ...\n",
    "# pval_meaning = ...\n",
    "# p_chi2 = ..\n",
    "from scipy import stats\n",
    "\n",
    "# 1. t-test for age difference between Management and Sales\n",
    "ages_mgmt = df[df['Department'] == 'Management']['Age']\n",
    "ages_sales = df[df['Department'] == 'Sales']['Age']\n",
    "t_stat, p_age_mgmt_sales = stats.ttest_ind(ages_mgmt, ages_sales, equal_var=False)  \n",
    "age_diff_significant = p_age_mgmt_sales < 0.05\n",
    "print(p_age_mgmt_sales)\n",
    "age_diff_significant\n"
   ]
  },
  {
   "cell_type": "code",
   "execution_count": 26,
   "metadata": {},
   "outputs": [
    {
     "data": {
      "text/plain": [
       "'If the p-value is less than 0.05, we reject the null hypothesis and conclude that there is a statistically significant difference.'"
      ]
     },
     "execution_count": 26,
     "metadata": {},
     "output_type": "execute_result"
    }
   ],
   "source": [
    "pval_meaning = (\n",
    "    \"If the p-value is less than 0.05, we reject the null hypothesis and conclude that there is a statistically significant difference.\"\n",
    ")\n",
    "pval_meaning"
   ]
  },
  {
   "cell_type": "code",
   "execution_count": 27,
   "metadata": {},
   "outputs": [
    {
     "data": {
      "text/plain": [
       "0.01856613546304325"
      ]
     },
     "execution_count": 27,
     "metadata": {},
     "output_type": "execute_result"
    }
   ],
   "source": [
    "df['High_Salary'] = df['Salary'] > 60000\n",
    "contingency_table = pd.crosstab(df['Department'], df['High_Salary'])\n",
    "chi2_stat, p_chi2, dof, expected = stats.chi2_contingency(contingency_table)\n",
    "p_chi2"
   ]
  },
  {
   "cell_type": "markdown",
   "metadata": {},
   "source": [
    "#### Validate Your Module 4 Solutions\n",
    "Run the cell below to check your answers for Module 4. The feedback and your score will be displayed."
   ]
  },
  {
   "cell_type": "code",
   "execution_count": 28,
   "metadata": {},
   "outputs": [
    {
     "name": "stdout",
     "output_type": "stream",
     "text": [
      "Module 4 Score: 4/4\n",
      "Q1: p-value for age difference present and valid.\n",
      "Q2: Significance variable present.\n",
      "Q3: p-value meaning answer present and mentions 'reject'.\n",
      "Q4: Chi-square p-value present and valid.\n",
      "\n"
     ]
    }
   ],
   "source": [
    "try:\n",
    "    from statstest import test\n",
    "    test.test_module4(df, {\n",
    "    'p_age_mgmt_sales': p_age_mgmt_sales,\n",
    "    'age_diff_significant': age_diff_significant,\n",
    "    'pval_meaning': pval_meaning,\n",
    "    'p_chi2': p_chi2\n",
    "})\n",
    "except:\n",
    "    print(\"Try Again!\")"
   ]
  },
  {
   "cell_type": "markdown",
   "metadata": {},
   "source": [
    "---\n",
    "<a id='module-5'></a>\n",
    "# **Module 5: Correlation, Regression & Feature Relationships**\n",
    "\n",
    "### Correlation\n",
    "Correlation measures how two variables move together.\n",
    "- **Pearson correlation:** Linear relationship (-1 to +1)\n",
    "- **Spearman correlation:** Monotonic relationship (not necessarily linear)\n",
    "\n",
    "### Linear Regression\n",
    "A method to model the relationship between a dependent variable and one or more independent variables.\n",
    "\n",
    "- **Simple Linear Regression:** One input, one output\n",
    "- **Overfitting/Underfitting:** Too complex/simple models can hurt predictions\n",
    "\n",
    "Let's try them in Python!"
   ]
  },
  {
   "cell_type": "code",
   "execution_count": 29,
   "metadata": {},
   "outputs": [
    {
     "name": "stdout",
     "output_type": "stream",
     "text": [
      "Correlation matrix:\n",
      "              Age    Salary\n",
      "Age     1.000000  0.970343\n",
      "Salary  0.970343  1.000000\n",
      "Regression Coefficient (slope): 1796.0399227301991\n",
      "Intercept: 1412.2665808113525\n"
     ]
    },
    {
     "ename": "ValueError",
     "evalue": "Multi-dimensional indexing (e.g. `obj[:, None]`) is no longer supported. Convert to a numpy array before indexing instead.",
     "output_type": "error",
     "traceback": [
      "\u001b[0;31m---------------------------------------------------------------------------\u001b[0m",
      "\u001b[0;31mValueError\u001b[0m                                Traceback (most recent call last)",
      "\u001b[0;32m/tmp/ipykernel_25563/926481622.py\u001b[0m in \u001b[0;36m<module>\u001b[0;34m\u001b[0m\n\u001b[1;32m     17\u001b[0m \u001b[0mplt\u001b[0m\u001b[0;34m.\u001b[0m\u001b[0mfigure\u001b[0m\u001b[0;34m(\u001b[0m\u001b[0mfigsize\u001b[0m\u001b[0;34m=\u001b[0m\u001b[0;34m(\u001b[0m\u001b[0;36m6\u001b[0m\u001b[0;34m,\u001b[0m\u001b[0;36m4\u001b[0m\u001b[0;34m)\u001b[0m\u001b[0;34m)\u001b[0m\u001b[0;34m\u001b[0m\u001b[0;34m\u001b[0m\u001b[0m\n\u001b[1;32m     18\u001b[0m \u001b[0msns\u001b[0m\u001b[0;34m.\u001b[0m\u001b[0mscatterplot\u001b[0m\u001b[0;34m(\u001b[0m\u001b[0mx\u001b[0m\u001b[0;34m=\u001b[0m\u001b[0;34m'Age'\u001b[0m\u001b[0;34m,\u001b[0m \u001b[0my\u001b[0m\u001b[0;34m=\u001b[0m\u001b[0;34m'Salary'\u001b[0m\u001b[0;34m,\u001b[0m \u001b[0mdata\u001b[0m\u001b[0;34m=\u001b[0m\u001b[0mdf\u001b[0m\u001b[0;34m)\u001b[0m\u001b[0;34m\u001b[0m\u001b[0;34m\u001b[0m\u001b[0m\n\u001b[0;32m---> 19\u001b[0;31m \u001b[0mplt\u001b[0m\u001b[0;34m.\u001b[0m\u001b[0mplot\u001b[0m\u001b[0;34m(\u001b[0m\u001b[0mdf\u001b[0m\u001b[0;34m[\u001b[0m\u001b[0;34m'Age'\u001b[0m\u001b[0;34m]\u001b[0m\u001b[0;34m,\u001b[0m \u001b[0mmodel\u001b[0m\u001b[0;34m.\u001b[0m\u001b[0mpredict\u001b[0m\u001b[0;34m(\u001b[0m\u001b[0mX\u001b[0m\u001b[0;34m)\u001b[0m\u001b[0;34m,\u001b[0m \u001b[0mcolor\u001b[0m\u001b[0;34m=\u001b[0m\u001b[0;34m'red'\u001b[0m\u001b[0;34m)\u001b[0m\u001b[0;34m\u001b[0m\u001b[0;34m\u001b[0m\u001b[0m\n\u001b[0m\u001b[1;32m     20\u001b[0m \u001b[0mplt\u001b[0m\u001b[0;34m.\u001b[0m\u001b[0mtitle\u001b[0m\u001b[0;34m(\u001b[0m\u001b[0;34m'Linear Regression: Salary vs Age'\u001b[0m\u001b[0;34m)\u001b[0m\u001b[0;34m\u001b[0m\u001b[0;34m\u001b[0m\u001b[0m\n\u001b[1;32m     21\u001b[0m \u001b[0mplt\u001b[0m\u001b[0;34m.\u001b[0m\u001b[0mshow\u001b[0m\u001b[0;34m(\u001b[0m\u001b[0;34m)\u001b[0m\u001b[0;34m\u001b[0m\u001b[0;34m\u001b[0m\u001b[0m\n",
      "\u001b[0;32m/usr/lib/python3/dist-packages/matplotlib/pyplot.py\u001b[0m in \u001b[0;36mplot\u001b[0;34m(scalex, scaley, data, *args, **kwargs)\u001b[0m\n\u001b[1;32m   2755\u001b[0m \u001b[0;34m@\u001b[0m\u001b[0m_copy_docstring_and_deprecators\u001b[0m\u001b[0;34m(\u001b[0m\u001b[0mAxes\u001b[0m\u001b[0;34m.\u001b[0m\u001b[0mplot\u001b[0m\u001b[0;34m)\u001b[0m\u001b[0;34m\u001b[0m\u001b[0;34m\u001b[0m\u001b[0m\n\u001b[1;32m   2756\u001b[0m \u001b[0;32mdef\u001b[0m \u001b[0mplot\u001b[0m\u001b[0;34m(\u001b[0m\u001b[0;34m*\u001b[0m\u001b[0margs\u001b[0m\u001b[0;34m,\u001b[0m \u001b[0mscalex\u001b[0m\u001b[0;34m=\u001b[0m\u001b[0;32mTrue\u001b[0m\u001b[0;34m,\u001b[0m \u001b[0mscaley\u001b[0m\u001b[0;34m=\u001b[0m\u001b[0;32mTrue\u001b[0m\u001b[0;34m,\u001b[0m \u001b[0mdata\u001b[0m\u001b[0;34m=\u001b[0m\u001b[0;32mNone\u001b[0m\u001b[0;34m,\u001b[0m \u001b[0;34m**\u001b[0m\u001b[0mkwargs\u001b[0m\u001b[0;34m)\u001b[0m\u001b[0;34m:\u001b[0m\u001b[0;34m\u001b[0m\u001b[0;34m\u001b[0m\u001b[0m\n\u001b[0;32m-> 2757\u001b[0;31m     return gca().plot(\n\u001b[0m\u001b[1;32m   2758\u001b[0m         \u001b[0;34m*\u001b[0m\u001b[0margs\u001b[0m\u001b[0;34m,\u001b[0m \u001b[0mscalex\u001b[0m\u001b[0;34m=\u001b[0m\u001b[0mscalex\u001b[0m\u001b[0;34m,\u001b[0m \u001b[0mscaley\u001b[0m\u001b[0;34m=\u001b[0m\u001b[0mscaley\u001b[0m\u001b[0;34m,\u001b[0m\u001b[0;34m\u001b[0m\u001b[0;34m\u001b[0m\u001b[0m\n\u001b[1;32m   2759\u001b[0m         **({\"data\": data} if data is not None else {}), **kwargs)\n",
      "\u001b[0;32m/usr/lib/python3/dist-packages/matplotlib/axes/_axes.py\u001b[0m in \u001b[0;36mplot\u001b[0;34m(self, scalex, scaley, data, *args, **kwargs)\u001b[0m\n\u001b[1;32m   1630\u001b[0m         \"\"\"\n\u001b[1;32m   1631\u001b[0m         \u001b[0mkwargs\u001b[0m \u001b[0;34m=\u001b[0m \u001b[0mcbook\u001b[0m\u001b[0;34m.\u001b[0m\u001b[0mnormalize_kwargs\u001b[0m\u001b[0;34m(\u001b[0m\u001b[0mkwargs\u001b[0m\u001b[0;34m,\u001b[0m \u001b[0mmlines\u001b[0m\u001b[0;34m.\u001b[0m\u001b[0mLine2D\u001b[0m\u001b[0;34m)\u001b[0m\u001b[0;34m\u001b[0m\u001b[0;34m\u001b[0m\u001b[0m\n\u001b[0;32m-> 1632\u001b[0;31m         \u001b[0mlines\u001b[0m \u001b[0;34m=\u001b[0m \u001b[0;34m[\u001b[0m\u001b[0;34m*\u001b[0m\u001b[0mself\u001b[0m\u001b[0;34m.\u001b[0m\u001b[0m_get_lines\u001b[0m\u001b[0;34m(\u001b[0m\u001b[0;34m*\u001b[0m\u001b[0margs\u001b[0m\u001b[0;34m,\u001b[0m \u001b[0mdata\u001b[0m\u001b[0;34m=\u001b[0m\u001b[0mdata\u001b[0m\u001b[0;34m,\u001b[0m \u001b[0;34m**\u001b[0m\u001b[0mkwargs\u001b[0m\u001b[0;34m)\u001b[0m\u001b[0;34m]\u001b[0m\u001b[0;34m\u001b[0m\u001b[0;34m\u001b[0m\u001b[0m\n\u001b[0m\u001b[1;32m   1633\u001b[0m         \u001b[0;32mfor\u001b[0m \u001b[0mline\u001b[0m \u001b[0;32min\u001b[0m \u001b[0mlines\u001b[0m\u001b[0;34m:\u001b[0m\u001b[0;34m\u001b[0m\u001b[0;34m\u001b[0m\u001b[0m\n\u001b[1;32m   1634\u001b[0m             \u001b[0mself\u001b[0m\u001b[0;34m.\u001b[0m\u001b[0madd_line\u001b[0m\u001b[0;34m(\u001b[0m\u001b[0mline\u001b[0m\u001b[0;34m)\u001b[0m\u001b[0;34m\u001b[0m\u001b[0;34m\u001b[0m\u001b[0m\n",
      "\u001b[0;32m/usr/lib/python3/dist-packages/matplotlib/axes/_base.py\u001b[0m in \u001b[0;36m__call__\u001b[0;34m(self, data, *args, **kwargs)\u001b[0m\n\u001b[1;32m    310\u001b[0m                 \u001b[0mthis\u001b[0m \u001b[0;34m+=\u001b[0m \u001b[0margs\u001b[0m\u001b[0;34m[\u001b[0m\u001b[0;36m0\u001b[0m\u001b[0;34m]\u001b[0m\u001b[0;34m,\u001b[0m\u001b[0;34m\u001b[0m\u001b[0;34m\u001b[0m\u001b[0m\n\u001b[1;32m    311\u001b[0m                 \u001b[0margs\u001b[0m \u001b[0;34m=\u001b[0m \u001b[0margs\u001b[0m\u001b[0;34m[\u001b[0m\u001b[0;36m1\u001b[0m\u001b[0;34m:\u001b[0m\u001b[0;34m]\u001b[0m\u001b[0;34m\u001b[0m\u001b[0;34m\u001b[0m\u001b[0m\n\u001b[0;32m--> 312\u001b[0;31m             \u001b[0;32myield\u001b[0m \u001b[0;32mfrom\u001b[0m \u001b[0mself\u001b[0m\u001b[0;34m.\u001b[0m\u001b[0m_plot_args\u001b[0m\u001b[0;34m(\u001b[0m\u001b[0mthis\u001b[0m\u001b[0;34m,\u001b[0m \u001b[0mkwargs\u001b[0m\u001b[0;34m)\u001b[0m\u001b[0;34m\u001b[0m\u001b[0;34m\u001b[0m\u001b[0m\n\u001b[0m\u001b[1;32m    313\u001b[0m \u001b[0;34m\u001b[0m\u001b[0m\n\u001b[1;32m    314\u001b[0m     \u001b[0;32mdef\u001b[0m \u001b[0mget_next_color\u001b[0m\u001b[0;34m(\u001b[0m\u001b[0mself\u001b[0m\u001b[0;34m)\u001b[0m\u001b[0;34m:\u001b[0m\u001b[0;34m\u001b[0m\u001b[0;34m\u001b[0m\u001b[0m\n",
      "\u001b[0;32m/usr/lib/python3/dist-packages/matplotlib/axes/_base.py\u001b[0m in \u001b[0;36m_plot_args\u001b[0;34m(self, tup, kwargs, return_kwargs)\u001b[0m\n\u001b[1;32m    485\u001b[0m \u001b[0;34m\u001b[0m\u001b[0m\n\u001b[1;32m    486\u001b[0m         \u001b[0;32mif\u001b[0m \u001b[0mlen\u001b[0m\u001b[0;34m(\u001b[0m\u001b[0mxy\u001b[0m\u001b[0;34m)\u001b[0m \u001b[0;34m==\u001b[0m \u001b[0;36m2\u001b[0m\u001b[0;34m:\u001b[0m\u001b[0;34m\u001b[0m\u001b[0;34m\u001b[0m\u001b[0m\n\u001b[0;32m--> 487\u001b[0;31m             \u001b[0mx\u001b[0m \u001b[0;34m=\u001b[0m \u001b[0m_check_1d\u001b[0m\u001b[0;34m(\u001b[0m\u001b[0mxy\u001b[0m\u001b[0;34m[\u001b[0m\u001b[0;36m0\u001b[0m\u001b[0;34m]\u001b[0m\u001b[0;34m)\u001b[0m\u001b[0;34m\u001b[0m\u001b[0;34m\u001b[0m\u001b[0m\n\u001b[0m\u001b[1;32m    488\u001b[0m             \u001b[0my\u001b[0m \u001b[0;34m=\u001b[0m \u001b[0m_check_1d\u001b[0m\u001b[0;34m(\u001b[0m\u001b[0mxy\u001b[0m\u001b[0;34m[\u001b[0m\u001b[0;36m1\u001b[0m\u001b[0;34m]\u001b[0m\u001b[0;34m)\u001b[0m\u001b[0;34m\u001b[0m\u001b[0;34m\u001b[0m\u001b[0m\n\u001b[1;32m    489\u001b[0m         \u001b[0;32melse\u001b[0m\u001b[0;34m:\u001b[0m\u001b[0;34m\u001b[0m\u001b[0;34m\u001b[0m\u001b[0m\n",
      "\u001b[0;32m/usr/lib/python3/dist-packages/matplotlib/cbook/__init__.py\u001b[0m in \u001b[0;36m_check_1d\u001b[0;34m(x)\u001b[0m\n\u001b[1;32m   1325\u001b[0m                     message='Support for multi-dimensional indexing')\n\u001b[1;32m   1326\u001b[0m \u001b[0;34m\u001b[0m\u001b[0m\n\u001b[0;32m-> 1327\u001b[0;31m                 \u001b[0mndim\u001b[0m \u001b[0;34m=\u001b[0m \u001b[0mx\u001b[0m\u001b[0;34m[\u001b[0m\u001b[0;34m:\u001b[0m\u001b[0;34m,\u001b[0m \u001b[0;32mNone\u001b[0m\u001b[0;34m]\u001b[0m\u001b[0;34m.\u001b[0m\u001b[0mndim\u001b[0m\u001b[0;34m\u001b[0m\u001b[0;34m\u001b[0m\u001b[0m\n\u001b[0m\u001b[1;32m   1328\u001b[0m                 \u001b[0;31m# we have definitely hit a pandas index or series object\u001b[0m\u001b[0;34m\u001b[0m\u001b[0;34m\u001b[0m\u001b[0m\n\u001b[1;32m   1329\u001b[0m                 \u001b[0;31m# cast to a numpy array.\u001b[0m\u001b[0;34m\u001b[0m\u001b[0;34m\u001b[0m\u001b[0m\n",
      "\u001b[0;32m~/.local/lib/python3.10/site-packages/pandas/core/series.py\u001b[0m in \u001b[0;36m__getitem__\u001b[0;34m(self, key)\u001b[0m\n\u001b[1;32m   1151\u001b[0m             \u001b[0;32mreturn\u001b[0m \u001b[0mself\u001b[0m\u001b[0;34m.\u001b[0m\u001b[0m_get_rows_with_mask\u001b[0m\u001b[0;34m(\u001b[0m\u001b[0mkey\u001b[0m\u001b[0;34m)\u001b[0m\u001b[0;34m\u001b[0m\u001b[0;34m\u001b[0m\u001b[0m\n\u001b[1;32m   1152\u001b[0m \u001b[0;34m\u001b[0m\u001b[0m\n\u001b[0;32m-> 1153\u001b[0;31m         \u001b[0;32mreturn\u001b[0m \u001b[0mself\u001b[0m\u001b[0;34m.\u001b[0m\u001b[0m_get_with\u001b[0m\u001b[0;34m(\u001b[0m\u001b[0mkey\u001b[0m\u001b[0;34m)\u001b[0m\u001b[0;34m\u001b[0m\u001b[0;34m\u001b[0m\u001b[0m\n\u001b[0m\u001b[1;32m   1154\u001b[0m \u001b[0;34m\u001b[0m\u001b[0m\n\u001b[1;32m   1155\u001b[0m     \u001b[0;32mdef\u001b[0m \u001b[0m_get_with\u001b[0m\u001b[0;34m(\u001b[0m\u001b[0mself\u001b[0m\u001b[0;34m,\u001b[0m \u001b[0mkey\u001b[0m\u001b[0;34m)\u001b[0m\u001b[0;34m:\u001b[0m\u001b[0;34m\u001b[0m\u001b[0;34m\u001b[0m\u001b[0m\n",
      "\u001b[0;32m~/.local/lib/python3.10/site-packages/pandas/core/series.py\u001b[0m in \u001b[0;36m_get_with\u001b[0;34m(self, key)\u001b[0m\n\u001b[1;32m   1161\u001b[0m             )\n\u001b[1;32m   1162\u001b[0m         \u001b[0;32melif\u001b[0m \u001b[0misinstance\u001b[0m\u001b[0;34m(\u001b[0m\u001b[0mkey\u001b[0m\u001b[0;34m,\u001b[0m \u001b[0mtuple\u001b[0m\u001b[0;34m)\u001b[0m\u001b[0;34m:\u001b[0m\u001b[0;34m\u001b[0m\u001b[0;34m\u001b[0m\u001b[0m\n\u001b[0;32m-> 1163\u001b[0;31m             \u001b[0;32mreturn\u001b[0m \u001b[0mself\u001b[0m\u001b[0;34m.\u001b[0m\u001b[0m_get_values_tuple\u001b[0m\u001b[0;34m(\u001b[0m\u001b[0mkey\u001b[0m\u001b[0;34m)\u001b[0m\u001b[0;34m\u001b[0m\u001b[0;34m\u001b[0m\u001b[0m\n\u001b[0m\u001b[1;32m   1164\u001b[0m \u001b[0;34m\u001b[0m\u001b[0m\n\u001b[1;32m   1165\u001b[0m         \u001b[0;32melif\u001b[0m \u001b[0;32mnot\u001b[0m \u001b[0mis_list_like\u001b[0m\u001b[0;34m(\u001b[0m\u001b[0mkey\u001b[0m\u001b[0;34m)\u001b[0m\u001b[0;34m:\u001b[0m\u001b[0;34m\u001b[0m\u001b[0;34m\u001b[0m\u001b[0m\n",
      "\u001b[0;32m~/.local/lib/python3.10/site-packages/pandas/core/series.py\u001b[0m in \u001b[0;36m_get_values_tuple\u001b[0;34m(self, key)\u001b[0m\n\u001b[1;32m   1201\u001b[0m             \u001b[0;31m# the asarray is needed to avoid returning a 2D DatetimeArray\u001b[0m\u001b[0;34m\u001b[0m\u001b[0;34m\u001b[0m\u001b[0m\n\u001b[1;32m   1202\u001b[0m             \u001b[0mresult\u001b[0m \u001b[0;34m=\u001b[0m \u001b[0mnp\u001b[0m\u001b[0;34m.\u001b[0m\u001b[0masarray\u001b[0m\u001b[0;34m(\u001b[0m\u001b[0mself\u001b[0m\u001b[0;34m.\u001b[0m\u001b[0m_values\u001b[0m\u001b[0;34m[\u001b[0m\u001b[0mkey\u001b[0m\u001b[0;34m]\u001b[0m\u001b[0;34m)\u001b[0m\u001b[0;34m\u001b[0m\u001b[0;34m\u001b[0m\u001b[0m\n\u001b[0;32m-> 1203\u001b[0;31m             \u001b[0mdisallow_ndim_indexing\u001b[0m\u001b[0;34m(\u001b[0m\u001b[0mresult\u001b[0m\u001b[0;34m)\u001b[0m\u001b[0;34m\u001b[0m\u001b[0;34m\u001b[0m\u001b[0m\n\u001b[0m\u001b[1;32m   1204\u001b[0m             \u001b[0;32mreturn\u001b[0m \u001b[0mresult\u001b[0m\u001b[0;34m\u001b[0m\u001b[0;34m\u001b[0m\u001b[0m\n\u001b[1;32m   1205\u001b[0m \u001b[0;34m\u001b[0m\u001b[0m\n",
      "\u001b[0;32m~/.local/lib/python3.10/site-packages/pandas/core/indexers/utils.py\u001b[0m in \u001b[0;36mdisallow_ndim_indexing\u001b[0;34m(result)\u001b[0m\n\u001b[1;32m    339\u001b[0m     \"\"\"\n\u001b[1;32m    340\u001b[0m     \u001b[0;32mif\u001b[0m \u001b[0mnp\u001b[0m\u001b[0;34m.\u001b[0m\u001b[0mndim\u001b[0m\u001b[0;34m(\u001b[0m\u001b[0mresult\u001b[0m\u001b[0;34m)\u001b[0m \u001b[0;34m>\u001b[0m \u001b[0;36m1\u001b[0m\u001b[0;34m:\u001b[0m\u001b[0;34m\u001b[0m\u001b[0;34m\u001b[0m\u001b[0m\n\u001b[0;32m--> 341\u001b[0;31m         raise ValueError(\n\u001b[0m\u001b[1;32m    342\u001b[0m             \u001b[0;34m\"Multi-dimensional indexing (e.g. `obj[:, None]`) is no longer \"\u001b[0m\u001b[0;34m\u001b[0m\u001b[0;34m\u001b[0m\u001b[0m\n\u001b[1;32m    343\u001b[0m             \u001b[0;34m\"supported. Convert to a numpy array before indexing instead.\"\u001b[0m\u001b[0;34m\u001b[0m\u001b[0;34m\u001b[0m\u001b[0m\n",
      "\u001b[0;31mValueError\u001b[0m: Multi-dimensional indexing (e.g. `obj[:, None]`) is no longer supported. Convert to a numpy array before indexing instead."
     ]
    },
    {
     "data": {
      "image/png": "[encoded data removed]",
      "text/plain": [
       "<Figure size 432x288 with 1 Axes>"
      ]
     },
     "metadata": {},
     "output_type": "display_data"
    }
   ],
   "source": [
    "# Correlation\n",
    "corr = df[['Age', 'Salary']].corr()\n",
    "print('Correlation matrix:\\n', corr)\n",
    "\n",
    "# Simple Linear Regression: Predict Salary from Age\n",
    "from sklearn.linear_model import LinearRegression\n",
    "\n",
    "X = df[['Age']]\n",
    "y = df['Salary']\n",
    "model = LinearRegression()\n",
    "model.fit(X, y)\n",
    "\n",
    "print('Regression Coefficient (slope):', model.coef_[0])\n",
    "print('Intercept:', model.intercept_)\n",
    "\n",
    "# Plot the regression\n",
    "plt.figure(figsize=(6,4))\n",
    "sns.scatterplot(x='Age', y='Salary', data=df)\n",
    "plt.plot(df['Age'], model.predict(X), color='red')\n",
    "plt.title('Linear Regression: Salary vs Age')\n",
    "plt.show()"
   ]
  },
  {
   "cell_type": "markdown",
   "metadata": {},
   "source": [
    "#### Exercises\n",
    "1. Calculate the Spearman correlation between Age and Salary (store as `spearman_corr`).\n",
    "2. Fit a regression model to predict Salary from both Age and a dummy variable for Department. Store the regression coefficients (as a list) in `regression_coefs`.\n",
    "3. What does a negative correlation mean in this context? (Store in `neg_corr_meaning` as a string).\n"
   ]
  },
  {
   "cell_type": "code",
   "execution_count": 4,
   "metadata": {},
   "outputs": [],
   "source": [
    "# STUDENT: Write your answers below\n",
    "\n",
    "# spearman_corr = ...\n",
    "# regression_coefs = ...\n",
    "# neg_corr_meaning = ...\n",
    "import pandas as pd\n",
    "from scipy.stats import spearmanr\n",
    "import statsmodels.api as sm\n",
    "\n",
    "# Drop rows with missing data in relevant columns\n",
    "df = df.dropna(subset=['Age', 'Salary', 'Department'])\n",
    "\n",
    "# Ensure numeric types for Age and Salary\n",
    "df['Age'] = pd.to_numeric(df['Age'], errors='coerce')\n",
    "df['Salary'] = pd.to_numeric(df['Salary'], errors='coerce')\n",
    "df = df.dropna(subset=['Age', 'Salary'])\n",
    "\n",
    "# Calculate Spearman correlation\n",
    "spearman_corr, _ = spearmanr(df['Age'], df['Salary'])\n",
    "\n",
    "# Create dummy variables and ensure they are floats\n",
    "department_dummies = pd.get_dummies(df['Department'], drop_first=True).astype(float)\n",
    "\n",
    "# Prepare features\n",
    "X = pd.concat([df['Age'], department_dummies], axis=1)\n",
    "X = sm.add_constant(X)\n",
    "\n",
    "# Response variable\n",
    "y = df['Salary']\n",
    "\n",
    "# Fit regression model\n",
    "model = sm.OLS(y, X).fit()\n",
    "\n",
    "# Extract coefficients as list\n",
    "regression_coefs = model.params.tolist()\n",
    "\n",
    "# Explanation for negative correlation\n",
    "neg_corr_meaning = (\"A negative correlation between Age and Salary means that, in this dataset, \"\n",
    "                    \"as Age increases, Salary tends to decrease, or vice versa, \"\n",
    "                    \"indicating an inverse relationship between the two variables.\")\n",
    "\n"
   ]
  },
  {
   "cell_type": "markdown",
   "metadata": {},
   "source": [
    "#### Validate Your Module 5 Solutions\n",
    "Run the cell below to check your answers for Module 5. The feedback and your score will be displayed."
   ]
  },
  {
   "cell_type": "code",
   "execution_count": 31,
   "metadata": {},
   "outputs": [
    {
     "name": "stdout",
     "output_type": "stream",
     "text": [
      "Module 5 Score: 3/3\n",
      "Q1: Spearman correlation present and valid.\n",
      "Q2: Regression coefficients present and valid.\n",
      "Q3: Negative correlation meaning answer present and mentions 'decrease'.\n",
      "\n"
     ]
    }
   ],
   "source": [
    "try:\n",
    "    from statstest import test\n",
    "    test.test_module5(df, {\n",
    "    'spearman_corr': spearman_corr,\n",
    "    'regression_coefs': regression_coefs,\n",
    "    'neg_corr_meaning': neg_corr_meaning\n",
    "})\n",
    "except:\n",
    "    print(\"Try Again!\")"
   ]
  },
  {
   "cell_type": "markdown",
   "metadata": {},
   "source": [
    "---\n",
    "## Final Score and Feedback\n",
    "After completing all modules and their validations, run the cell below to get your detailed feedback and final score!"
   ]
  },
  {
   "cell_type": "code",
   "execution_count": 32,
   "metadata": {},
   "outputs": [
    {
     "name": "stdout",
     "output_type": "stream",
     "text": [
      "======== DETAILED FEEDBACK ========\n",
      "Module 1 Feedback:\n",
      "   Q1: Mean salary by department correct.\n",
      "   Q2: Median salary by department correct.\n",
      "   Q3: Department mode correct.\n",
      "   Q4: Standard deviation of age in HR correct.\n",
      "\n",
      "Module 2 Feedback:\n",
      "   Q1: Salary histogram figure present.\n",
      "   Q2: Age boxplot figure present.\n",
      "   Q3: Outlier detection variable present.\n",
      "\n",
      "Module 3 Feedback:\n",
      "   Q1: Uniform distribution simulation correct.\n",
      "   Q2: Uniform distribution figure present.\n",
      "   Q3: Binomial observation answer present.\n",
      "   Q4: CLT reason answer present.\n",
      "\n",
      "Module 4 Feedback:\n",
      "   Q1: p-value for age difference present and valid.\n",
      "   Q2: Significance variable present.\n",
      "   Q3: p-value meaning answer present and mentions 'reject'.\n",
      "   Q4: Chi-square p-value present and valid.\n",
      "\n",
      "Module 5 Feedback:\n",
      "   Q1: Spearman correlation present and valid.\n",
      "   Q2: Regression coefficients present and valid.\n",
      "   Q3: Negative correlation meaning answer present and mentions 'decrease'.\n",
      "\n",
      "FINAL SCORE: 18/18\n",
      "Excellent work! All answers are correct.\n"
     ]
    }
   ],
   "source": [
    "from statstest import feedback\n",
    "feedback.show_final_feedback()"
   ]
  },
  {
   "cell_type": "code",
   "execution_count": null,
   "metadata": {},
   "outputs": [],
   "source": []
  }
 ],
 "metadata": {
  "kernelspec": {
   "display_name": "Python 3 (ipykernel)",
   "language": "python",
   "name": "python3"
  },
  "language_info": {
   "codemirror_mode": {
    "name": "ipython",
    "version": 3
   },
   "file_extension": ".py",
   "mimetype": "text/x-python",
   "name": "python",
   "nbconvert_exporter": "python",
   "pygments_lexer": "ipython3",
   "version": "3.10.12"
  }
 },
 "nbformat": 4,
 "nbformat_minor": 2
}
