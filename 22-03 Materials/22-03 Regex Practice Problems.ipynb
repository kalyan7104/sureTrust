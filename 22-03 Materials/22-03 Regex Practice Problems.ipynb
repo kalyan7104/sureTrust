{
 "cells": [
  {
   "cell_type": "markdown",
   "id": "20fcb46e",
   "metadata": {},
   "source": [
    "### **Question 0: Validate Email Addresses**  \n",
    "#### **Introduction**  \n",
    "In this task, you will check whether a given email address is valid based on a standard pattern.\n",
    "\n",
    "#### **Instructions**  \n",
    "1. Define a function `is_valid_email(email)` that takes a string as input.  \n",
    "2. Use `re.match()` with a **regex pattern** to check if the string follows the email format:\n",
    "   - It should start with **letters, numbers, or underscores**.\n",
    "   - It may contain **dots (`.`) or hyphens (`-`)**.\n",
    "   - It must have an **@ symbol**, followed by a valid domain (letters only).\n",
    "   - The domain should end with **.com, .org, .net**, etc.\n",
    "3. Return `True` if the email is valid, otherwise return `False`.\n",
    "\n"
   ]
  },
  {
   "cell_type": "markdown",
   "id": "5cc93e76",
   "metadata": {},
   "source": [
    "<details>\n",
    "  <summary style=\"color:red; font-weight:bold;\">💡 Hint (Click to expand)</summary>\n",
    "  <p style=\"color:red;\">\n",
    "      \n",
    "- The regex pattern `^[a-zA-Z0-9_.+-]+@[a-zA-Z0-9-]+\\.[a-zA-Z]+$` ensures a valid email format.  \n",
    "- **Breakdown of the pattern:**\n",
    "  - `^[a-zA-Z0-9_.+-]+` → Matches the username (letters, numbers, dots, hyphens, underscores, etc.).\n",
    "  - `@` → Ensures the presence of the **@ symbol**.\n",
    "  - `[a-zA-Z0-9-]+` → Matches the domain name.\n",
    "  - `\\.[a-zA-Z]+$` → Ensures the domain ends with `.com`, `.org`, etc.\n",
    "  </p>\n",
    "</details>\n"
   ]
  },
  {
   "cell_type": "code",
   "execution_count": 7,
   "id": "1198c132",
   "metadata": {},
   "outputs": [],
   "source": [
    "import re\n",
    "\n",
    "def is_valid_email(email):\n",
    "    \n",
    "     pattern = r'^[a-zA-Z0-9_.+-]+@[a-zA-Z0-9-]+\\.[a-zA-Z]{2,}$'\n",
    "        \n",
    "     return re.match(pattern,email) is not None\n",
    "    \n",
    "    "
   ]
  },
  {
   "cell_type": "code",
   "execution_count": 8,
   "id": "d2f07bd4",
   "metadata": {},
   "outputs": [
    {
     "name": "stdout",
     "output_type": "stream",
     "text": [
      "True\n",
      "True\n",
      "False\n",
      "False\n",
      "False\n"
     ]
    }
   ],
   "source": [
    "\n",
    "print(is_valid_email(\"student@example.com\"))  # Expected Output: True\n",
    "print(is_valid_email(\"user.name@my-site.org\"))  # Expected Output: True\n",
    "print(is_valid_email(\"invalid-email.com\"))  # Expected Output: False\n",
    "print(is_valid_email(\"missing@domain\"))  # Expected Output: False\n",
    "print(is_valid_email(\"@nouser.com\"))  # Expected Output: False\n"
   ]
  },
  {
   "cell_type": "code",
   "execution_count": null,
   "id": "4d113bb4",
   "metadata": {},
   "outputs": [],
   "source": []
  },
  {
   "cell_type": "markdown",
   "id": "5bb2e403",
   "metadata": {},
   "source": [
    "### **Question 1: Extract All Numbers from a String**\n",
    "#### **Introduction**\n",
    "In this task, you will extract all numbers from a given text string. Numbers may appear anywhere within the text, and they can have any number of digits.\n",
    "\n",
    "#### **Instructions**\n",
    "1. Define a function `extract_numbers(text)` that takes a string as input.\n",
    "2. Use the `re.findall()` function with an appropriate **regex pattern** to match numbers in the string.\n",
    "3. Return a **list** of numbers as strings.\n",
    "\n"
   ]
  },
  {
   "cell_type": "markdown",
   "id": "13d628de",
   "metadata": {},
   "source": [
    "<details>\n",
    "  <summary style=\"color:red; font-weight:bold;\">💡 Hint (Click to expand only if stuck)</summary>\n",
    "  <p style=\"color:red;\">\n",
    "      \n",
    "  - Numbers in a string consist of one or more digits (<code>0-9</code>).\n",
    "  - The regex pattern <code>\\d+</code> will help you find all occurrences of numbers.\n",
    "  </p>\n",
    "</details>\n"
   ]
  },
  {
   "cell_type": "code",
   "execution_count": 19,
   "id": "2f981739",
   "metadata": {},
   "outputs": [],
   "source": [
    "def extract_numbers(text):\n",
    "    \n",
    "    return re.findall('\\d+',text)"
   ]
  },
  {
   "cell_type": "code",
   "execution_count": 20,
   "id": "b4f0ccc6",
   "metadata": {},
   "outputs": [
    {
     "name": "stdout",
     "output_type": "stream",
     "text": [
      "['2', '15']\n",
      "[]\n",
      "['404', '808']\n"
     ]
    }
   ],
   "source": [
    "print(extract_numbers(\"I have 2 apples and 15 oranges.\"))  # Expected Output: ['2', '15']\n",
    "print(extract_numbers(\"No numbers here!\"))  # Expected Output: []\n",
    "print(extract_numbers(\"Room 404 is not found, but 808 is available.\"))  # Expected Output: ['404', '808']"
   ]
  },
  {
   "cell_type": "code",
   "execution_count": null,
   "id": "1fc3efad",
   "metadata": {},
   "outputs": [],
   "source": []
  },
  {
   "cell_type": "markdown",
   "id": "0f912788",
   "metadata": {},
   "source": [
    "\n",
    "### **Question 2: Check if a String Contains Only Letters**\n",
    "#### **Introduction**\n",
    "You need to check whether a given string consists **only of letters** (uppercase and lowercase) without any numbers or special characters.\n",
    "\n",
    "#### **Instructions**\n",
    "1. Define a function `is_only_letters(text)` that accepts a string.\n",
    "2. Use `re.match()` with a **regex pattern** to validate that the string contains only letters.\n",
    "3. Return `True` if the string contains only letters, otherwise return `False`.\n"
   ]
  },
  {
   "cell_type": "markdown",
   "id": "3444e49b",
   "metadata": {},
   "source": [
    "<details>\n",
    "  <summary style=\"color:red; font-weight:bold;\">💡 Hint (Click to expand only if stuck)</summary>\n",
    "  <p style=\"color:red;\">\n",
    "      \n",
    "  - The regex pattern `^[A-Za-z]+$` ensures the string **only contains** letters from start (`^`) to end (`$`).\n",
    "    </p>\n",
    "</details>\n"
   ]
  },
  {
   "cell_type": "code",
   "execution_count": 31,
   "id": "ba087a05",
   "metadata": {},
   "outputs": [],
   "source": [
    "def is_only_letters(text):\n",
    "    \n",
    "    pattern='^[a-zA-z]+$'\n",
    "    \n",
    "    return re.match(pattern,text) is not None"
   ]
  },
  {
   "cell_type": "code",
   "execution_count": 32,
   "id": "a6d54404",
   "metadata": {},
   "outputs": [
    {
     "name": "stdout",
     "output_type": "stream",
     "text": [
      "True\n",
      "False\n",
      "False\n"
     ]
    }
   ],
   "source": [
    "print(is_only_letters(\"HelloWorld\"))  # Expected Output: True\n",
    "print(is_only_letters(\"Hello123\"))    # Expected Output: False\n",
    "print(is_only_letters(\"Python!\"))     # Expected Output: False"
   ]
  },
  {
   "cell_type": "code",
   "execution_count": null,
   "id": "f446b733",
   "metadata": {},
   "outputs": [],
   "source": []
  },
  {
   "cell_type": "markdown",
   "id": "d39a119e",
   "metadata": {},
   "source": [
    "\n",
    "### **Question 3: Find Words Ending with \"ing\"**\n",
    "#### **Introduction**\n",
    "Your task is to extract all words from a string that **end with \"ing\"**.\n",
    "\n",
    "#### **Instructions**\n",
    "1. Define a function `find_ing_words(text)` that takes a string as input.\n",
    "2. Use `re.findall()` with a **regex pattern** to find words ending in \"ing\".\n",
    "3. Return a **list** of matched words.\n"
   ]
  },
  {
   "cell_type": "markdown",
   "id": "71dc6693",
   "metadata": {},
   "source": [
    "<details>\n",
    "  <summary style=\"color:red; font-weight:bold;\">💡 Hint (Click to expand only if stuck)</summary>\n",
    "  <p style=\"color:red;\">\n",
    "      \n",
    "  - A <strong>word boundary (<code>\\b</code>)</strong> ensures the match is a <strong>whole word</strong>.<br>\n",
    "  - The regex pattern <code>\\b\\w+ing\\b</code> helps find words that <strong>end in \"ing\"</strong>.\n",
    "  </p>\n",
    "</details>\n"
   ]
  },
  {
   "cell_type": "code",
   "execution_count": 45,
   "id": "01b08dff",
   "metadata": {},
   "outputs": [],
   "source": [
    "def find_ing_words(text):\n",
    "    \n",
    "    return re.findall(r'\\b\\w*ing\\b',text)"
   ]
  },
  {
   "cell_type": "code",
   "execution_count": 46,
   "id": "9218681e",
   "metadata": {},
   "outputs": [
    {
     "name": "stdout",
     "output_type": "stream",
     "text": [
      "['running', 'singing']\n",
      "['Walking', 'jumping']\n",
      "[]\n"
     ]
    }
   ],
   "source": [
    "print(find_ing_words(\"I am running and she is singing.\"))  # Expected Output: ['running', 'singing']\n",
    "print(find_ing_words(\"Walking is fun but jumping is better!\"))  # Expected Output: ['Walking', 'jumping']\n",
    "print(find_ing_words(\"No ING words here!\"))  # Expected Output: []"
   ]
  },
  {
   "cell_type": "code",
   "execution_count": null,
   "id": "d0307882",
   "metadata": {},
   "outputs": [],
   "source": []
  },
  {
   "cell_type": "markdown",
   "id": "a1e9b96d",
   "metadata": {},
   "source": [
    "### **Question 4: Replace Multiple Spaces with a Single Space**\n",
    "#### **Introduction**\n",
    "This task involves cleaning a string by replacing **multiple spaces** with a **single space**.\n",
    "\n",
    "#### **Instructions**\n",
    "1. Define a function `normalize_spaces(text)` that accepts a string.\n",
    "2. Use `re.sub()` to replace **multiple spaces** (`\\s+`) with a **single space**.\n",
    "3. Trim **leading and trailing spaces** before returning the final string.\n",
    "\n"
   ]
  },
  {
   "cell_type": "markdown",
   "id": "bc1e3475",
   "metadata": {},
   "source": [
    "<details>\n",
    "  <summary style=\"color:red; font-weight:bold;\">💡 Hint (Click to expand only if stuck)</summary>\n",
    "  <p style=\"color:red;\">\n",
    "    \n",
    "  - The regex pattern `\\s+` matches one or more whitespace characters.  \n",
    "  - The `strip()` method removes any spaces at the start or end of the string.\n",
    "</details>"
   ]
  },
  {
   "cell_type": "code",
   "execution_count": 47,
   "id": "e62ff461",
   "metadata": {},
   "outputs": [],
   "source": [
    "def normalize_spaces(text):\n",
    "    \n",
    "    pattern=re.sub(r'\\s+',' ',text)\n",
    "    return pattern.strip()"
   ]
  },
  {
   "cell_type": "code",
   "execution_count": 48,
   "id": "220baa96",
   "metadata": {},
   "outputs": [
    {
     "name": "stdout",
     "output_type": "stream",
     "text": [
      "This sentence has too many spaces.\n",
      "No extra spaces here.\n",
      "Leading and trailing spaces should be removed too.\n"
     ]
    }
   ],
   "source": [
    "print(normalize_spaces(\"This   sentence   has    too   many spaces.\"))  # Expected Output: \"This sentence has too many spaces.\"\n",
    "print(normalize_spaces(\"No extra spaces here.\"))  # Expected Output: \"No extra spaces here.\"\n",
    "print(normalize_spaces(\"     Leading and trailing spaces should be removed too.    \"))  # Expected Output: \"Leading and trailing spaces should be removed too.\"\n"
   ]
  },
  {
   "cell_type": "code",
   "execution_count": null,
   "id": "5c456a01",
   "metadata": {},
   "outputs": [],
   "source": []
  }
 ],
 "metadata": {
  "kernelspec": {
   "display_name": "Python 3 (ipykernel)",
   "language": "python",
   "name": "python3"
  },
  "language_info": {
   "codemirror_mode": {
    "name": "ipython",
    "version": 3
   },
   "file_extension": ".py",
   "mimetype": "text/x-python",
   "name": "python",
   "nbconvert_exporter": "python",
   "pygments_lexer": "ipython3",
   "version": "3.10.12"
  }
 },
 "nbformat": 4,
 "nbformat_minor": 5
}
