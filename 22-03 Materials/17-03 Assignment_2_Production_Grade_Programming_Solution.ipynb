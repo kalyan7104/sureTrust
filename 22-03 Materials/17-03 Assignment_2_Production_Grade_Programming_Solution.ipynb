{
 "cells": [
  {
   "cell_type": "markdown",
   "metadata": {
    "id": "77zLnpaNvNSp"
   },
   "source": [
    "# <u> Problem 1</u>\n",
    "\n",
    "### Create a class <code>Cylinder</code> which takes two attributes <code>radius</code> and <code>height</code>.\n",
    "\n",
    "### Create the following methods in this class:\n",
    "\n",
    "* ### method <code>volume()</code> which calculates the volume of the cyinder which is defined as $V  = \\pi r^2 h$\n",
    "\n",
    "* ### method <code>surface_area()</code> which calculates the area of the cyinder which is defined as $S  = 2\\pi r h$. Assume this is an open cylinder\n"
   ]
  },
  {
   "cell_type": "code",
   "execution_count": 1,
   "metadata": {
    "id": "-cWkCZ5OzX0G"
   },
   "outputs": [
    {
     "name": "stdout",
     "output_type": "stream",
     "text": [
      "Volume: 785.40\n",
      "Surface Area: 314.16\n"
     ]
    }
   ],
   "source": [
    "# Write your code below. Take pi as 3.14\n",
    "\n",
    "import math\n",
    "\n",
    "class Cylinder:\n",
    "    def __init__(self, radius, height):\n",
    "        self.radius = radius\n",
    "        self.height = height\n",
    "\n",
    "    def volume(self):\n",
    "        \"\"\"Calculates the volume of the cylinder: V = πr²h\"\"\"\n",
    "        return math.pi * self.radius ** 2 * self.height\n",
    "\n",
    "    def surface_area(self):\n",
    "        \"\"\"Calculates the surface area of an open cylinder: S = 2πrh\"\"\"\n",
    "        return 2 * math.pi * self.radius * self.height\n",
    "\n",
    "# Example usage\n",
    "cyl = Cylinder(5, 10)\n",
    "print(f\"Volume: {cyl.volume():.2f}\")        # Output: Volume: 785.40\n",
    "print(f\"Surface Area: {cyl.surface_area():.2f}\")  # Output: Surface Area: 314.16\n"
   ]
  },
  {
   "cell_type": "code",
   "execution_count": null,
   "metadata": {
    "id": "tgS3mhN-18b_"
   },
   "outputs": [],
   "source": [
    "# Check for sample inputs\n",
    "\n",
    "\n",
    "\n",
    "\n",
    "\n"
   ]
  },
  {
   "cell_type": "markdown",
   "metadata": {
    "id": "KjPWYK0Rs8By"
   },
   "source": [
    "## <u>Problem 2</u>\n",
    "\n",
    "### You started your own money wallet where your customers can create their accounts and they can either deposit or withdraw money from this wallet.\n",
    "\n",
    "### Write a Python class <code>BankAccount</code> which takes the balance as an attribute. You can initialize the balance with 0 because any new account will have 0 rupees in their wallet. Next write two methods for your class :\n",
    "\n",
    "* #### <code>withdraw()</code> method which takes the amount to be withdrawn as an argument and returns the balance after the withdrawal\n",
    "\n",
    "* #### <code>deposit()</code> method which takes the amount to be deposited as an argument and returns the balance after the deposit.\n",
    "\n",
    "### Keep in mind that if the balance to be withdrawn exceeds the current balance, it should display a message that \"Not enough balance in your account\"\n"
   ]
  },
  {
   "cell_type": "code",
   "execution_count": 2,
   "metadata": {
    "id": "RxVZTrenzfHC"
   },
   "outputs": [
    {
     "name": "stdout",
     "output_type": "stream",
     "text": [
      "Deposited ₹1000. New balance: ₹1000\n",
      "Withdrawn ₹500. Remaining balance: ₹500\n",
      "Not enough balance in your account\n",
      "Deposit amount must be greater than zero\n"
     ]
    }
   ],
   "source": [
    "# Write your BankAccount class below\n",
    "\n",
    "class BankAccount:\n",
    "    def __init__(self, balance=0):\n",
    "        \"\"\"Initialize the account with a default balance of 0.\"\"\"\n",
    "        self.balance = balance\n",
    "\n",
    "    def deposit(self, amount):\n",
    "        \"\"\"Deposits the given amount and returns the updated balance.\"\"\"\n",
    "        if amount <= 0:\n",
    "            return \"Deposit amount must be greater than zero\"\n",
    "        self.balance += amount\n",
    "        return f\"Deposited ₹{amount}. New balance: ₹{self.balance}\"\n",
    "\n",
    "    def withdraw(self, amount):\n",
    "        \"\"\"Withdraws the given amount if sufficient balance is available.\"\"\"\n",
    "        if amount <= 0:\n",
    "            return \"Withdrawal amount must be greater than zero\"\n",
    "        if amount > self.balance:\n",
    "            return \"Not enough balance in your account\"\n",
    "        self.balance -= amount\n",
    "        return f\"Withdrawn ₹{amount}. Remaining balance: ₹{self.balance}\"\n",
    "\n",
    "# Example Usage\n",
    "account = BankAccount()\n",
    "print(account.deposit(1000))  #  Deposited ₹1000. New balance: ₹1000\n",
    "print(account.withdraw(500))  #  Withdrawn ₹500. Remaining balance: ₹500\n",
    "print(account.withdraw(600))  #  Not enough balance in your account\n",
    "print(account.deposit(-100))  #  Deposit amount must be greater than zero\n",
    "\n",
    "\n",
    "\n",
    "\n",
    "\n",
    "\n",
    "\n",
    "\n",
    "\n",
    "\n",
    "\n",
    "\n"
   ]
  },
  {
   "cell_type": "code",
   "execution_count": null,
   "metadata": {
    "id": "N1Yhpkiws8B3"
   },
   "outputs": [],
   "source": [
    "# Create two instances of this class for two customers\n",
    "\n"
   ]
  },
  {
   "cell_type": "markdown",
   "metadata": {
    "id": "mSTxPcO3fWeX"
   },
   "source": [
    "### Next add some amount and withdraw some another amount for both the customers."
   ]
  },
  {
   "cell_type": "code",
   "execution_count": null,
   "metadata": {
    "id": "KpMdlB5Fs8B8"
   },
   "outputs": [],
   "source": [
    "# Deposit some amount and withdrawing some amount from the two accounts and check if your method works fine\n",
    "\n",
    "\n",
    "\n",
    "\n",
    "\n",
    "\n",
    "\n",
    "\n",
    "\n"
   ]
  },
  {
   "cell_type": "markdown",
   "metadata": {
    "id": "5qd8g8UUs8CM"
   },
   "source": [
    "## <u>Problem 3 </u>\n",
    "\n",
    "### Create a class <code>Time </code> which takes two inputs hours and minutes to instantiate.\n",
    "*  #### Construct a method <code>DisplayTime()</code> which displays the time in AM/PM formats. For example if the input is 14 hours and 45 mins, then this method will print \"The time is 2:45 PM\". If the inputted hours exceeds 23 then print the message \"The input hours should be less than 24\" and if the inputted minutes exceeds 59 then print the message \"The input minutes should be less than 60.\" Also if the input is 12 hours 30 minutes, then the displayed time would be 12:30 PM\n",
    "* #### Construct a method <code>DisplayRatio()</code> which should display the ratio of minutes to hours. For example, (8 hours and  16 mins) should display 2. Use <code>try</code>, <code>except</code> block to account for ZeroDivisionError."
   ]
  },
  {
   "cell_type": "code",
   "execution_count": 4,
   "metadata": {
    "id": "FBJy9Sq_s8CN"
   },
   "outputs": [
    {
     "name": "stdout",
     "output_type": "stream",
     "text": [
      "The time is 11:45 PM\n",
      "Ratio of minutes to hours: 1\n",
      "----------------------------------------\n",
      "The input hours should be less than 24.\n",
      "Ratio of minutes to hours: 1\n",
      "----------------------------------------\n",
      "The time is 12:34 PM\n",
      "Ratio of minutes to hours: 2\n",
      "----------------------------------------\n",
      "The input minutes should be less than 60.\n",
      "Ratio of minutes to hours: 4\n",
      "----------------------------------------\n",
      "The time is 7:20 PM\n",
      "Ratio of minutes to hours: 1\n",
      "----------------------------------------\n",
      "The time is 2:15 AM\n",
      "Ratio of minutes to hours: 7\n",
      "----------------------------------------\n",
      "The time is 12:10 AM\n",
      "Cannot divide by zero, hours should be greater than 0.\n",
      "----------------------------------------\n"
     ]
    }
   ],
   "source": [
    "# Define the Time class\n",
    "class Time:\n",
    "    def __init__(self, hours, minutes):\n",
    "        \"\"\"Initialize the time with hours and minutes.\"\"\"\n",
    "        self.hours = hours\n",
    "        self.minutes = minutes\n",
    "\n",
    "    def DisplayTime(self):\n",
    "        \"\"\"Displays the time in AM/PM format.\"\"\"\n",
    "        if self.hours > 23:\n",
    "            return \"The input hours should be less than 24.\"\n",
    "        if self.minutes > 59:\n",
    "            return \"The input minutes should be less than 60.\"\n",
    "\n",
    "        # Convert 24-hour format to 12-hour format\n",
    "        period = \"AM\" if self.hours < 12 else \"PM\"\n",
    "        display_hours = self.hours % 12\n",
    "        display_hours = 12 if display_hours == 0 else display_hours  # Handle 12-hour format correctly\n",
    "\n",
    "        return f\"The time is {display_hours}:{self.minutes:02d} {period}\"\n",
    "\n",
    "    def DisplayRatio(self):\n",
    "        \"\"\"Displays the ratio of minutes to hours, handling ZeroDivisionError.\"\"\"\n",
    "        try:\n",
    "            ratio = self.minutes // self.hours\n",
    "            return f\"Ratio of minutes to hours: {ratio}\"\n",
    "        except ZeroDivisionError:\n",
    "            return \"Cannot divide by zero, hours should be greater than 0.\"\n",
    "\n",
    "# Sample input list\n",
    "hour_min_list = [(23, 45), (34, 50), (12, 34), (14, 67), (19, 20), (2, 15), (0, 10)]\n",
    "\n",
    "# Loop through the list and display results\n",
    "for hours, minutes in hour_min_list:\n",
    "    time_obj = Time(hours, minutes)\n",
    "    print(time_obj.DisplayTime())\n",
    "    print(time_obj.DisplayRatio())\n",
    "    print(\"-\" * 40)  # Separator for readability\n"
   ]
  },
  {
   "cell_type": "code",
   "execution_count": null,
   "metadata": {
    "id": "zywXa51d6Eev"
   },
   "outputs": [],
   "source": [
    "# Check for few sample inputs of hours and mins\n",
    "hour_min_list = [(23,45), (34,50), (12,34), (14,67),(19,20), (2,15), (0, 10)]\n",
    "\n",
    "# Using a for loop display the corresponding 12 hour time format for the above hour_min_list\n",
    "\n",
    "\n",
    "\n",
    "\n",
    "\n",
    "\n",
    "# Also display the corresponding ratios for the above list\n",
    "\n",
    "\n"
   ]
  },
  {
   "cell_type": "markdown",
   "metadata": {
    "id": "mgcu1_SAjAqF"
   },
   "source": [
    "## <u>Problem 4: Employee Management System with Exception Handling</u>\n",
    "\n",
    "**Scenario:**\n",
    "\n",
    "A company manages employees, where each employee has a name, an employee ID, and a salary. Employees can receive promotions, which increase their salary. However, if an invalid salary increment is given (such as a negative value), the system should raise an exception.\n",
    "\n",
    "**Task:**\n",
    "Create a Employee class with the following attributes and methods:\n",
    "\n",
    "    Attributes:\n",
    "    - name (str), employee_id (str), and salary (float).\n",
    "    Methods:\n",
    "    - promote(increment): Increases the salary by the given amount. If the increment is negative, raise an InvalidSalaryIncrementException.\n",
    "    - display_info(): Prints employee details.\n",
    "\n",
    "Define a custom exception InvalidSalaryIncrementException that is raised when an invalid salary increment is provided.\n",
    "\n",
    "**Steps to Solve:**\n",
    "- Create an `Employee` class with the required attributes.\n",
    "- Define a custom exception `InvalidSalaryIncrementException`.\n",
    "- Implement the `promote(increment)` method that validates the increment before applying it.\n",
    "- Implement `display_info()` to show employee details.\n",
    "- Write a test case where a negative salary increment is attempted, and handle the exception gracefully.\n"
   ]
  },
  {
   "cell_type": "markdown",
   "metadata": {},
   "source": [
    "### **Test Cases for Employee Management System with Exception Handling**  \n",
    "\n",
    "#### **Test Case 1: Valid Salary Increment**  \n",
    "**Input:**  \n",
    "```python\n",
    "emp = Employee(\"Alice Johnson\", \"EMP1001\", 50000)\n",
    "emp.promote(5000)\n",
    "emp.display_info()\n",
    "```\n",
    "**Expected Output:**  \n",
    "```\n",
    "Alice Johnson has been promoted! New salary: $55000.00\n",
    "Employee ID: EMP1001 | Name: Alice Johnson | Salary: $55000.00\n",
    "```\n",
    "\n",
    "---\n",
    "\n",
    "#### **Test Case 2: Invalid Salary Increment (Negative Value)**  \n",
    "**Input:**  \n",
    "```python\n",
    "emp = Employee(\"Bob Smith\", \"EMP1002\", 60000)\n",
    "try:\n",
    "    emp.promote(-3000)\n",
    "except InvalidSalaryIncrementException as e:\n",
    "    print(\"Error:\", e)\n",
    "emp.display_info()\n",
    "```\n",
    "**Expected Output:**  \n",
    "```\n",
    "Error: Invalid increment: $-3000.00. It must be positive.\n",
    "Employee ID: EMP1002 | Name: Bob Smith | Salary: $60000.00\n",
    "```\n",
    "\n",
    "---\n",
    "\n",
    "#### **Test Case 3: Multiple Promotions**  \n",
    "**Input:**  \n",
    "```python\n",
    "emp = Employee(\"Charlie Brown\", \"EMP1003\", 45000)\n",
    "emp.promote(4000)\n",
    "emp.promote(6000)\n",
    "emp.display_info()\n",
    "```\n",
    "**Expected Output:**  \n",
    "```\n",
    "Charlie Brown has been promoted! New salary: $49000.00\n",
    "Charlie Brown has been promoted! New salary: $55000.00\n",
    "Employee ID: EMP1003 | Name: Charlie Brown | Salary: $55000.00\n",
    "```\n",
    "\n",
    "---\n",
    "\n",
    "#### **Test Case 4: Zero Salary Increment**  \n",
    "**Input:**  \n",
    "```python\n",
    "emp = Employee(\"David Miller\", \"EMP1004\", 70000)\n",
    "try:\n",
    "    emp.promote(0)\n",
    "except InvalidSalaryIncrementException as e:\n",
    "    print(\"Error:\", e)\n",
    "emp.display_info()\n",
    "```\n",
    "**Expected Output:**  \n",
    "```\n",
    "Error: Invalid increment: $0.00. It must be positive.\n",
    "Employee ID: EMP1004 | Name: David Miller | Salary: $70000.00\n",
    "```\n",
    "\n",
    "---\n",
    "\n",
    "### **Summary of Test Cases**\n",
    "| **Test Case** | **Input** | **Expected Output** |\n",
    "|--------------|----------|--------------------|\n",
    "| **Valid Salary Increment** | `promote(5000)` | Salary increases successfully |\n",
    "| **Invalid Salary Increment (Negative)** | `promote(-3000)` | Exception is raised |\n",
    "| **Multiple Promotions** | `promote(4000)`, `promote(6000)` | Salary updates twice correctly |\n",
    "| **Zero Salary Increment** | `promote(0)` | Exception is raised |\n",
    "\n"
   ]
  },
  {
   "cell_type": "code",
   "execution_count": null,
   "metadata": {},
   "outputs": [],
   "source": []
  },
  {
   "cell_type": "code",
   "execution_count": 1,
   "metadata": {},
   "outputs": [
    {
     "name": "stdout",
     "output_type": "stream",
     "text": [
      "Employee ID: EMP1001 | Name: Alice Johnson | Salary: $50000.00\n",
      "Alice Johnson has been promoted! New salary: $55000.00\n",
      "Error: Invalid increment: $-2000.00. It must be positive.\n",
      "Employee ID: EMP1001 | Name: Alice Johnson | Salary: $55000.00\n"
     ]
    }
   ],
   "source": [
    "class InvalidSalaryIncrementException(Exception):\n",
    "    \"\"\"Custom exception raised when an invalid salary increment is provided.\"\"\"\n",
    "    def __init__(self, message=\"Salary increment must be a positive number\"):\n",
    "        self.message = message\n",
    "        super().__init__(self.message)\n",
    "\n",
    "class Employee:\n",
    "    \"\"\"A class representing an employee in a company.\"\"\"\n",
    "    \n",
    "    def __init__(self, name, employee_id, salary):\n",
    "        self.name = name\n",
    "        self.employee_id = employee_id\n",
    "        self.salary = salary\n",
    "    \n",
    "    def promote(self, increment):\n",
    "        \"\"\"Increases the salary if the increment is valid, else raises an exception.\"\"\"\n",
    "        if increment <= 0:\n",
    "            raise InvalidSalaryIncrementException(f\"Invalid increment: ${increment:.2f}. It must be positive.\")\n",
    "        self.salary += increment\n",
    "        print(f\"{self.name} has been promoted! New salary: ${self.salary:.2f}\")\n",
    "\n",
    "    def display_info(self):\n",
    "        \"\"\"Displays employee details.\"\"\"\n",
    "        print(f\"Employee ID: {self.employee_id} | Name: {self.name} | Salary: ${self.salary:.2f}\")\n",
    "\n",
    "# Test Case\n",
    "try:\n",
    "    emp1 = Employee(\"Alice Johnson\", \"EMP1001\", 50000)\n",
    "    emp1.display_info()\n",
    "    emp1.promote(5000)  # Valid increment\n",
    "    emp1.promote(-2000)  # Should raise InvalidSalaryIncrementException\n",
    "except InvalidSalaryIncrementException as e:\n",
    "    print(\"Error:\", e)\n",
    "\n",
    "emp1.display_info()  # Check final salary after the promotion attempt\n"
   ]
  },
  {
   "cell_type": "code",
   "execution_count": null,
   "metadata": {},
   "outputs": [],
   "source": []
  }
 ],
 "metadata": {
  "colab": {
   "provenance": []
  },
  "kernelspec": {
   "display_name": "Python 3 (ipykernel)",
   "language": "python",
   "name": "python3"
  },
  "language_info": {
   "codemirror_mode": {
    "name": "ipython",
    "version": 3
   },
   "file_extension": ".py",
   "mimetype": "text/x-python",
   "name": "python",
   "nbconvert_exporter": "python",
   "pygments_lexer": "ipython3",
   "version": "3.10.11"
  }
 },
 "nbformat": 4,
 "nbformat_minor": 1
}
