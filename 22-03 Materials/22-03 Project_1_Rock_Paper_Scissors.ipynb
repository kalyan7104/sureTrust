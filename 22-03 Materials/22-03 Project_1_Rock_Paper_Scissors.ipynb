{
 "cells": [
  {
   "cell_type": "markdown",
   "id": "10c7113b",
   "metadata": {},
   "source": [
    "\n",
    "# Rock-Paper-Scissors - Milestone Project\n",
    "\n",
    "## Introduction\n",
    "This project will guide you through implementing a simple **Rock-Paper-Scissors** game using **Classes and Objects**. \n",
    "\n",
    "You will complete the tasks step by step, testing each part before moving to the next.\n"
   ]
  },
  {
   "cell_type": "markdown",
   "id": "369198a5",
   "metadata": {},
   "source": [
    "\n",
    "## Task 1: Create the Player Class\n",
    "\n",
    "**Instructions:**\n",
    "1. Define a class `Player` with:\n",
    "   - `name` (string) to store the player's name.\n",
    "   - `score` (integer) initialized to 0.\n",
    "   - A method `choose_move()` that asks for user input (**rock, paper, or scissors**) and returns the choice.\n",
    "2. Validate user input (must be rock, paper, or scissors).\n",
    "\n",
    "**Test Case:**\n",
    "- Create a `Player` object and call `choose_move()`.\n"
   ]
  },
  {
   "cell_type": "code",
   "execution_count": 20,
   "id": "2838669c",
   "metadata": {},
   "outputs": [],
   "source": [
    "class Player:\n",
    "    \n",
    "    player_score=0\n",
    "    \n",
    "    def __init__(self, name):\n",
    "        \n",
    "        self.name=name\n",
    "       \n",
    "\n",
    "    def choose_move(self):\n",
    "        \n",
    "        user_choice=input(\"player_choice:\").strip().lower()\n",
    "\n",
    "        if(user_choice in [\"rock\",\"paper\",\"scissors\"]):\n",
    "                \n",
    "            return user_choice\n",
    "\n",
    "        else:\n",
    "                    \n",
    "            print(\"chooose valid option\")\n",
    "            \n",
    "            return self.choose_move()\n",
    "            \n",
    "\n",
    "        \n",
    "     \n",
    "          \n",
    "\n",
    "\n"
   ]
  },
  {
   "cell_type": "code",
   "execution_count": 21,
   "id": "7e61b79d",
   "metadata": {},
   "outputs": [
    {
     "name": "stdout",
     "output_type": "stream",
     "text": [
      "player_choice:r\n",
      "chooose valid option\n",
      "player_choice:rock\n",
      "rock\n"
     ]
    }
   ],
   "source": [
    "# Test Case\n",
    "player1 = Player(\"Alice\")\n",
    "result=player1.choose_move() \n",
    "print(result)# Expected: rock, paper, or scissors (user input)"
   ]
  },
  {
   "cell_type": "markdown",
   "id": "405e88a4",
   "metadata": {},
   "source": [
    "\n",
    "## Task 2: Create the Computer Class\n",
    "\n",
    "**Instructions:**\n",
    "1. Define a class `Computer` that **inherits** from `Player`.\n",
    "2. Override the `choose_move()` method to return a random choice of rock, paper, or scissors.\n",
    "\n",
    "**Test Case:**\n",
    "- Create a `Computer` object and call `choose_move()` multiple times to check randomness.\n"
   ]
  },
  {
   "cell_type": "code",
   "execution_count": 22,
   "id": "d216adf4",
   "metadata": {},
   "outputs": [],
   "source": [
    "import random\n",
    "\n",
    "class Computer(Player):\n",
    "    \n",
    "    computer_score=0\n",
    "    def choose_move(self):\n",
    "       \n",
    "        return random.choice([\"rock\",\"scissor\",\"paper\"])\n",
    "\n",
    "    \n",
    "\n"
   ]
  },
  {
   "cell_type": "code",
   "execution_count": 23,
   "id": "fcdeab2c",
   "metadata": {},
   "outputs": [
    {
     "name": "stdout",
     "output_type": "stream",
     "text": [
      "rock\n"
     ]
    }
   ],
   "source": [
    "# Test Case\n",
    "computer = Computer(\"AI\")\n",
    "print(computer.choose_move())  # Expected: Randomly rock, paper, or scissors"
   ]
  },
  {
   "cell_type": "markdown",
   "id": "be1a3bfd",
   "metadata": {},
   "source": [
    "\n",
    "## Task 3: Implement Game Logic\n",
    "\n",
    "**Instructions:**\n",
    "1. Define a function `determine_winner(player_choice, computer_choice)`. \n",
    "2. Use game rules:\n",
    "   - Rock beats Scissors\n",
    "   - Scissors beat Paper\n",
    "   - Paper beats Rock\n",
    "3. Return \"Player wins\", \"Computer wins\", or \"It's a tie\".\n",
    "\n",
    "**Test Case:**\n",
    "- Call `determine_winner()` with different move combinations.\n"
   ]
  },
  {
   "cell_type": "code",
   "execution_count": 24,
   "id": "9fea4e4c",
   "metadata": {},
   "outputs": [],
   "source": [
    "def determine_winner(player_choice, computer_choice):\n",
    "    \n",
    "    if(player_choice==computer_choice):\n",
    "        \n",
    "        return \"Tie\"\n",
    "    \n",
    "    if ((player_choice == \"rock\" and computer_choice == \"scissors\") or \n",
    "       (player_choice == \"scissors\" and computer_choice == \"paper\") or \n",
    "       (player_choice == \"paper\" and computer_choice == \"rock\")):\n",
    "        return \"Player wins\"\n",
    "    else:\n",
    "        return \"Computer wins\"\n",
    "\n",
    "    \n",
    "    \n",
    "\n",
    "\n"
   ]
  },
  {
   "cell_type": "code",
   "execution_count": 25,
   "id": "d1bcb7b2",
   "metadata": {},
   "outputs": [
    {
     "name": "stdout",
     "output_type": "stream",
     "text": [
      "Player wins\n",
      "Player wins\n",
      "Computer wins\n",
      "Tie\n"
     ]
    }
   ],
   "source": [
    "# Test Cases\n",
    "print(determine_winner(\"rock\", \"scissors\"))  # Expected: Player wins\n",
    "print(determine_winner(\"paper\", \"rock\"))  # Expected: Player wins\n",
    "print(determine_winner(\"scissors\", \"rock\"))  # Expected: Computer wins\n",
    "print(determine_winner(\"rock\", \"rock\")) # Expected: Tie"
   ]
  },
  {
   "cell_type": "markdown",
   "id": "89b553ff",
   "metadata": {},
   "source": [
    "\n",
    "## Task 4: Implement Game Loop\n",
    "\n",
    "**Instructions:**\n",
    "1. Create a class `Game` to manage the game.\n",
    "2. The game should:\n",
    "   - Ask the player for their move.\n",
    "   - Get the computer's move.\n",
    "   - Determine the winner.\n",
    "   - Track scores (best of 3 rounds).\n",
    "   - Ask if the player wants to play again.\n",
    "\n",
    "**Test Case:**\n",
    "- Run the game loop and check for correct scorekeeping.\n"
   ]
  },
  {
   "cell_type": "code",
   "execution_count": 30,
   "id": "ea7e113d",
   "metadata": {},
   "outputs": [
    {
     "name": "stdout",
     "output_type": "stream",
     "text": [
      "player_choice:rock\n",
      "computer choice rock\n",
      "Tie\n",
      "player_choice:rock\n",
      "computer choice rock\n",
      "Tie\n",
      "player_choice:rock\n",
      "computer choice paper\n",
      "Computer wins\n",
      "computer_score = 1\n",
      "player_score = 0 \n",
      "intersted in another round:r\n",
      "computer wins\n"
     ]
    }
   ],
   "source": [
    "class Game:\n",
    "    def __init__(self):\n",
    "        # TODO: Initialize player and computer\n",
    "        self.player=Player(\"rahil\")\n",
    "        self.computer=Computer(\"computer\")\n",
    "        self.player_score=0\n",
    "        self.computer_score=0\n",
    "        self.round=0\n",
    "\n",
    "    def play_round(self):\n",
    "           # TODO: Implement a single round\n",
    "\n",
    "            player_move=self.player.choose_move()\n",
    "            \n",
    "            computer_move=self.computer.choose_move()\n",
    "            \n",
    "            print(\"computer choice {}\".format(computer_move))\n",
    "            \n",
    "            result=determine_winner(player_move,computer_move)\n",
    "            \n",
    "            print(result)\n",
    "            \n",
    "            \n",
    "            if(result==\"Player Wins\"):\n",
    "                \n",
    "                self.player_score=self.player_score+1\n",
    "                \n",
    "            elif(result==\"Computer wins\"):\n",
    "                \n",
    "                self.computer_score=self.computer_score+1\n",
    "                \n",
    "                \n",
    "\n",
    "            \n",
    "            \n",
    "    def play_game(self):\n",
    "          # TODO: Implement game loop\n",
    "        while(self.round<3):\n",
    "            \n",
    "           \n",
    "                self.play_round()\n",
    "\n",
    "                self.round+=1\n",
    "                \n",
    "                \n",
    "                \n",
    "        print(\"computer_score = {}\".format(self.computer_score))\n",
    "\n",
    "        print(\"player_score = {} \".format(self.player_score))\n",
    "        \n",
    "        extra_round=input(\"intersted in another round:\").strip().lower()\n",
    "        \n",
    "        if(extra_round==\"yes\"):\n",
    "            \n",
    "            self.play_round()\n",
    "        \n",
    "        if(self.player_score>self.computer_score):\n",
    "            \n",
    "            print(\"player wins\")\n",
    "            \n",
    "        elif(self.computer_score>self.player_score):\n",
    "            \n",
    "            print(\"computer wins\")\n",
    "            \n",
    "        else:\n",
    "            \n",
    "            print(\"tie\")\n",
    "            \n",
    "            \n",
    "      \n",
    "      \n",
    "    def reset_game(self):\n",
    "        self.player_score=0\n",
    "        self.computer_score=0\n",
    "        self.round=0\n",
    "               \n",
    "\n",
    "\n",
    "        \n",
    "            \n",
    "        \n",
    "\n",
    "# Test Case\n",
    "# Run the game manually\n",
    "game = Game()\n",
    "game.play_game()\n"
   ]
  },
  {
   "cell_type": "markdown",
   "id": "58f9aa5c",
   "metadata": {},
   "source": [
    "\n",
    "## Final Task: Add Replay Option\n",
    "\n",
    "**Instructions:**\n",
    "1. Modify `Game` class to ask if the user wants to play again.\n",
    "2. If yes, reset scores and start a new game.\n",
    "\n",
    "**Test Case:**\n",
    "- Run the game and test replay functionality.\n"
   ]
  },
  {
   "cell_type": "code",
   "execution_count": 28,
   "id": "6e420bfc",
   "metadata": {},
   "outputs": [
    {
     "name": "stdout",
     "output_type": "stream",
     "text": [
      "intersted to play again:yes\n",
      "player_choice:no\n",
      "chooose valid option\n",
      "player_choice:rock\n",
      "computer choice paper\n",
      "Computer wins\n",
      "player_choice:rock\n",
      "computer choice scissor\n",
      "Computer wins\n",
      "player_choice:rock\n",
      "computer choice scissor\n",
      "Computer wins\n",
      "computer_score: 3\n",
      "0\n",
      "intersted in another round:0\n",
      "computer wins\n"
     ]
    }
   ],
   "source": [
    "play_again=input(\"intersted to play again:\").strip().lower()\n",
    "if(play_again==\"yes\"):\n",
    "    game.reset_game()\n",
    "    game.play_game()"
   ]
  },
  {
   "cell_type": "code",
   "execution_count": null,
   "id": "f56dc145",
   "metadata": {},
   "outputs": [],
   "source": []
  }
 ],
 "metadata": {
  "kernelspec": {
   "display_name": "Python 3 (ipykernel)",
   "language": "python",
   "name": "python3"
  },
  "language_info": {
   "codemirror_mode": {
    "name": "ipython",
    "version": 3
   },
   "file_extension": ".py",
   "mimetype": "text/x-python",
   "name": "python",
   "nbconvert_exporter": "python",
   "pygments_lexer": "ipython3",
   "version": "3.10.12"
  }
 },
 "nbformat": 4,
 "nbformat_minor": 5
}
