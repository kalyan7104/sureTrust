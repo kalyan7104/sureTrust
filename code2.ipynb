{
 "cells": [
  {
   "cell_type": "markdown",
   "metadata": {},
   "source": [
    "<h2 style=\"color:blue\"> problem 1 :</h2>\n",
    "\n",
    "<code>\n",
    " t = (\"s\", \"dymw\", \"z\", \"ndkjaakjkjnda\",\"\",\"tybhg\",\"nmbcjbabdbsabbsbhdbshr\",\"htroy\" )</code>\n",
    "\n",
    "\n",
    "Explanation:\n",
    "* A list of length of each element in the tuple is : <code>[1,4,1,13,0,5,22,5]</code>\n",
    "* Upon replacing numbers with corresponding alphabets and spaces, we get :\n",
    "<code>['A','D','A','M','','E','V','E'] </code>\n",
    "\n",
    "#### You are given such a tuple of strings, what will be your approach to decode it?"
   ]
  },
  {
   "cell_type": "markdown",
   "metadata": {},
   "source": [
    "#### Describe your approach (no code required, just write the steps) in the following steps (it could be less than 5) :\n",
    " - Step 1 : Store length of each element of tuple into a list   \n",
    " - Step 2 : Store the alphabets according to their position which is the length of corresponding tuple.\n",
    " - Step 3 : Replace the list of lengths with the corressponding alphabets and spaces\n",
    " - Step 4 :Combine the list of alphabets and spaces to form a final sequence of decoded characters.\n",
    " - Step 5 :Return or print the decoded sequence as the final result."
   ]
  },
  {
   "cell_type": "markdown",
   "metadata": {},
   "source": [
    "<h2 style=\"color:blue\"> problem 2 :</h2>\n",
    "Create a dictionary where the key corresponds to the position of the alphabet(consider space as the first alphabet) and the value corresponding to the key will be the alphabet."
   ]
  },
  {
   "cell_type": "code",
   "execution_count": 1,
   "metadata": {},
   "outputs": [
    {
     "data": {
      "text/plain": [
       "{'a': 1,\n",
       " 'b': 2,\n",
       " 'c': 3,\n",
       " 'd': 4,\n",
       " 'e': 5,\n",
       " 'f': 6,\n",
       " 'g': 7,\n",
       " 'h': 8,\n",
       " 'i': 9,\n",
       " 'j': 10,\n",
       " 'k': 11,\n",
       " 'l': 12,\n",
       " 'm': 13,\n",
       " 'n': 14,\n",
       " 'o': 15,\n",
       " 'p': 16,\n",
       " 'q': 17,\n",
       " 'r': 18,\n",
       " 's': 19,\n",
       " 't': 20,\n",
       " 'u': 21,\n",
       " 'v': 22,\n",
       " 'w': 23,\n",
       " 'x': 24,\n",
       " 'y': 25,\n",
       " 'z': 26}"
      ]
     },
     "execution_count": 1,
     "metadata": {},
     "output_type": "execute_result"
    }
   ],
   "source": [
    "alpha_dict = {chr(i + 97) : i + 1 for i in range(26)}\n",
    "alpha_dict"
   ]
  },
  {
   "cell_type": "markdown",
   "metadata": {},
   "source": [
    "<h2 style=\"color:blue\"> problem 3 :</h2>\n",
    "\n",
    "#### Suppose you are given a particular value from the dictionary. Write the code to extract the corresponding key from the dictionary\n",
    "\n",
    "* For example, if you are given the value <code>'h'</code>, the corresponding key should be <code>8</code>"
   ]
  },
  {
   "cell_type": "code",
   "execution_count": 2,
   "metadata": {},
   "outputs": [
    {
     "name": "stdout",
     "output_type": "stream",
     "text": [
      "dict_keys(['a', 'b', 'c', 'd'])\n",
      "dict_values([1, 2, 3, 4])\n",
      "Position is : 2\n"
     ]
    }
   ],
   "source": [
    "dict_1 = {'a':1,'b':2,'c':3,'d':4}\n",
    "# Get your list of keys and print it out\n",
    "print(dict_1.keys())\n",
    "\n",
    "# Get your list of values and print it out\n",
    "print(dict_1.values())\n",
    "#print(dict_1.items())\n",
    "\n",
    "# Your code to extract the key for a given value 'h'\n",
    "\n",
    "position = None\n",
    "for key, value in dict_1.items():\n",
    "    if key == 'b':\n",
    "        position = value\n",
    "        break\n",
    "\n",
    "print(\"Position is :\", position)"
   ]
  },
  {
   "cell_type": "markdown",
   "metadata": {},
   "source": [
    "<h2 style=\"color:blue\"> problem 4 :</h2>\n",
    " Scientists receive the following message code from the alien civilization\n",
    "\n",
    "```\n",
    "encrypyted_message = (\"ajsuydtbe\", \"\", \"wunjbfusnjrgut\", \"uhbhr\", \"oirun\", \"lpef\", \"\", \"vhejsibr\", \"ydtse\", \"qlvuusrntuos\", \"ijwlbutybhlsoaxh\")\n",
    "```\n",
    "#### You have been asked to decode the above message"
   ]
  },
  {
   "cell_type": "code",
   "execution_count": 3,
   "metadata": {},
   "outputs": [
    {
     "name": "stdout",
     "output_type": "stream",
     "text": [
      "[9, 0, 14, 5, 5, 4, 0, 8, 5, 12, 16]\n"
     ]
    }
   ],
   "source": [
    "# Store the message in a variable\n",
    "encrypted_message = (\"ajsuydtbe\", \"\", \"wunjbfusnjrgut\", \n",
    "                     \"uhbhr\", \"oirun\", \"lpef\", \"\", \"vhejsibr\", \n",
    "                     \"ydtse\", \"qlvuusrntuos\", \"ijwlbutybhlsoaxh\")\n",
    "\n",
    "# Follow the steps from your solution to problem 1\n",
    "\n",
    "# Create an empty list\n",
    "string_length_list  = []\n",
    "\n",
    "# Append the length of strings of your tuple one by one\n",
    "for i in encrypted_message:\n",
    "    string_length_list.append(len(i))\n",
    "\n",
    "# Print the list of string lengths\n",
    "print(string_length_list)\n"
   ]
  },
  {
   "cell_type": "code",
   "execution_count": 4,
   "metadata": {},
   "outputs": [
    {
     "name": "stdout",
     "output_type": "stream",
     "text": [
      "I NEED HELP\n"
     ]
    }
   ],
   "source": [
    "# Create a string to store the decrypyted message\n",
    "numbers = string_length_list\n",
    "\n",
    "alphabet_dict = {0: ' ', 1: 'A', 2: 'B', 3: 'C', 4: 'D', 5: 'E', 6: 'F', 7: 'G', 8: 'H', 9: 'I', \n",
    "                 10: 'J', 11: 'K', 12: 'L', 13: 'M', 14: 'N', 15: 'O', 16: 'P', 17: 'Q', 18: 'R', \n",
    "                 19: 'S', 20: 'T', 21: 'U', 22: 'V', 23: 'W', 24: 'X', 25: 'Y', 26: 'Z'}\n",
    "\n",
    "# Concatenate the characters one by one to get your final decoded message\n",
    "converted_message = \"\"\n",
    "for i in numbers:\n",
    "    converted_message += alphabet_dict.get(i)\n",
    "\n",
    "# Print the message you have decrypted\n",
    "print(converted_message)\n"
   ]
  },
  {
   "cell_type": "markdown",
   "metadata": {},
   "source": [
    "<h2 style=\"color:blue\"> problem 5 :</h2>\n",
    "Encrypt a message for the alien civilization which the scientists can send through the EM signals. Scientists want to ask the aliens <code>\"why\" </code>"
   ]
  },
  {
   "cell_type": "code",
   "execution_count": 5,
   "metadata": {},
   "outputs": [
    {
     "name": "stdout",
     "output_type": "stream",
     "text": [
      "23 8 25 \n"
     ]
    }
   ],
   "source": [
    "def encrypted_message(msg):\n",
    "    encrypted = \"\"\n",
    "    for char in msg:\n",
    "        position = ord(char.lower()) - 96  # ord('a') = 97, subtract 96 to get 1-based index(a)\n",
    "        encrypted += str(position) + \" \"\n",
    "    return encrypted\n",
    "\n",
    "msg = 'why'\n",
    "print(encrypted_message(msg))"
   ]
  },
  {
   "cell_type": "markdown",
   "metadata": {},
   "source": [
    "<h2 style=\"color:blue\"> problem 6 :</h2>\n",
    "Get the encrypted message using the final list obtained in the above problem  where you will use only alphabet <code>\"a\"</code>"
   ]
  },
  {
   "cell_type": "code",
   "execution_count": null,
   "metadata": {},
   "outputs": [
    {
     "name": "stdout",
     "output_type": "stream",
     "text": [
      "['aaaaaaaaaaaaaaaaaaaaaaa', 'aaaaaaaa', 'aaaaaaaaaaaaaaaaaaaaaaaaa']\n"
     ]
    }
   ],
   "source": [
    "\n",
    "def generate_a_strings(lengths):\n",
    "    a_strings = ['a' * i  for i in lengths]\n",
    "    return a_strings\n",
    "\n",
    "lengths = [23, 8, 25]  \n",
    "a_strings = generate_a_strings(lengths)\n",
    "print(a_strings)\n"
   ]
  },
  {
   "cell_type": "markdown",
   "metadata": {},
   "source": [
    "<h2 style=\"color:blue\"> problem 7 :</h2>\n",
    "\n",
    "#### Aliens receive the reply from the scientists. They decode the message and send an encrypted message again. Due to some aberrations because of an existing very massive star, one of the words of their message gets transformed into something gibberish/unreadable. They sent the following message:\n",
    "\n",
    "* <code> I saw a \\<**some gibberish**> please help me soon\n",
    "\n",
    "#### Scientists were baffled by the presence of such an indecipherable word in the message sent by Aliens. Suddenly they receive another signal from them which contains the gibberish word but this time the letters have been jumbled up. Scientists need to sort the letters of this word in alphabetical order within it to get the actual transmitted word\n",
    "\n",
    "#### The encoded list of the unknown word is:\n",
    "\n",
    "```\n",
    "jumbled_word = [\"hugdtck\", \"tsogbklesrawqcbjplu\", \"qkisrubskoaitbt\", \"nslaoetr\", \"oksinjioaendnjsdqwbh\"]\n",
    "```\n"
   ]
  },
  {
   "cell_type": "code",
   "execution_count": 7,
   "metadata": {},
   "outputs": [
    {
     "name": "stdout",
     "output_type": "stream",
     "text": [
      "['c', 'd', 'g', 'h', 'k', 't', 'u']\n",
      "['a', 'b', 'b', 'c', 'e', 'g', 'j', 'k', 'l', 'l', 'o', 'p', 'q', 'r', 's', 's', 't', 'u', 'w']\n",
      "['a', 'b', 'b', 'i', 'i', 'k', 'k', 'o', 'q', 'r', 's', 's', 't', 't', 'u']\n",
      "['a', 'e', 'l', 'n', 'o', 'r', 's', 't']\n",
      "['a', 'b', 'd', 'd', 'e', 'h', 'i', 'i', 'j', 'j', 'k', 'n', 'n', 'n', 'o', 'o', 'q', 's', 's', 'w']\n"
     ]
    }
   ],
   "source": [
    "def sort_jumbled(jumbled_word):\n",
    "    # Sort each word alphabetically and return the sorted list\n",
    "    sorted_words = [sorted(word) for word in jumbled_word]\n",
    "    return sorted_words\n",
    "\n",
    "jumbled_word = [\"hugdtck\", \"tsogbklesrawqcbjplu\", \"qkisrubskoaitbt\", \n",
    "                \"nslaoetr\", \"oksinjioaendnjsdqwbh\"]\n",
    "\n",
    "sorted_words = sort_jumbled(jumbled_word)\n",
    "\n",
    "for word in sorted_words:\n",
    "    print(word)\n"
   ]
  }
 ],
 "metadata": {
  "kernelspec": {
   "display_name": "Python 3",
   "language": "python",
   "name": "python3"
  },
  "language_info": {
   "codemirror_mode": {
    "name": "ipython",
    "version": 3
   },
   "file_extension": ".py",
   "mimetype": "text/x-python",
   "name": "python",
   "nbconvert_exporter": "python",
   "pygments_lexer": "ipython3",
   "version": "3.12.0"
  }
 },
 "nbformat": 4,
 "nbformat_minor": 2
}
