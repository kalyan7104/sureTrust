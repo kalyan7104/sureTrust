{
 "cells": [
  {
   "cell_type": "code",
   "execution_count": 1,
   "id": "6622b944",
   "metadata": {},
   "outputs": [
    {
     "name": "stdout",
     "output_type": "stream",
     "text": [
      "enter sentence:kalyan kumar\n"
     ]
    },
    {
     "data": {
      "text/plain": [
       "{'a': 3, 'e': 0, 'i': 0, 'o': 0, 'u': 1}"
      ]
     },
     "execution_count": 1,
     "metadata": {},
     "output_type": "execute_result"
    }
   ],
   "source": [
    "sentence=input(\"enter sentence:\")\n",
    "lst=[\"a\",\"e\",\"i\",\"o\",\"u\"]\n",
    "dct={}\n",
    "for i in lst:\n",
    "     dct[i]=0\n",
    "for i in sentence.lower():\n",
    "    if i in lst:\n",
    "        dct[i]+=1\n",
    "dct\n",
    "#Example Input: \"Education is important\"\n",
    "#: {'a': 2, 'e': 1, 'i': 2, 'o': 1, 'u': 1}"
   ]
  },
  {
   "cell_type": "code",
   "execution_count": null,
   "id": "6b2be414",
   "metadata": {},
   "outputs": [],
   "source": []
  },
  {
   "cell_type": "code",
   "execution_count": 4,
   "id": "25b7e745",
   "metadata": {},
   "outputs": [
    {
     "name": "stdout",
     "output_type": "stream",
     "text": [
      "enter start value:100\n",
      "enter end value:150\n",
      "101\n",
      "111\n",
      "121\n",
      "131\n",
      "141\n"
     ]
    }
   ],
   "source": [
    "def palindrome(num):\n",
    "    temp=num\n",
    "    rev=0\n",
    "    while(num>0):\n",
    "        rev=rev*10+num%10\n",
    "        num=num//10\n",
    "    if(temp==rev):\n",
    "        print(temp)\n",
    "start=int(input(\"enter start value:\"))\n",
    "end=int(input(\"enter end value:\"))\n",
    "for i in range(start,end+1):\n",
    "        palindrome(i)\n",
    "\n",
    "        "
   ]
  },
  {
   "cell_type": "code",
   "execution_count": 11,
   "id": "27a2bf5e",
   "metadata": {},
   "outputs": [
    {
     "name": "stdout",
     "output_type": "stream",
     "text": [
      "Employee ID: 200\n",
      "Name: rao\n",
      "Salary: 15000\n",
      "Employee details written to file.\n",
      "Employee details written to file.\n",
      "Employee Records:\n",
      "ID: 101, Name: Alice, Salary: 55000\n",
      "ID: 102, Name: Bob, Salary: 60000\n",
      "ID: 100, Name: Kalyan, Salary: 25000\n",
      "ID: 101, Name: kumar, Salary: 10000\n",
      "ID: 200, Name: rao, Salary: 15000\n",
      "ID: 201, Name: ramesh, Salary: 20000\n"
     ]
    }
   ],
   "source": [
    "import csv\n",
    "\n",
    "class Employee:\n",
    "    def __init__(self, emp_id, name, salary):\n",
    "        self.emp_id = emp_id\n",
    "        self.name = name\n",
    "        self.salary = salary\n",
    "\n",
    "    def display_details(self):\n",
    "        print(f\"Employee ID: {self.emp_id}\")\n",
    "        print(f\"Name: {self.name}\")\n",
    "        print(f\"Salary: {self.salary}\")\n",
    "\n",
    "    def write_to_file(self, filename=\"employee_data.txt\"):\n",
    "        with open(filename, mode='a', newline='') as file:\n",
    "            writer = csv.writer(file)\n",
    "            writer.writerow([self.emp_id, self.name, self.salary])\n",
    "        print(\"Employee details written to file.\")\n",
    "\n",
    "    @staticmethod\n",
    "    def read_from_file(filename=\"employee_data.txt\"):\n",
    "        try:\n",
    "            with open(filename, mode='r') as file:\n",
    "                reader = csv.reader(file)\n",
    "                print(\"Employee Records:\")\n",
    "                for row in reader:\n",
    "                    print(f\"ID: {row[0]}, Name: {row[1]}, Salary: {row[2]}\")\n",
    "        except FileNotFoundError:\n",
    "            print(\"File not found.\")\n",
    "\n",
    "\n",
    "emp1 = Employee(200, \"rao\", 15000)\n",
    "emp1.display_details()\n",
    "emp1.write_to_file()\n",
    "\n",
    "emp2 = Employee(201, \"ramesh\", 20000)\n",
    "emp2.write_to_file()\n",
    "\n",
    "Employee.read_from_file()\n"
   ]
  },
  {
   "cell_type": "code",
   "execution_count": 10,
   "id": "0b0b6bf5",
   "metadata": {},
   "outputs": [
    {
     "name": "stdout",
     "output_type": "stream",
     "text": [
      "Number of lines containing 'error': 3\n"
     ]
    }
   ],
   "source": [
    "class LogAnalyzer:\n",
    "    def __init__(self, filename=\"log.txt\"):\n",
    "        self.filename = filename\n",
    "\n",
    "    def count_errors(self):\n",
    "        count = 0\n",
    "        try:\n",
    "            with open(self.filename, 'r') as file:\n",
    "                for line in file:\n",
    "                    if \"error\" in line.lower():\n",
    "                        count += 1\n",
    "            print(f\"Number of lines containing 'error': {count}\")\n",
    "        except FileNotFoundError:\n",
    "            print(f\"The file '{self.filename}' was not found.\")\n",
    "\n",
    "\n",
    "analyzer = LogAnalyzer()\n",
    "analyzer.count_errors()\n"
   ]
  },
  {
   "cell_type": "code",
   "execution_count": null,
   "id": "17dcbdf8",
   "metadata": {},
   "outputs": [],
   "source": []
  },
  {
   "cell_type": "code",
   "execution_count": null,
   "id": "ba917e5a",
   "metadata": {},
   "outputs": [],
   "source": []
  }
 ],
 "metadata": {
  "kernelspec": {
   "display_name": "Python 3 (ipykernel)",
   "language": "python",
   "name": "python3"
  },
  "language_info": {
   "codemirror_mode": {
    "name": "ipython",
    "version": 3
   },
   "file_extension": ".py",
   "mimetype": "text/x-python",
   "name": "python",
   "nbconvert_exporter": "python",
   "pygments_lexer": "ipython3",
   "version": "3.10.12"
  }
 },
 "nbformat": 4,
 "nbformat_minor": 5
}
