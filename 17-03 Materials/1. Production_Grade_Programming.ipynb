{
 "cells": [
  {
   "cell_type": "markdown",
   "metadata": {
    "id": "wN8Oom8TtUcj"
   },
   "source": [
    "# What is Production Environment?\n",
    "\n",
    "Production environment is a term used mostly by developers to describe the setting where software and other products are actually put into operation for their intended uses by end users.\n",
    "\n",
    "Concepts that will be useful in writing production grade code:\n",
    "* Object Oriented Programming\n",
    "* Handling Errors and Exceptions"
   ]
  },
  {
   "cell_type": "markdown",
   "metadata": {
    "collapsed": true,
    "id": "tY-zYTU6tUck"
   },
   "source": [
    "# 1. Object Oriented Programming\n",
    "\n",
    "Object Oriented Programming (OOP) tends to be one of the most interesting concepts to learn in Python.\n",
    "\n",
    "For this lesson we will construct our knowledge of OOP in Python by building on the following topics:\n",
    "\n",
    "* Objects\n",
    "* Using the *class* keyword\n",
    "* Creating class attributes\n",
    "* Creating methods in a class\n",
    "* Learning about Polymorphism\n",
    "\n",
    "Lets start the lesson by remembering about the Basic Python Objects. For example:"
   ]
  },
  {
   "cell_type": "code",
   "execution_count": null,
   "metadata": {
    "id": "074xnaDptUcl"
   },
   "outputs": [],
   "source": [
    "empty_list = []"
   ]
  },
  {
   "cell_type": "code",
   "execution_count": null,
   "metadata": {
    "colab": {
     "base_uri": "https://localhost:8080/"
    },
    "id": "CKsj93ax1H-y",
    "outputId": "e88bf0ad-6f84-4a9e-c0f2-5f9c7486f8f4"
   },
   "outputs": [
    {
     "data": {
      "text/plain": [
       "[]"
      ]
     },
     "execution_count": 2,
     "metadata": {
      "tags": []
     },
     "output_type": "execute_result"
    }
   ],
   "source": [
    "empty_list"
   ]
  },
  {
   "cell_type": "code",
   "execution_count": null,
   "metadata": {
    "id": "zm9GXzT20P-2"
   },
   "outputs": [],
   "source": [
    "another_empty_list = list()"
   ]
  },
  {
   "cell_type": "code",
   "execution_count": null,
   "metadata": {
    "colab": {
     "base_uri": "https://localhost:8080/"
    },
    "id": "MjiSihea1LJr",
    "outputId": "fd434706-a70e-46d2-9f19-d02430e1fdcb"
   },
   "outputs": [
    {
     "data": {
      "text/plain": [
       "[]"
      ]
     },
     "execution_count": 4,
     "metadata": {
      "tags": []
     },
     "output_type": "execute_result"
    }
   ],
   "source": [
    "another_empty_list"
   ]
  },
  {
   "cell_type": "markdown",
   "metadata": {
    "id": "_7YoNowOtUco"
   },
   "source": [
    "Remember how we could call methods on a list?"
   ]
  },
  {
   "cell_type": "code",
   "execution_count": null,
   "metadata": {
    "id": "zXhwOgpPtUco"
   },
   "outputs": [],
   "source": [
    "another_empty_list.append(2)"
   ]
  },
  {
   "cell_type": "code",
   "execution_count": null,
   "metadata": {
    "colab": {
     "base_uri": "https://localhost:8080/"
    },
    "id": "7Qj0Tcow1UQ3",
    "outputId": "9f85b0ce-4a5e-4e89-acc4-348dd53d7e60"
   },
   "outputs": [
    {
     "data": {
      "text/plain": [
       "[2]"
      ]
     },
     "execution_count": 6,
     "metadata": {
      "tags": []
     },
     "output_type": "execute_result"
    }
   ],
   "source": [
    "another_empty_list"
   ]
  },
  {
   "cell_type": "code",
   "execution_count": null,
   "metadata": {
    "id": "L-u_85Po1ZiQ"
   },
   "outputs": [],
   "source": [
    "another_empty_list.append(1)\n",
    "another_empty_list.append(3)"
   ]
  },
  {
   "cell_type": "code",
   "execution_count": null,
   "metadata": {
    "colab": {
     "base_uri": "https://localhost:8080/"
    },
    "id": "MbxECXha1dLP",
    "outputId": "ef51b04b-a177-44ab-8c27-d519db99b1d8"
   },
   "outputs": [
    {
     "data": {
      "text/plain": [
       "[2, 1, 3]"
      ]
     },
     "execution_count": 8,
     "metadata": {
      "tags": []
     },
     "output_type": "execute_result"
    }
   ],
   "source": [
    "another_empty_list"
   ]
  },
  {
   "cell_type": "code",
   "execution_count": null,
   "metadata": {
    "colab": {
     "base_uri": "https://localhost:8080/"
    },
    "id": "q_BaBJeayeAR",
    "outputId": "53a170bc-7421-4a42-ddde-1a5b696b4442"
   },
   "outputs": [
    {
     "data": {
      "text/plain": [
       "2"
      ]
     },
     "execution_count": 9,
     "metadata": {
      "tags": []
     },
     "output_type": "execute_result"
    }
   ],
   "source": [
    "another_empty_list.index(3)"
   ]
  },
  {
   "cell_type": "markdown",
   "metadata": {
    "id": "KvpqGgLLtUcr"
   },
   "source": [
    "What we will basically be doing in this lecture is exploring how we could create an Object type like a list. We've already learned about how to create functions. So let's explore Objects in general:\n",
    "\n",
    "## Objects\n",
    "In Python, *everything is an object*. Remember from previous lectures we can use type() to check the type of object something is:"
   ]
  },
  {
   "cell_type": "code",
   "execution_count": null,
   "metadata": {
    "colab": {
     "base_uri": "https://localhost:8080/"
    },
    "id": "x6xnvszD4jNA",
    "outputId": "0ed03f96-f28d-4baf-98df-65192abae4ff"
   },
   "outputs": [
    {
     "name": "stdout",
     "output_type": "stream",
     "text": [
      "<class 'int'>\n"
     ]
    }
   ],
   "source": [
    "the_sixth_sense = 6\n",
    "print(type(the_sixth_sense))"
   ]
  },
  {
   "cell_type": "code",
   "execution_count": null,
   "metadata": {
    "colab": {
     "base_uri": "https://localhost:8080/"
    },
    "id": "e8BHON1jtUcs",
    "outputId": "460750e1-4bd4-4907-815d-167c639e66f4"
   },
   "outputs": [
    {
     "name": "stdout",
     "output_type": "stream",
     "text": [
      "<class 'float'>\n"
     ]
    }
   ],
   "source": [
    "two_and_a_half_men = 2.5\n",
    "print(type(two_and_a_half_men))"
   ]
  },
  {
   "cell_type": "code",
   "execution_count": null,
   "metadata": {
    "colab": {
     "base_uri": "https://localhost:8080/"
    },
    "id": "d3wRT6DL5H3Q",
    "outputId": "ee2e66f8-ec69-4d89-8413-81bfbf2c1733"
   },
   "outputs": [
    {
     "name": "stdout",
     "output_type": "stream",
     "text": [
      "<class 'list'>\n"
     ]
    }
   ],
   "source": [
    "schindlers_list = list()\n",
    "print(type(schindlers_list))"
   ]
  },
  {
   "cell_type": "code",
   "execution_count": null,
   "metadata": {
    "id": "T9s5C_AryiU9"
   },
   "outputs": [],
   "source": [
    "another_list = list()"
   ]
  },
  {
   "cell_type": "code",
   "execution_count": null,
   "metadata": {
    "colab": {
     "base_uri": "https://localhost:8080/"
    },
    "id": "_IiPXPfK5G8O",
    "outputId": "ab99df79-f2c1-4acf-fb77-a579380c9af0"
   },
   "outputs": [
    {
     "name": "stdout",
     "output_type": "stream",
     "text": [
      "<class 'dict'>\n"
     ]
    }
   ],
   "source": [
    "tharoor = {'farrago':'a confused mixture'}\n",
    "print(type(tharoor))"
   ]
  },
  {
   "cell_type": "markdown",
   "metadata": {
    "id": "4RUiqsextUcu"
   },
   "source": [
    "So we know all these things are objects, so how can we create our own Object types? That is where the <code>class</code> keyword comes in.\n",
    "## class\n",
    "User defined objects are created using the <code>class</code> keyword. The class is a blueprint that defines the nature of a future object. From classes we can construct instances. An instance is a specific object created from a particular class. For example, above we created the object <code>another_empty_list</code> which was an instance of a list object.\n",
    "\n",
    "Let see how we can use <code>class</code>:"
   ]
  },
  {
   "cell_type": "code",
   "execution_count": null,
   "metadata": {
    "id": "-St1spSutUcv"
   },
   "outputs": [],
   "source": [
    "# Create a new object type called FirstClass\n",
    "class FirstClass:\n",
    "    pass"
   ]
  },
  {
   "cell_type": "code",
   "execution_count": null,
   "metadata": {
    "colab": {
     "base_uri": "https://localhost:8080/"
    },
    "id": "wm_mkKWZtUcx",
    "outputId": "5dc324dd-ad80-43b3-b791-ed3c22c5e610"
   },
   "outputs": [
    {
     "name": "stdout",
     "output_type": "stream",
     "text": [
      "<class '__main__.FirstClass'>\n"
     ]
    }
   ],
   "source": [
    "# Instance of FirstClass\n",
    "x = FirstClass()\n",
    "print(type(x))"
   ]
  },
  {
   "cell_type": "code",
   "execution_count": null,
   "metadata": {
    "colab": {
     "base_uri": "https://localhost:8080/"
    },
    "id": "110XHhG_tUcz",
    "outputId": "69859b4d-e420-422d-eb75-b84b48afc727"
   },
   "outputs": [
    {
     "name": "stdout",
     "output_type": "stream",
     "text": [
      "<class '__main__.FirstClass'>\n"
     ]
    }
   ],
   "source": [
    "y = FirstClass()\n",
    "print(type(y))"
   ]
  },
  {
   "cell_type": "markdown",
   "metadata": {
    "id": "0GzJ7pXVtUc2"
   },
   "source": [
    "By convention we give classes a name that starts with a capital letter. Note how <code>x</code> is now the reference to our new instance of a FirstClass class. In other words, we **instantiate** the FirstClass class.\n",
    "\n",
    "Inside of the class we currently just have pass. But we can define class attributes and methods.\n",
    "\n",
    "An **attribute** is a characteristic of an object.\n",
    "A **method** is an operation we can perform with the object.\n",
    "\n",
    "For example, we can create a class called Dog. An attribute of a dog may be its breed or its name, while a method of a dog may be defined by a .bark() method which returns a sound.\n",
    "\n",
    "Let's get a better understanding of attributes through an example.\n",
    "\n",
    "## Attributes\n",
    "The syntax for creating an attribute is:\n",
    "    \n",
    "    self.attribute = something\n",
    "    \n",
    "There is a special method called:\n",
    "\n",
    "    __init__()\n",
    "\n",
    "This method is used to initialize the attributes of an object. For example:"
   ]
  },
  {
   "cell_type": "code",
   "execution_count": null,
   "metadata": {
    "id": "v9cCQCqPtUc2"
   },
   "outputs": [],
   "source": [
    "class Dog:\n",
    "\n",
    "    def __init__(self, breed, name):\n",
    "        self.breed_attribute = breed\n",
    "        self.name_attribute = name"
   ]
  },
  {
   "cell_type": "code",
   "execution_count": null,
   "metadata": {
    "id": "JLdPP81ptUc4"
   },
   "outputs": [],
   "source": [
    "sam_object = Dog(breed='Lab', name = 'Sam')\n",
    "frank_object = Dog(breed='Huskie', name = 'Frank')"
   ]
  },
  {
   "cell_type": "code",
   "execution_count": null,
   "metadata": {
    "colab": {
     "base_uri": "https://localhost:8080/",
     "height": 35
    },
    "id": "7ZdGFUwAeSu5",
    "outputId": "19bfed6b-301a-4574-d46c-403a53a8df94"
   },
   "outputs": [
    {
     "data": {
      "application/vnd.google.colaboratory.intrinsic+json": {
       "type": "string"
      },
      "text/plain": [
       "'Lab'"
      ]
     },
     "execution_count": 17,
     "metadata": {
      "tags": []
     },
     "output_type": "execute_result"
    }
   ],
   "source": [
    "sam_object.breed_attribute"
   ]
  },
  {
   "cell_type": "markdown",
   "metadata": {
    "id": "uIP-Vw97tUc6"
   },
   "source": [
    "Lets break down what we have above.The special method\n",
    "\n",
    "    __init__()\n",
    "is called automatically right after the object has been created:\n",
    "\n",
    "    def __init__(self, breed):\n",
    "Each attribute in a class definition begins with a reference to the instance object. It is by convention named self. The breed is the argument. The value is passed during the class instantiation.\n",
    "\n",
    "     self.breed = breed"
   ]
  },
  {
   "cell_type": "markdown",
   "metadata": {
    "id": "-mBKAs8ltUc6"
   },
   "source": [
    "Now we have created two instances of the Dog class. With two breed types, we can then access these attributes like this:"
   ]
  },
  {
   "cell_type": "code",
   "execution_count": null,
   "metadata": {
    "colab": {
     "base_uri": "https://localhost:8080/",
     "height": 35
    },
    "id": "nHsgoXD7tUc7",
    "outputId": "82fd2eff-0148-454b-bd14-e33065066a3f"
   },
   "outputs": [
    {
     "data": {
      "application/vnd.google.colaboratory.intrinsic+json": {
       "type": "string"
      },
      "text/plain": [
       "'Sam'"
      ]
     },
     "execution_count": 18,
     "metadata": {
      "tags": []
     },
     "output_type": "execute_result"
    }
   ],
   "source": [
    "sam_object.name_attribute"
   ]
  },
  {
   "cell_type": "code",
   "execution_count": null,
   "metadata": {
    "colab": {
     "base_uri": "https://localhost:8080/",
     "height": 35
    },
    "id": "gH38mpAPtUc9",
    "outputId": "1d50416d-747b-46ca-ed3c-3d86fbe69576"
   },
   "outputs": [
    {
     "data": {
      "application/vnd.google.colaboratory.intrinsic+json": {
       "type": "string"
      },
      "text/plain": [
       "'Frank'"
      ]
     },
     "execution_count": 19,
     "metadata": {
      "tags": []
     },
     "output_type": "execute_result"
    }
   ],
   "source": [
    "frank_object.name_attribute"
   ]
  },
  {
   "cell_type": "markdown",
   "metadata": {
    "id": "nOUFB6IGtUdD"
   },
   "source": [
    "Note how we don't have any parentheses after breed; this is because it is an attribute and doesn't take any arguments."
   ]
  },
  {
   "cell_type": "markdown",
   "metadata": {
    "id": "AZ1ToQpltUdE"
   },
   "source": [
    "## Methods\n",
    "\n",
    "Methods are functions defined inside the body of a class. They are used to perform operations with the attributes of our objects. Methods are a key concept of the OOP paradigm. They are essential to dividing responsibilities in programming, especially in large applications.\n",
    "\n",
    "You can basically think of methods as functions acting on an Object that take the Object itself into account through its *self* argument.\n",
    "\n",
    "Let's go through an example of creating a Circle class:"
   ]
  },
  {
   "cell_type": "code",
   "execution_count": null,
   "metadata": {
    "id": "IH9PURqwtUdF"
   },
   "outputs": [],
   "source": [
    "class Circle:\n",
    "\n",
    "  def __init__(self, radius=1):\n",
    "    self.radius = radius\n",
    "    self.area = 3.14 * radius * radius\n",
    "\n",
    "  def setRadius(self, new_radius):\n",
    "    self.radius = new_radius\n",
    "    self.area = 3.14 * new_radius * new_radius\n",
    "\n",
    "  def getCircumference(self):\n",
    "    return 2 * 3.14 * self.radius"
   ]
  },
  {
   "cell_type": "code",
   "execution_count": null,
   "metadata": {
    "id": "xpiQhNfDtUdH"
   },
   "outputs": [],
   "source": [
    "c = Circle()"
   ]
  },
  {
   "cell_type": "code",
   "execution_count": null,
   "metadata": {
    "colab": {
     "base_uri": "https://localhost:8080/"
    },
    "id": "wwhkXDJqjAHg",
    "outputId": "e6436d97-9581-4edd-fb16-1a2aacf66d4c"
   },
   "outputs": [
    {
     "data": {
      "text/plain": [
       "3.14"
      ]
     },
     "execution_count": 9,
     "metadata": {
      "tags": []
     },
     "output_type": "execute_result"
    }
   ],
   "source": [
    "c.area"
   ]
  },
  {
   "cell_type": "code",
   "execution_count": null,
   "metadata": {
    "colab": {
     "base_uri": "https://localhost:8080/"
    },
    "id": "7d5jk613jLmy",
    "outputId": "7bf2fc67-31b3-46da-d486-e15cc56c23b6"
   },
   "outputs": [
    {
     "data": {
      "text/plain": [
       "6.28"
      ]
     },
     "execution_count": 10,
     "metadata": {
      "tags": []
     },
     "output_type": "execute_result"
    }
   ],
   "source": [
    "c.getCircumference()"
   ]
  },
  {
   "cell_type": "code",
   "execution_count": null,
   "metadata": {
    "colab": {
     "base_uri": "https://localhost:8080/"
    },
    "id": "LtcO9Ne3iUo3",
    "outputId": "9852e48d-35f2-4ac9-d785-14504cf70b6c"
   },
   "outputs": [
    {
     "name": "stdout",
     "output_type": "stream",
     "text": [
      "Radius is:  1\n",
      "Area is:  3.14\n",
      "Circumference is:  6.28\n"
     ]
    }
   ],
   "source": [
    "print('Radius is: ', c.radius)\n",
    "print('Area is: ', c.area)\n",
    "print('Circumference is: ', c.getCircumference())"
   ]
  },
  {
   "cell_type": "markdown",
   "metadata": {
    "id": "zOyW9yPHtUdJ"
   },
   "source": [
    "Now let's change the radius and see how that affects our Circle object:"
   ]
  },
  {
   "cell_type": "code",
   "execution_count": null,
   "metadata": {
    "colab": {
     "base_uri": "https://localhost:8080/"
    },
    "id": "Sp6WUJc9tUdJ",
    "outputId": "49205cb5-501a-41bd-bf5e-58c277c3b5a3"
   },
   "outputs": [
    {
     "name": "stdout",
     "output_type": "stream",
     "text": [
      "Radius is:  4\n",
      "Area is:  50.24\n",
      "Circumference is:  25.12\n"
     ]
    }
   ],
   "source": [
    "c.setRadius(4)\n",
    "\n",
    "print('Radius is: ', c.radius)\n",
    "print('Area is: ', c.area)\n",
    "print('Circumference is: ', c.getCircumference())"
   ]
  },
  {
   "cell_type": "markdown",
   "metadata": {
    "id": "_0r0aq3ntUdL"
   },
   "source": [
    "Great! Notice how we used self. notation to reference attributes of the class within the method calls. Review how the code above works and try creating your own method."
   ]
  },
  {
   "cell_type": "markdown",
   "metadata": {
    "id": "VYD7BgLZtUdM"
   },
   "source": [
    "## Polymorphism\n",
    "\n",
    "We've learned that while functions can take in different arguments, methods belong to the objects they act on. In Python, *polymorphism* refers to the way in which different object classes can share the same method name, and those methods can be called from the same place even though a variety of different objects might be passed in. The best way to explain this is by example:"
   ]
  },
  {
   "cell_type": "code",
   "execution_count": null,
   "metadata": {
    "id": "C-DbH8vVtUdM"
   },
   "outputs": [],
   "source": [
    "class HouseStark:\n",
    "    def __init__(self, sigil):\n",
    "        self.sigil = sigil\n",
    "\n",
    "    def motto(self):\n",
    "        return \"House Stark with sigil \" + self.sigil + \" has the motto 'Winter is coming'\""
   ]
  },
  {
   "cell_type": "code",
   "execution_count": null,
   "metadata": {
    "id": "Knb58dwgF5wZ"
   },
   "outputs": [],
   "source": [
    "class HouseLannister:\n",
    "    def __init__(self, sigil):\n",
    "        self.sigil = sigil\n",
    "\n",
    "    def motto(self):\n",
    "        return \"House Lannister with sigil \" + self.sigil + \" has the motto 'Hear me roar'\""
   ]
  },
  {
   "cell_type": "code",
   "execution_count": null,
   "metadata": {
    "id": "ZHMg38V2tUdO"
   },
   "outputs": [],
   "source": [
    "arya = HouseStark('direwolf')\n",
    "tyrion = HouseLannister('golden lion')"
   ]
  },
  {
   "cell_type": "code",
   "execution_count": null,
   "metadata": {
    "colab": {
     "base_uri": "https://localhost:8080/"
    },
    "id": "haoS9YqetUdR",
    "outputId": "f3e0ebe9-6df7-4a07-9433-ab6279f5dee3"
   },
   "outputs": [
    {
     "name": "stdout",
     "output_type": "stream",
     "text": [
      "House Stark with sigil direwolf has the motto 'Winter is coming'\n"
     ]
    }
   ],
   "source": [
    "print(arya.motto())"
   ]
  },
  {
   "cell_type": "code",
   "execution_count": null,
   "metadata": {
    "colab": {
     "base_uri": "https://localhost:8080/"
    },
    "id": "HsZugVGgFChX",
    "outputId": "84a55214-02de-4c8b-c044-f7a303256d42"
   },
   "outputs": [
    {
     "name": "stdout",
     "output_type": "stream",
     "text": [
      "House Lannister with sigil golden lion has the motto 'Hear me roar'\n"
     ]
    }
   ],
   "source": [
    "print(tyrion.motto())"
   ]
  },
  {
   "cell_type": "markdown",
   "metadata": {
    "id": "bWpYCHnXtUdT"
   },
   "source": [
    "Here we have a HouseStark class and a HouseLannister class, and each has a `.motto()` method. When called, each object's `.motto()` method returns a result unique to the object.\n",
    "\n",
    "There a few different ways to demonstrate polymorphism. First, with a for loop:"
   ]
  },
  {
   "cell_type": "code",
   "execution_count": null,
   "metadata": {
    "colab": {
     "base_uri": "https://localhost:8080/"
    },
    "id": "sB9Dm2QetUdU",
    "outputId": "7488415d-d70b-4483-c2a9-dcb610e9dad0"
   },
   "outputs": [
    {
     "name": "stdout",
     "output_type": "stream",
     "text": [
      "House Stark with sigil direwolf has the motto 'Winter is coming'\n",
      "House Lannister with sigil golden lion has the motto 'Hear me roar'\n"
     ]
    }
   ],
   "source": [
    "for warrior in [arya, tyrion]:\n",
    "    print(warrior.motto())"
   ]
  },
  {
   "cell_type": "markdown",
   "metadata": {
    "id": "ejVaA9YctUdV"
   },
   "source": [
    "Another is with functions:"
   ]
  },
  {
   "cell_type": "code",
   "execution_count": null,
   "metadata": {
    "colab": {
     "base_uri": "https://localhost:8080/"
    },
    "id": "w53MLAWJtUdW",
    "outputId": "296012a0-55f1-4f3b-88ce-9553ffe5e1a5"
   },
   "outputs": [
    {
     "name": "stdout",
     "output_type": "stream",
     "text": [
      "House Stark with sigil direwolf has the motto 'Winter is coming'\n",
      "House Lannister with sigil golden lion has the motto 'Hear me roar'\n"
     ]
    }
   ],
   "source": [
    "def get_motto(warrior):\n",
    "    print(warrior.motto())\n",
    "\n",
    "get_motto(arya)\n",
    "get_motto(tyrion)"
   ]
  },
  {
   "cell_type": "markdown",
   "metadata": {
    "id": "sewYYDL7tUdY"
   },
   "source": [
    "In both cases we were able to pass in different object types, and we obtained object-specific results from the same mechanism."
   ]
  },
  {
   "cell_type": "markdown",
   "metadata": {
    "id": "FF0HJ0VUtUdY"
   },
   "source": [
    "**Great! By now you should have a basic understanding of how to create your own objects with class in Python.**"
   ]
  },
  {
   "cell_type": "markdown",
   "metadata": {
    "id": "7MVXdj_MGzIO"
   },
   "source": [
    "# 2. Errors and Exception Handling\n",
    "\n",
    "Now we will learn about Errors and Exception Handling in Python. You've definitely already encountered errors by this point in the course. For example:"
   ]
  },
  {
   "cell_type": "code",
   "execution_count": null,
   "metadata": {
    "colab": {
     "base_uri": "https://localhost:8080/",
     "height": 132
    },
    "id": "iRy54of4GuZY",
    "outputId": "67ea01e8-41e6-4931-bec9-3173e431b628"
   },
   "outputs": [
    {
     "ename": "SyntaxError",
     "evalue": "ignored",
     "output_type": "error",
     "traceback": [
      "\u001b[0;36m  File \u001b[0;32m\"<ipython-input-39-4c062b08efa2>\"\u001b[0;36m, line \u001b[0;32m1\u001b[0m\n\u001b[0;31m    print('XGBoost)\u001b[0m\n\u001b[0m                   ^\u001b[0m\n\u001b[0;31mSyntaxError\u001b[0m\u001b[0;31m:\u001b[0m EOL while scanning string literal\n"
     ]
    }
   ],
   "source": [
    "print('XGBoost)"
   ]
  },
  {
   "cell_type": "markdown",
   "metadata": {
    "id": "w1zIZO0oSctr"
   },
   "source": [
    "Note how we get a SyntaxError, with the further description that it was an EOL (End of Line Error) while scanning the string literal. This is specific enough for us to see that we forgot a single quote at the end of the line. Understanding these various error types will help you debug your code much faster.\n",
    "\n",
    "This type of error and description is known as an Exception. Even if a statement or expression is syntactically correct, it may cause an error when an attempt is made to execute it. Errors detected during execution are called exceptions and are not unconditionally fatal.\n",
    "\n",
    "You can check out the full list of built-in exceptions [here](https://docs.python.org/3/library/exceptions.html). Now let's learn how to handle errors and exceptions in our own code."
   ]
  },
  {
   "cell_type": "markdown",
   "metadata": {
    "id": "kTa8caFuSezF"
   },
   "source": [
    "## try and except\n",
    "\n",
    "The basic terminology and syntax used to handle errors in Python are the <code>try</code> and <code>except</code> statements. The code which can cause an exception to occur is put in the <code>try</code> block and the handling of the exception is then implemented in the <code>except</code> block of code. The syntax follows:\n",
    "\n",
    "    try:\n",
    "       You do your operations here...\n",
    "       ...\n",
    "    except:\n",
    "       If there is an exception, then execute this block.\n",
    "    else:\n",
    "       If there is no exception then execute this block.\n",
    "\n",
    "To get a better understanding of this let's check out an example:"
   ]
  },
  {
   "cell_type": "code",
   "execution_count": null,
   "metadata": {
    "colab": {
     "base_uri": "https://localhost:8080/"
    },
    "id": "Ckb2jAAeZlkv",
    "outputId": "c2a23122-d894-4d3a-eb12-b74b0b25fac3"
   },
   "outputs": [
    {
     "name": "stdout",
     "output_type": "stream",
     "text": [
      "Good to go!\n",
      "Oops!\n",
      "c\n",
      "d\n"
     ]
    }
   ],
   "source": [
    "try:\n",
    "    print(\"Good to go!\")\n",
    "    print('a', fwdfdwafwf)\n",
    "    print('b')\n",
    "except:\n",
    "    # This will check for any exception and then execute this print statement\n",
    "    print(\"Oops!\")\n",
    "    print('c')\n",
    "    print('d')\n",
    "else:\n",
    "    print(\"No errors encountered!\")\n",
    "    print('e')\n",
    "    print('f')"
   ]
  },
  {
   "cell_type": "markdown",
   "metadata": {
    "id": "1iWZyynISj7-"
   },
   "source": [
    "Great! Now we don't actually need to memorize that list of exception types! Now what if we kept wanting to run code after the exception occurred? This is where <code>finally</code> comes in.\n",
    "## finally\n",
    "The <code>finally:</code> block of code will always be run regardless if there was an exception in the <code>try</code> code block. The syntax is:\n",
    "\n",
    "    try:\n",
    "       Code block here\n",
    "       ...\n",
    "       Due to any exception, this code may be skipped!\n",
    "    finally:\n",
    "       This code block would always be executed.\n",
    "\n",
    "For example:"
   ]
  },
  {
   "cell_type": "code",
   "execution_count": null,
   "metadata": {
    "colab": {
     "base_uri": "https://localhost:8080/"
    },
    "id": "arY-rn-CGvKS",
    "outputId": "b8e2c615-5376-4f47-ac3d-1480958026e2"
   },
   "outputs": [
    {
     "name": "stdout",
     "output_type": "stream",
     "text": [
      "Execute try statements\n",
      "Always execute finally code blocks\n"
     ]
    }
   ],
   "source": [
    "try:\n",
    "  print(\"Execute try statements\")\n",
    "finally:\n",
    "  print(\"Always execute finally code blocks\")"
   ]
  },
  {
   "cell_type": "markdown",
   "metadata": {
    "id": "n-4eDtEnSvI9"
   },
   "source": [
    "We can use this in conjunction with <code>except</code>. Let's see a new example that will take into account a user providing the wrong input:"
   ]
  },
  {
   "cell_type": "code",
   "execution_count": null,
   "metadata": {
    "id": "ldMDSNkeSnl1"
   },
   "outputs": [],
   "source": [
    "a = 1\n",
    "b = 0.2"
   ]
  },
  {
   "cell_type": "code",
   "execution_count": null,
   "metadata": {
    "colab": {
     "base_uri": "https://localhost:8080/"
    },
    "id": "hn1ZlKSDSwxQ",
    "outputId": "9cdb4311-22fa-47df-a1b0-e9ad4a191bb3"
   },
   "outputs": [
    {
     "name": "stdout",
     "output_type": "stream",
     "text": [
      "0.2 <class 'float'>\n",
      "Type printed\n"
     ]
    }
   ],
   "source": [
    "try:\n",
    "    print(afdwfwf, type(aefwffewf))\n",
    "except:\n",
    "    print(b, type(b))\n",
    "finally:\n",
    "    print('Type printed')"
   ]
  },
  {
   "cell_type": "code",
   "execution_count": null,
   "metadata": {
    "colab": {
     "base_uri": "https://localhost:8080/"
    },
    "id": "OrkKRRLv_vbf",
    "outputId": "a07eb64a-7316-4d5e-a978-08d5c5eab1a7"
   },
   "outputs": [
    {
     "name": "stdout",
     "output_type": "stream",
     "text": [
      "The error is :  name 'adefewdwd' is not defined\n",
      "0.2 <class 'float'>\n"
     ]
    }
   ],
   "source": [
    "try:\n",
    "    a = 1\n",
    "    print(adefewdwd)\n",
    "    try:\n",
    "      print(type(afggdgdsgg))\n",
    "    except:\n",
    "      print('Error occured')\n",
    "except Exception as ex:\n",
    "    print('The error is : ', ex)\n",
    "    print(b, type(b))"
   ]
  },
  {
   "cell_type": "markdown",
   "metadata": {
    "id": "-rhyUIY4S6gZ"
   },
   "source": [
    "**Great! Now you know how to handle errors and exceptions in Python with the try, except, else, and finally notation!**\n",
    "\n"
   ]
  },
  {
   "cell_type": "markdown",
   "metadata": {
    "id": "pZrycmS2S_1t"
   },
   "source": [
    "# Real World Use Case\n",
    "\n",
    "### Uber's simplified pricing model\n",
    "\n",
    "When you request an Uber, you enter your pick-up location and the destination. Based on the distance, peak hours, willingness to pay and many other factors, Uber uses a machine learning algorithm to compute what prices will be shown to you.\n",
    "\n",
    "Let's consider a simplistic version of the Uber Pricing Model where you compute the price based on the distance between the pick-up and the drop location and the time of the booking.\n",
    "\n",
    "User Inputs:\n",
    "\n",
    "* Pick-up location (pick_up_latitude, pick_up_longitude)\n",
    "* Drop location (drop_latitude, drop_longitude)\n",
    "* Time of booking\n",
    "\n",
    "Output:\n",
    "\n",
    "* Final Price"
   ]
  },
  {
   "cell_type": "markdown",
   "metadata": {
    "id": "N6hCfBw3TNhJ"
   },
   "source": [
    " ### Development Code"
   ]
  },
  {
   "cell_type": "code",
   "execution_count": null,
   "metadata": {
    "id": "vdwRZpbJTC2b"
   },
   "outputs": [],
   "source": [
    "# Calculate the distance between the pick-up location and the drop location\n",
    "\n",
    "import geopy.distance\n",
    "\n",
    "def get_distance(location_1, location_2):\n",
    "\n",
    "    distance = geopy.distance.distance(location_1, location_2).km\n",
    "\n",
    "    return distance"
   ]
  },
  {
   "cell_type": "code",
   "execution_count": null,
   "metadata": {
    "id": "zC0vGEflTK8c"
   },
   "outputs": [],
   "source": [
    "def get_price_per_km(hour):\n",
    "\n",
    "    if (hour > 8) & (hour < 11):\n",
    "        price_per_km = 20\n",
    "    elif (hour > 18) & (hour < 21):\n",
    "        price_per_km = 15\n",
    "    else:\n",
    "        price_per_km = 10\n",
    "\n",
    "    return price_per_km"
   ]
  },
  {
   "cell_type": "code",
   "execution_count": null,
   "metadata": {
    "id": "sJhJg5PhTPWh"
   },
   "outputs": [],
   "source": [
    "def get_final_price(pick_up_location, drop_location, booking_hour):\n",
    "\n",
    "    total_distance = get_distance(pick_up_location, drop_location)\n",
    "    actual_price_per_km = get_price_per_km(booking_hour)\n",
    "\n",
    "    final_price = round(total_distance * actual_price_per_km, 2)\n",
    "\n",
    "    return final_price"
   ]
  },
  {
   "cell_type": "code",
   "execution_count": null,
   "metadata": {
    "id": "cYICiaPGTQ5c"
   },
   "outputs": [],
   "source": [
    "# Inputs\n",
    "\n",
    "pick_up_location = (24, 70)\n",
    "drop_location = (24.1, 70.1)\n",
    "booking_time = 19"
   ]
  },
  {
   "cell_type": "code",
   "execution_count": null,
   "metadata": {
    "colab": {
     "base_uri": "https://localhost:8080/"
    },
    "id": "J-6Y6diXTSU7",
    "outputId": "8e912397-eb90-4262-e78b-212b1d78dee7"
   },
   "outputs": [
    {
     "data": {
      "text/plain": [
       "225.56"
      ]
     },
     "execution_count": 65,
     "metadata": {
      "tags": []
     },
     "output_type": "execute_result"
    }
   ],
   "source": [
    "# Output\n",
    "\n",
    "get_final_price(pick_up_location, drop_location, booking_time)"
   ]
  },
  {
   "cell_type": "markdown",
   "metadata": {
    "id": "q_nSK3-FTaqD"
   },
   "source": [
    "### Production Grade Code"
   ]
  },
  {
   "cell_type": "code",
   "execution_count": 4,
   "metadata": {},
   "outputs": [
    {
     "name": "stdout",
     "output_type": "stream",
     "text": [
      "Collecting geopy\n",
      "  Downloading geopy-2.4.1-py3-none-any.whl (125 kB)\n",
      "     ---------------------------------------- 0.0/125.4 kB ? eta -:--:--\n",
      "     ---------------------------------- --- 112.6/125.4 kB 3.3 MB/s eta 0:00:01\n",
      "     -------------------------------------- 125.4/125.4 kB 1.5 MB/s eta 0:00:00\n",
      "Collecting geographiclib<3,>=1.52\n",
      "  Downloading geographiclib-2.0-py3-none-any.whl (40 kB)\n",
      "     ---------------------------------------- 0.0/40.3 kB ? eta -:--:--\n",
      "     -------------------------------------- 40.3/40.3 kB 640.1 kB/s eta 0:00:00\n",
      "Installing collected packages: geographiclib, geopy\n",
      "Successfully installed geographiclib-2.0 geopy-2.4.1\n"
     ]
    },
    {
     "name": "stderr",
     "output_type": "stream",
     "text": [
      "\n",
      "[notice] A new release of pip is available: 23.0 -> 25.0.1\n",
      "[notice] To update, run: C:\\Users\\tarun\\AppData\\Local\\Microsoft\\WindowsApps\\PythonSoftwareFoundation.Python.3.10_qbz5n2kfra8p0\\python.exe -m pip install --upgrade pip\n"
     ]
    }
   ],
   "source": [
    "!pip install geopy"
   ]
  },
  {
   "cell_type": "code",
   "execution_count": 5,
   "metadata": {},
   "outputs": [
    {
     "name": "stdout",
     "output_type": "stream",
     "text": [
      "Help on package geopy:\n",
      "\n",
      "NAME\n",
      "    geopy - geopy is a Python client for several popular geocoding web services.\n",
      "\n",
      "DESCRIPTION\n",
      "    geopy makes it easy for Python developers to locate the coordinates of\n",
      "    addresses, cities, countries, and landmarks across the globe using third-party\n",
      "    geocoders and other data sources.\n",
      "    \n",
      "    geopy is tested against CPython (versions 3.7, 3.8, 3.9, 3.10, 3.11, 3.12)\n",
      "    and PyPy3. geopy 1.x line also supported CPython 2.7, 3.4 and PyPy2.\n",
      "\n",
      "PACKAGE CONTENTS\n",
      "    adapters\n",
      "    compat\n",
      "    distance\n",
      "    exc\n",
      "    extra (package)\n",
      "    format\n",
      "    geocoders (package)\n",
      "    location\n",
      "    point\n",
      "    timezone\n",
      "    units\n",
      "    util\n",
      "\n",
      "DATA\n",
      "    __version_info__ = (2, 4, 1)\n",
      "\n",
      "VERSION\n",
      "    2.4.1\n",
      "\n",
      "FILE\n",
      "    c:\\users\\tarun\\appdata\\local\\packages\\pythonsoftwarefoundation.python.3.10_qbz5n2kfra8p0\\localcache\\local-packages\\python310\\site-packages\\geopy\\__init__.py\n",
      "\n",
      "\n"
     ]
    }
   ],
   "source": [
    "import geopy\n",
    "help(geopy)"
   ]
  },
  {
   "cell_type": "code",
   "execution_count": 3,
   "metadata": {
    "id": "QHPqo8fNTUGG"
   },
   "outputs": [
    {
     "ename": "ModuleNotFoundError",
     "evalue": "No module named 'geopy'",
     "output_type": "error",
     "traceback": [
      "\u001b[1;31m---------------------------------------------------------------------------\u001b[0m",
      "\u001b[1;31mModuleNotFoundError\u001b[0m                       Traceback (most recent call last)",
      "Cell \u001b[1;32mIn[3], line 3\u001b[0m\n\u001b[0;32m      1\u001b[0m \u001b[38;5;66;03m# Calculate the distance between the pick-up location and the drop location\u001b[39;00m\n\u001b[1;32m----> 3\u001b[0m \u001b[38;5;28;01mimport\u001b[39;00m \u001b[38;5;21;01mgeopy\u001b[39;00m\u001b[38;5;21;01m.\u001b[39;00m\u001b[38;5;21;01mdistance\u001b[39;00m\n\u001b[0;32m      4\u001b[0m \u001b[38;5;28;01mimport\u001b[39;00m \u001b[38;5;21;01mmath\u001b[39;00m\n\u001b[0;32m      6\u001b[0m \u001b[38;5;28;01mclass\u001b[39;00m \u001b[38;5;21;01mMaps\u001b[39;00m:\n",
      "\u001b[1;31mModuleNotFoundError\u001b[0m: No module named 'geopy'"
     ]
    }
   ],
   "source": [
    "# Calculate the distance between the pick-up location and the drop location\n",
    "\n",
    "import geopy.distance\n",
    "import math\n",
    "\n",
    "class Maps:\n",
    "\n",
    "    def __init__(self):\n",
    "        pass\n",
    "\n",
    "    def get_distance(self, location_1, location_2):\n",
    "\n",
    "        try:\n",
    "            distance = geopy.distance.distance(location_1, location_2).km\n",
    "        except:\n",
    "            distance = math.sqrt((location_1[0]-location_2[0])^2 + (location_1[1]-location_2[1])^2)\n",
    "\n",
    "        return distance"
   ]
  },
  {
   "cell_type": "code",
   "execution_count": null,
   "metadata": {
    "id": "4n1-Cf9GTX4h"
   },
   "outputs": [],
   "source": [
    "class SurgePricing:\n",
    "\n",
    "    def __init__(self):\n",
    "        pass\n",
    "\n",
    "    def get_price_per_km(self, hour):\n",
    "\n",
    "        try:\n",
    "\n",
    "            if (hour > 8) & (hour < 11):\n",
    "                price_per_km = 20\n",
    "            elif (hour > 18) & (hour < 21):\n",
    "                price_per_km = 15\n",
    "            else:\n",
    "                price_per_km = 10\n",
    "            raise CustomError:\n",
    "                \n",
    "        except CustomError:\n",
    "            print(\"CustomError\")\n",
    "        \n",
    "        except:\n",
    "\n",
    "            price_per_km = 10\n",
    "\n",
    "        return price_per_km"
   ]
  },
  {
   "cell_type": "code",
   "execution_count": null,
   "metadata": {
    "id": "4lSkQz2ITer_"
   },
   "outputs": [],
   "source": [
    "def get_final_price(pick_up_location, drop_location, booking_hour):\n",
    "\n",
    "    maps = Maps()\n",
    "    surge = SurgePricing()\n",
    "\n",
    "    total_distance = maps.get_distance(pick_up_location, drop_location)\n",
    "    actual_price_per_km = surge.get_price_per_km(booking_hour)\n",
    "\n",
    "    final_price = round(total_distance * actual_price_per_km, 2)\n",
    "\n",
    "    return final_price"
   ]
  },
  {
   "cell_type": "code",
   "execution_count": null,
   "metadata": {
    "colab": {
     "base_uri": "https://localhost:8080/"
    },
    "id": "aQ0YYXCATgJS",
    "outputId": "3474fdba-1879-462a-9c08-f8df71045e02"
   },
   "outputs": [
    {
     "data": {
      "text/plain": [
       "225.56"
      ]
     },
     "execution_count": 78,
     "metadata": {
      "tags": []
     },
     "output_type": "execute_result"
    }
   ],
   "source": [
    "# Output\n",
    "\n",
    "get_final_price(pick_up_location, drop_location, booking_time)"
   ]
  },
  {
   "cell_type": "code",
   "execution_count": null,
   "metadata": {
    "id": "f_AP-EMnThm5"
   },
   "outputs": [],
   "source": []
  },
  {
   "cell_type": "code",
   "execution_count": null,
   "metadata": {
    "id": "T0N2tUbLZikS"
   },
   "outputs": [],
   "source": []
  }
 ],
 "metadata": {
  "colab": {
   "provenance": []
  },
  "kernelspec": {
   "display_name": "Python 3 (ipykernel)",
   "language": "python",
   "name": "python3"
  },
  "language_info": {
   "codemirror_mode": {
    "name": "ipython",
    "version": 3
   },
   "file_extension": ".py",
   "mimetype": "text/x-python",
   "name": "python",
   "nbconvert_exporter": "python",
   "pygments_lexer": "ipython3",
   "version": "3.10.11"
  }
 },
 "nbformat": 4,
 "nbformat_minor": 1
}
