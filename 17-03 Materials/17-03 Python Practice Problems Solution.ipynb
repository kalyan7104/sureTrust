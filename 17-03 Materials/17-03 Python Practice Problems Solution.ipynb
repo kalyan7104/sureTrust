{
 "cells": [
  {
   "cell_type": "markdown",
   "id": "d35ee56f",
   "metadata": {},
   "source": [
    "### 1. Bank Transactions with Exception Handling"
   ]
  },
  {
   "cell_type": "code",
   "execution_count": 4,
   "id": "91e53319",
   "metadata": {},
   "outputs": [
    {
     "name": "stdout",
     "output_type": "stream",
     "text": [
      "InsufficientFundsError: Not enough balance to withdraw this amount.\n"
     ]
    }
   ],
   "source": [
    "# Define a custom exception for handling insufficient funds\n",
    "class InsufficientFundsError(Exception):\n",
    "    \"\"\"Custom Exception for insufficient funds.\"\"\"\n",
    "    pass\n",
    "\n",
    "class BankAccount:\n",
    "    \"\"\"A simple bank account class with deposit and withdraw functionalities.\"\"\"\n",
    "    \n",
    "    def __init__(self):\n",
    "        \"\"\"Initialize account balance to zero.\"\"\"\n",
    "        self.balance = 0\n",
    "\n",
    "    def deposit(self, amount):\n",
    "        \"\"\"Deposit money into the account.\n",
    "        Raises:\n",
    "            ValueError: If the deposit amount is non-positive.\n",
    "        \"\"\"\n",
    "        if amount <= 0:\n",
    "            raise ValueError(\"Deposit amount must be positive.\")\n",
    "        self.balance += amount\n",
    "\n",
    "    def withdraw(self, amount):\n",
    "        \"\"\"Withdraw money from the account.\n",
    "        Raises:\n",
    "            InsufficientFundsError: If withdrawal amount exceeds balance.\n",
    "        \"\"\"\n",
    "        if amount > self.balance:\n",
    "            raise InsufficientFundsError(\"Not enough balance to withdraw this amount.\")\n",
    "        self.balance -= amount\n",
    "\n",
    "# Example Usage\n",
    "try:\n",
    "    account = BankAccount()\n",
    "    account.deposit(100)  # Depositing $100\n",
    "    account.withdraw(150)  # Attempting to withdraw $150 (should raise an error)\n",
    "except ValueError as ve:\n",
    "    print(\"ValueError:\", ve)\n",
    "except InsufficientFundsError as ie:\n",
    "    print(\"InsufficientFundsError:\", ie)\n"
   ]
  },
  {
   "cell_type": "markdown",
   "id": "0da8285c",
   "metadata": {},
   "source": [
    "### 2. Student Marks Processing and File Handling"
   ]
  },
  {
   "cell_type": "code",
   "execution_count": 3,
   "id": "8460b2a7",
   "metadata": {},
   "outputs": [
    {
     "name": "stdout",
     "output_type": "stream",
     "text": [
      "Average Marks: 84.33333333333333\n",
      "Read Marks: [85, 90, 78]\n"
     ]
    }
   ],
   "source": [
    "def calculate_average(marks):\n",
    "    \"\"\"Calculate the average of a list of marks.\n",
    "    \n",
    "    Args:\n",
    "        marks (list): A list of numeric marks.\n",
    "    \n",
    "    Raises:\n",
    "        ValueError: If the list is empty.\n",
    "        TypeError: If any element is not a number.\n",
    "    \n",
    "    Returns:\n",
    "        float: The average of the marks.\n",
    "    \"\"\"\n",
    "    if not marks:\n",
    "        raise ValueError(\"Marks list cannot be empty.\")\n",
    "    if not all(isinstance(mark, (int, float)) for mark in marks):\n",
    "        raise TypeError(\"All marks should be integers or floats.\")\n",
    "    \n",
    "    return sum(marks) / len(marks)\n",
    "\n",
    "def save_marks_to_file(filename, marks):\n",
    "    \"\"\"Save marks to a text file.\n",
    "    \n",
    "    Args:\n",
    "        filename (str): Name of the file.\n",
    "        marks (list): List of student marks.\n",
    "    \n",
    "    Raises:\n",
    "        IOError: If there is an error writing to the file.\n",
    "    \"\"\"\n",
    "    try:\n",
    "        with open(filename, \"w\") as file:\n",
    "            for mark in marks:\n",
    "                file.write(f\"{mark}\\n\")  # Writing each mark on a new line\n",
    "    except IOError:\n",
    "        print(\"Error writing to file.\")\n",
    "\n",
    "def read_marks_from_file(filename):\n",
    "    \"\"\"Read marks from a text file.\n",
    "    \n",
    "    Args:\n",
    "        filename (str): Name of the file.\n",
    "    \n",
    "    Returns:\n",
    "        list: A list of marks read from the file.\n",
    "    \n",
    "    Raises:\n",
    "        FileNotFoundError: If the file does not exist.\n",
    "        ValueError: If the file contains invalid data.\n",
    "    \"\"\"\n",
    "    try:\n",
    "        with open(filename, \"r\") as file:\n",
    "            marks = [int(line.strip()) for line in file]  # Convert each line to an integer\n",
    "            return marks\n",
    "    except FileNotFoundError:\n",
    "        print(\"Error: File not found.\")\n",
    "        return []\n",
    "    except ValueError:\n",
    "        print(\"Error: File contains invalid data.\")\n",
    "        return []\n",
    "\n",
    "# Example Usage\n",
    "try:\n",
    "    student_marks = [85, 90, 78]\n",
    "    avg = calculate_average(student_marks)\n",
    "    print(\"Average Marks:\", avg)\n",
    "\n",
    "    save_marks_to_file(\"marks.txt\", student_marks)\n",
    "    read_marks = read_marks_from_file(\"marks.txt\")\n",
    "    print(\"Read Marks:\", read_marks)\n",
    "except ValueError as ve:\n",
    "    print(\"ValueError:\", ve)\n",
    "except TypeError as te:\n",
    "    print(\"TypeError:\", te)\n"
   ]
  },
  {
   "cell_type": "markdown",
   "id": "edac5bcb",
   "metadata": {},
   "source": [
    "### 3. User Age Verification and Log File Management"
   ]
  },
  {
   "cell_type": "code",
   "execution_count": 5,
   "id": "f14d8837",
   "metadata": {},
   "outputs": [
    {
     "name": "stdout",
     "output_type": "stream",
     "text": [
      "UnderageError: You must be 18 or older to proceed.\n"
     ]
    }
   ],
   "source": [
    "# Define a custom exception for handling underage users\n",
    "class UnderageError(Exception):\n",
    "    \"\"\"Custom Exception for underage users.\"\"\"\n",
    "    pass\n",
    "\n",
    "def verify_age(age):\n",
    "    \"\"\"Verify if the user meets the age requirement.\n",
    "    \n",
    "    Args:\n",
    "        age (int): The age of the user.\n",
    "    \n",
    "    Raises:\n",
    "        UnderageError: If age is less than 18.\n",
    "    \"\"\"\n",
    "    if age < 18:\n",
    "        raise UnderageError(\"You must be 18 or older to proceed.\")\n",
    "    print(\"Age verified successfully.\")\n",
    "\n",
    "def log_error(error_message):\n",
    "    \"\"\"Log errors to a file.\n",
    "    \n",
    "    Args:\n",
    "        error_message (str): The error message to log.\n",
    "    \n",
    "    Raises:\n",
    "        IOError: If there is an error writing to the log file.\n",
    "    \"\"\"\n",
    "    try:\n",
    "        with open(\"error.log\", \"a\") as file:\n",
    "            file.write(error_message + \"\\n\")  # Append error message to log file\n",
    "    except IOError:\n",
    "        print(\"Error writing to log file.\")\n",
    "\n",
    "# Example Usage\n",
    "try:\n",
    "    verify_age(16)  # Should raise UnderageError\n",
    "except UnderageError as ue:\n",
    "    log_error(str(ue))\n",
    "    print(\"UnderageError:\", ue)\n"
   ]
  },
  {
   "cell_type": "markdown",
   "id": "57671651",
   "metadata": {},
   "source": [
    "### 4. Library Management System with Exception Handling"
   ]
  },
  {
   "cell_type": "code",
   "execution_count": 6,
   "id": "61681c97",
   "metadata": {},
   "outputs": [
    {
     "name": "stdout",
     "output_type": "stream",
     "text": [
      "You have successfully borrowed 'Python Programming'.\n",
      "Error: Sorry, 'Python Programming' is currently borrowed.\n",
      "Thank you for returning 'Python Programming'.\n",
      "You have successfully borrowed 'Python Programming'.\n"
     ]
    }
   ],
   "source": [
    "class BookNotAvailableException(Exception):\n",
    "    \"\"\"Custom exception raised when trying to borrow an unavailable book.\"\"\"\n",
    "    def __init__(self, message=\"This book is currently not available\"):\n",
    "        self.message = message\n",
    "        super().__init__(self.message)\n",
    "\n",
    "class Book:\n",
    "    \"\"\"A class representing a book in the library.\"\"\"\n",
    "    \n",
    "    def __init__(self, title, author):\n",
    "        self.title = title\n",
    "        self.author = author\n",
    "        self.available = True  # Default state is available\n",
    "    \n",
    "    def __str__(self):\n",
    "        return f\"'{self.title}' by {self.author} - {'Available' if self.available else 'Borrowed'}\"\n",
    "\n",
    "class Library:\n",
    "    \"\"\"A class representing the library system.\"\"\"\n",
    "    \n",
    "    def __init__(self):\n",
    "        self.books = []  # List to store book objects\n",
    "    \n",
    "    def add_book(self, book):\n",
    "        \"\"\"Adds a book to the library catalog.\"\"\"\n",
    "        self.books.append(book)\n",
    "    \n",
    "    def borrow_book(self, title):\n",
    "        \"\"\"Allows a user to borrow a book if it's available, else raises an exception.\"\"\"\n",
    "        for book in self.books:\n",
    "            if book.title == title:\n",
    "                if book.available:\n",
    "                    book.available = False\n",
    "                    print(f\"You have successfully borrowed '{title}'.\")\n",
    "                    return\n",
    "                else:\n",
    "                    raise BookNotAvailableException(f\"Sorry, '{title}' is currently borrowed.\")\n",
    "        print(f\"Book '{title}' not found in the library.\")\n",
    "\n",
    "    def return_book(self, title):\n",
    "        \"\"\"Marks a book as available when returned.\"\"\"\n",
    "        for book in self.books:\n",
    "            if book.title == title:\n",
    "                if not book.available:\n",
    "                    book.available = True\n",
    "                    print(f\"Thank you for returning '{title}'.\")\n",
    "                    return\n",
    "                else:\n",
    "                    print(f\"'{title}' is already available in the library.\")\n",
    "                    return\n",
    "        print(f\"Book '{title}' not found in the library.\")\n",
    "\n",
    "# Test Case\n",
    "library = Library()\n",
    "book1 = Book(\"Python Programming\", \"John Doe\")\n",
    "book2 = Book(\"Data Science Basics\", \"Jane Smith\")\n",
    "\n",
    "library.add_book(book1)\n",
    "library.add_book(book2)\n",
    "\n",
    "try:\n",
    "    library.borrow_book(\"Python Programming\")\n",
    "    library.borrow_book(\"Python Programming\")  # Should raise BookNotAvailableException\n",
    "except BookNotAvailableException as e:\n",
    "    print(\"Error:\", e)\n",
    "\n",
    "library.return_book(\"Python Programming\")\n",
    "library.borrow_book(\"Python Programming\")  # Should work again\n"
   ]
  },
  {
   "cell_type": "code",
   "execution_count": null,
   "id": "81491508",
   "metadata": {},
   "outputs": [],
   "source": []
  }
 ],
 "metadata": {
  "kernelspec": {
   "display_name": "Python 3 (ipykernel)",
   "language": "python",
   "name": "python3"
  },
  "language_info": {
   "codemirror_mode": {
    "name": "ipython",
    "version": 3
   },
   "file_extension": ".py",
   "mimetype": "text/x-python",
   "name": "python",
   "nbconvert_exporter": "python",
   "pygments_lexer": "ipython3",
   "version": "3.10.11"
  }
 },
 "nbformat": 4,
 "nbformat_minor": 5
}
