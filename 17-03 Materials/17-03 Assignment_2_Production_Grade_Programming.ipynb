{
 "cells": [
  {
   "cell_type": "markdown",
   "metadata": {
    "id": "77zLnpaNvNSp"
   },
   "source": [
    "## <u> Problem 1</u>\n",
    "\n",
    "### Create a class <code>Cylinder</code> which takes two attributes <code>radius</code> and <code>height</code>.\n",
    "\n",
    "### Create the following methods in this class:\n",
    "\n",
    "* ### method <code>volume()</code> which calculates the volume of the cyinder which is defined as $V  = \\pi r^2 h$\n",
    "\n",
    "* ### method <code>surface_area()</code> which calculates the area of the cyinder which is defined as $S  = 2\\pi r h$. Assume this is an open cylinder\n"
   ]
  },
  {
   "cell_type": "code",
   "execution_count": 6,
   "metadata": {
    "id": "-cWkCZ5OzX0G"
   },
   "outputs": [],
   "source": [
    "# Write your code below. Take pi as 3.14\n",
    "class Cylinder:\n",
    "    \n",
    "    def __init__(self,radius,height):\n",
    "        \n",
    "        self.radius=radius\n",
    "        self.height=height\n",
    "        \n",
    "    def volume(self):\n",
    "        print(3.14*self.radius*self.radius*self.height)\n",
    "        \n",
    "    def surface_area(self):\n",
    "        print(2*3.14*self.radius*self.height)\n",
    "\n"
   ]
  },
  {
   "cell_type": "code",
   "execution_count": 7,
   "metadata": {
    "id": "tgS3mhN-18b_"
   },
   "outputs": [
    {
     "name": "stdout",
     "output_type": "stream",
     "text": [
      "785.0\n",
      "314.0\n"
     ]
    }
   ],
   "source": [
    "# Check for sample inputs\n",
    "\n",
    "\n",
    "cylinder=Cylinder(5,10)\n",
    "cylinder.volume()\n",
    "cylinder.surface_area()\n",
    "\n",
    "\n",
    "\n"
   ]
  },
  {
   "cell_type": "markdown",
   "metadata": {
    "id": "KjPWYK0Rs8By"
   },
   "source": [
    "## <u>Problem 2</u>\n",
    "\n",
    "### You started your own money wallet where your customers can create their accounts and they can either deposit or withdraw money from this wallet.\n",
    "\n",
    "### Write a Python class <code>BankAccount</code> which takes the balance as an attribute. You can initialize the balance with 0 because any new account will have 0 rupees in their wallet. Next write two methods for your class :\n",
    "\n",
    "* #### <code>withdraw()</code> method which takes the amount to be withdrawn as an argument and returns the balance after the withdrawal\n",
    "\n",
    "* #### <code>deposit()</code> method which takes the amount to be deposited as an argument and returns the balance after the deposit.\n",
    "\n",
    "### Keep in mind that if the balance to be withdrawn exceeds the current balance, it should display a message that \"Not enough balance in your account\"\n"
   ]
  },
  {
   "cell_type": "code",
   "execution_count": 13,
   "metadata": {
    "id": "RxVZTrenzfHC"
   },
   "outputs": [],
   "source": [
    "# Write your BankAccount class below\n",
    "\n",
    "class BankAccount:\n",
    "\n",
    "\n",
    "    def __init__(self,balance):\n",
    "        \n",
    "        self.balance=balance\n",
    "        \n",
    "    def withdraw(self,amount):\n",
    "        \n",
    "        if(amount>self.balance):\n",
    "            raise ValueError(\"Insuffiect Funds\")\n",
    "            \n",
    "        self.balance-=amount\n",
    "        print(self.balance)\n",
    "        \n",
    "    def deposit(self,amount):\n",
    "        \n",
    "        if(amount<=0):\n",
    "            raise ValueError(\"amount sholud be more than zero\")\n",
    "            \n",
    "        self.balance+=amount\n",
    "        print(self.balance)"
   ]
  },
  {
   "cell_type": "code",
   "execution_count": 14,
   "metadata": {
    "id": "N1Yhpkiws8B3"
   },
   "outputs": [
    {
     "name": "stdout",
     "output_type": "stream",
     "text": [
      "1000\n",
      "Insuffiect Funds\n",
      "10000\n",
      "0\n"
     ]
    }
   ],
   "source": [
    "# Create two instances of this class for two customers\n",
    "\n",
    "customer1=BankAccount(0)\n",
    "customer2=BankAccount(0)\n",
    "try:\n",
    "    customer1.deposit(1000)\n",
    "    customer1.withdraw(10000)\n",
    "    \n",
    "except Exception as e:\n",
    "    \n",
    "    print(e)\n",
    "    \n",
    "try:\n",
    "    customer2.deposit(10000)\n",
    "    customer2.withdraw(10000)\n",
    "    \n",
    "except Exception as e:\n",
    "    \n",
    "    print(e)"
   ]
  },
  {
   "cell_type": "markdown",
   "metadata": {
    "id": "mSTxPcO3fWeX"
   },
   "source": [
    "### Next add some amount and withdraw some another amount for both the customers."
   ]
  },
  {
   "cell_type": "code",
   "execution_count": 15,
   "metadata": {
    "id": "KpMdlB5Fs8B8"
   },
   "outputs": [
    {
     "name": "stdout",
     "output_type": "stream",
     "text": [
      "1200\n",
      "100\n",
      "200\n",
      "Insuffiect Funds\n"
     ]
    }
   ],
   "source": [
    "# Deposit some amount and withdrawing some amount from the two accounts and check if your method works fine\n",
    "\n",
    "\n",
    "try:\n",
    "    customer1.deposit(200)\n",
    "    customer2.deposit(100)\n",
    "    customer1.withdraw(1000)\n",
    "    customer2.withdraw(2000)\n",
    "    \n",
    "except Exception as e:\n",
    "    print(e)\n"
   ]
  },
  {
   "cell_type": "markdown",
   "metadata": {
    "id": "5qd8g8UUs8CM"
   },
   "source": [
    "## <u>Problem 3 </u>\n",
    "\n",
    "### Create a class <code>Time </code> which takes two inputs hours and minutes to instantiate.\n",
    "*  #### Construct a method <code>DisplayTime()</code> which displays the time in AM/PM formats. For example if the input is 14 hours and 45 mins, then this method will print \"The time is 2:45 PM\". If the inputted hours exceeds 23 then print the message \"The input hours should be less than 24\" and if the inputted minutes exceeds 59 then print the message \"The input minutes should be less than 60.\" Also if the input is 12 hours 30 minutes, then the displayed time would be 12:30 PM\n",
    "* #### Construct a method <code>DisplayRatio()</code> which should display the ratio of minutes to hours. For example, (8 hours and  16 mins) should display 2. Use <code>try</code>, <code>except</code> block to account for ZeroDivisionError."
   ]
  },
  {
   "cell_type": "code",
   "execution_count": 1,
   "metadata": {
    "id": "FBJy9Sq_s8CN"
   },
   "outputs": [
    {
     "name": "stdout",
     "output_type": "stream",
     "text": [
      "The time is 2:45 PM\n",
      "The ratio of minutes to hours is 3.21\n",
      "The time is 12:30 PM\n",
      "The ratio of minutes to hours is 2.50\n",
      "The input hours should be less than 24\n",
      "The input minutes should be less than 60.\n",
      "The time is 12:45 AM\n",
      "Cannot calculate ratio: Division by zero (hours cannot be zero).\n"
     ]
    }
   ],
   "source": [
    "class Time:\n",
    "    def __init__(self, hours, minutes):\n",
    "        self.hours = hours\n",
    "        self.minutes = minutes\n",
    "\n",
    "    def DisplayTime(self):\n",
    "        \n",
    "        if self.hours > 23:\n",
    "            print(\"The input hours should be less than 24\")\n",
    "            return\n",
    "        if self.minutes > 59:\n",
    "            print(\"The input minutes should be less than 60.\")\n",
    "            return\n",
    "\n",
    "        \n",
    "        if self.hours < 12:\n",
    "            period = \"AM\"\n",
    "            display_hours = self.hours if self.hours != 0 else 12  # Handle midnight (0 hours)\n",
    "        else:\n",
    "            period = \"PM\"\n",
    "            display_hours = self.hours - 12 if self.hours != 12 else 12  # Handle noon (12 hours)\n",
    "\n",
    "        \n",
    "        print(f\"The time is {display_hours}:{self.minutes:02d} {period}\")\n",
    "\n",
    "    def DisplayRatio(self):\n",
    "        try:\n",
    "            ratio = self.minutes / self.hours\n",
    "            print(f\"The ratio of minutes to hours is {ratio:.2f}\")\n",
    "        except ZeroDivisionError:\n",
    "            print(\"Cannot calculate ratio: Division by zero (hours cannot be zero).\")\n",
    "\n",
    "\n",
    "\n",
    "time1 = Time(14, 45)\n",
    "time1.DisplayTime()  \n",
    "time1.DisplayRatio()  \n",
    "time2 = Time(12, 30)\n",
    "time2.DisplayTime() \n",
    "time2.DisplayRatio()  \n",
    "time3 = Time(25, 30)  \n",
    "time3.DisplayTime()  \n",
    "\n",
    "time4 = Time(10, 70)  \n",
    "time4.DisplayTime()  \n",
    "time5 = Time(0, 45)  \n",
    "time5.DisplayTime()  \n",
    "time5.DisplayRatio()  \n",
    "        \n",
    "                \n",
    "        \n",
    "                \n",
    "        \n",
    "    "
   ]
  },
  {
   "cell_type": "code",
   "execution_count": null,
   "metadata": {
    "id": "zywXa51d6Eev"
   },
   "outputs": [],
   "source": []
  },
  {
   "cell_type": "markdown",
   "metadata": {
    "id": "mgcu1_SAjAqF"
   },
   "source": [
    "## <u>Problem 4: Employee Management System with Exception Handling</u>\n",
    "\n",
    "**Scenario:**\n",
    "\n",
    "A company manages employees, where each employee has a name, an employee ID, and a salary. Employees can receive promotions, which increase their salary. However, if an invalid salary increment is given (such as a negative value), the system should raise an exception.\n",
    "\n",
    "**Task:**\n",
    "Create a Employee class with the following attributes and methods:\n",
    "\n",
    "    Attributes:\n",
    "    - name (str), employee_id (str), and salary (float).\n",
    "    Methods:\n",
    "    - promote(increment): Increases the salary by the given amount. If the increment is negative, raise an InvalidSalaryIncrementException.\n",
    "    - display_info(): Prints employee details.\n",
    "\n",
    "Define a custom exception *InvalidSalaryIncrementException* that is raised when an invalid salary increment is provided.\n",
    "\n",
    "**Steps to Solve:**\n",
    "- Create an `Employee` class with the required attributes.\n",
    "- Define a custom exception `InvalidSalaryIncrementException`.\n",
    "- Implement the `promote(increment)` method that validates the increment before applying it.\n",
    "- Implement `display_info()` to show employee details.\n",
    "- Write a test case where a negative salary increment is attempted, and handle the exception gracefully.\n"
   ]
  },
  {
   "cell_type": "markdown",
   "metadata": {},
   "source": [
    "### **Test Cases for Employee Management System with Exception Handling**  \n",
    "\n",
    "#### **Test Case 1: Valid Salary Increment**  \n",
    "**Input:**  \n",
    "```python\n",
    "emp = Employee(\"Alice Johnson\", \"EMP1001\", 50000)\n",
    "emp.promote(5000)\n",
    "emp.display_info()\n",
    "```\n",
    "**Expected Output:**  \n",
    "```\n",
    "Alice Johnson has been promoted! New salary: $55000.00\n",
    "Employee ID: EMP1001 | Name: Alice Johnson | Salary: $55000.00\n",
    "```\n",
    "\n",
    "---\n",
    "\n",
    "#### **Test Case 2: Invalid Salary Increment (Negative Value)**  \n",
    "**Input:**  \n",
    "```python\n",
    "emp = Employee(\"Bob Smith\", \"EMP1002\", 60000)\n",
    "try:\n",
    "    emp.promote(-3000)\n",
    "except InvalidSalaryIncrementException as e:\n",
    "    print(\"Error:\", e)\n",
    "emp.display_info()\n",
    "```\n",
    "**Expected Output:**  \n",
    "```\n",
    "Error: Invalid increment: $-3000.00. It must be positive.\n",
    "Employee ID: EMP1002 | Name: Bob Smith | Salary: $60000.00\n",
    "```\n",
    "\n",
    "---\n",
    "\n",
    "#### **Test Case 3: Multiple Promotions**  \n",
    "**Input:**  \n",
    "```python\n",
    "emp = Employee(\"Charlie Brown\", \"EMP1003\", 45000)\n",
    "emp.promote(4000)\n",
    "emp.promote(6000)\n",
    "emp.display_info()\n",
    "```\n",
    "**Expected Output:**  \n",
    "```\n",
    "Charlie Brown has been promoted! New salary: $49000.00\n",
    "Charlie Brown has been promoted! New salary: $55000.00\n",
    "Employee ID: EMP1003 | Name: Charlie Brown | Salary: $55000.00\n",
    "```\n",
    "\n",
    "---\n",
    "\n",
    "#### **Test Case 4: Zero Salary Increment**  \n",
    "**Input:**  \n",
    "```python\n",
    "emp = Employee(\"David Miller\", \"EMP1004\", 70000)\n",
    "try:\n",
    "    emp.promote(0)\n",
    "except InvalidSalaryIncrementException as e:\n",
    "    print(\"Error:\", e)\n",
    "emp.display_info()\n",
    "```\n",
    "**Expected Output:**  \n",
    "```\n",
    "Error: Invalid increment: $0.00. It must be positive.\n",
    "Employee ID: EMP1004 | Name: David Miller | Salary: $70000.00\n",
    "```\n",
    "\n",
    "---\n",
    "\n",
    "### **Summary of Test Cases**\n",
    "| **Test Case** | **Input** | **Expected Output** |\n",
    "|--------------|----------|--------------------|\n",
    "| **Valid Salary Increment** | `promote(5000)` | Salary increases successfully |\n",
    "| **Invalid Salary Increment (Negative)** | `promote(-3000)` | Exception is raised |\n",
    "| **Multiple Promotions** | `promote(4000)`, `promote(6000)` | Salary updates twice correctly |\n",
    "| **Zero Salary Increment** | `promote(0)` | Exception is raised |\n",
    "\n"
   ]
  },
  {
   "cell_type": "code",
   "execution_count": 45,
   "metadata": {},
   "outputs": [],
   "source": [
    "class InvalidSalaryIncrementException(Exception):\n",
    "    \n",
    "    \n",
    "    def __init__(self,message):\n",
    "        \n",
    "        self.message=message\n",
    "        \n",
    "        \n",
    "class Employee:\n",
    "    \n",
    "    def __init__(self,name,employee_id,salary):\n",
    "        \n",
    "        self.name=name\n",
    "        self.employee_id=employee_id\n",
    "        self.salary=salary\n",
    "        \n",
    "    def promote(self,amount):\n",
    "        \n",
    "        if(amount<=0):\n",
    "            \n",
    "            raise InvalidSalaryIncrementException(\"InvalidSalaryIncerement ${} must be positive\".format(float(amount)))\n",
    "            \n",
    "        self.salary+=amount\n",
    "        \n",
    "        print(\"{} has been promoted new salaray is {}\".format(self.name,float(self.salary)))\n",
    "        \n",
    "    def display_info(self):\n",
    "        \n",
    "        print(\"Employee Id: {} | Name: {} | salary: ${} \".format(self.employee_id,self.name,float(self.salary)))\n",
    "        \n",
    "        "
   ]
  },
  {
   "cell_type": "code",
   "execution_count": 46,
   "metadata": {},
   "outputs": [
    {
     "name": "stdout",
     "output_type": "stream",
     "text": [
      "Alice Johnson has been promoted new salaray is 55000.0\n",
      "Employee Id: EMP1001 | Name: Alice Johnson | salary: $55000.0 \n"
     ]
    }
   ],
   "source": [
    "emp = Employee(\"Alice Johnson\", \"EMP1001\", 50000)\n",
    "emp.promote(5000)\n",
    "emp.display_info()"
   ]
  },
  {
   "cell_type": "code",
   "execution_count": 47,
   "metadata": {},
   "outputs": [
    {
     "name": "stdout",
     "output_type": "stream",
     "text": [
      "Error: InvalidSalaryIncerement $-3000.0 must be positive\n",
      "Employee Id: EMP1002 | Name: Bob Smith | salary: $60000.0 \n"
     ]
    }
   ],
   "source": [
    "emp = Employee(\"Bob Smith\", \"EMP1002\", 60000)\n",
    "try:\n",
    "    emp.promote(-3000)\n",
    "except InvalidSalaryIncrementException as e:\n",
    "    print(\"Error:\", e)\n",
    "emp.display_info()"
   ]
  },
  {
   "cell_type": "code",
   "execution_count": 48,
   "metadata": {},
   "outputs": [
    {
     "name": "stdout",
     "output_type": "stream",
     "text": [
      "Error: InvalidSalaryIncerement $0.0 must be positive\n",
      "Employee Id: EMP1004 | Name: David Miller | salary: $70000.0 \n"
     ]
    }
   ],
   "source": [
    "emp = Employee(\"David Miller\", \"EMP1004\", 70000)\n",
    "try:\n",
    "    emp.promote(0)\n",
    "except InvalidSalaryIncrementException as e:\n",
    "    print(\"Error:\", e)\n",
    "emp.display_info()"
   ]
  },
  {
   "cell_type": "code",
   "execution_count": 49,
   "metadata": {},
   "outputs": [
    {
     "name": "stdout",
     "output_type": "stream",
     "text": [
      "Charlie Brown has been promoted new salaray is 49000.0\n",
      "Charlie Brown has been promoted new salaray is 55000.0\n",
      "Employee Id: EMP1003 | Name: Charlie Brown | salary: $55000.0 \n"
     ]
    }
   ],
   "source": [
    "emp = Employee(\"Charlie Brown\", \"EMP1003\", 45000)\n",
    "emp.promote(4000)\n",
    "emp.promote(6000)\n",
    "emp.display_info()\n"
   ]
  },
  {
   "cell_type": "code",
   "execution_count": null,
   "metadata": {},
   "outputs": [],
   "source": []
  }
 ],
 "metadata": {
  "colab": {
   "provenance": []
  },
  "kernelspec": {
   "display_name": "Python 3 (ipykernel)",
   "language": "python",
   "name": "python3"
  },
  "language_info": {
   "codemirror_mode": {
    "name": "ipython",
    "version": 3
   },
   "file_extension": ".py",
   "mimetype": "text/x-python",
   "name": "python",
   "nbconvert_exporter": "python",
   "pygments_lexer": "ipython3",
   "version": "3.10.12"
  }
 },
 "nbformat": 4,
 "nbformat_minor": 1
}
