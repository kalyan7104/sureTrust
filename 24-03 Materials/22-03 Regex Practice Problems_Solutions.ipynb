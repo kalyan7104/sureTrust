{
 "cells": [
  {
   "cell_type": "markdown",
   "id": "c3f7c617",
   "metadata": {},
   "source": [
    "### **Question 0: Validate Email Addresses**  \n",
    "#### **Introduction**  \n",
    "In this task, you will check whether a given email address is valid based on a standard pattern.\n",
    "\n",
    "#### **Instructions**  \n",
    "1. Define a function `is_valid_email(email)` that takes a string as input.  \n",
    "2. Use `re.match()` with a **regex pattern** to check if the string follows the email format:\n",
    "   - It should start with **letters, numbers, or underscores**.\n",
    "   - It may contain **dots (`.`) or hyphens (`-`)**.\n",
    "   - It must have an **@ symbol**, followed by a valid domain (letters only).\n",
    "   - The domain should end with **.com, .org, .net**, etc.\n",
    "3. Return `True` if the email is valid, otherwise return `False`.\n",
    "\n",
    "#### **Hint**  \n",
    "- The regex pattern `^[a-zA-Z0-9_.+-]+@[a-zA-Z0-9-]+\\.[a-zA-Z]+$` ensures a valid email format.  \n",
    "- **Breakdown of the pattern:**\n",
    "  - `^[a-zA-Z0-9_.+-]+` → Matches the username (letters, numbers, dots, hyphens, underscores, etc.).\n",
    "  - `@` → Ensures the presence of the **@ symbol**.\n",
    "  - `[a-zA-Z0-9-]+` → Matches the domain name.\n",
    "  - `\\.[a-zA-Z]+$` → Ensures the domain ends with `.com`, `.org`, etc."
   ]
  },
  {
   "cell_type": "code",
   "execution_count": null,
   "id": "ef73b83a",
   "metadata": {},
   "outputs": [],
   "source": [
    "import re\n",
    "\n",
    "def is_valid_email(email):\n",
    "    \"\"\"\n",
    "    Checks if the given email address is valid using a regex pattern.\n",
    "\n",
    "    :param email: str - The email address to validate\n",
    "    :return: bool - True if the email is valid, False otherwise\n",
    "    \"\"\"\n",
    "    pattern = r'^[a-zA-Z0-9_.+-]+@[a-zA-Z0-9-]+\\.[a-zA-Z]+$'\n",
    "    return bool(re.match(pattern, email))\n",
    "\n",
    "# Example Test Cases\n",
    "print(is_valid_email(\"student@example.com\"))  # Expected Output: True\n",
    "print(is_valid_email(\"user.name@my-site.org\"))  # Expected Output: True\n",
    "print(is_valid_email(\"invalid-email.com\"))  # Expected Output: False\n",
    "print(is_valid_email(\"missing@domain\"))  # Expected Output: False\n",
    "print(is_valid_email(\"@nouser.com\"))  # Expected Output: False\n"
   ]
  },
  {
   "cell_type": "code",
   "execution_count": null,
   "id": "9a3617a3",
   "metadata": {},
   "outputs": [],
   "source": []
  },
  {
   "cell_type": "code",
   "execution_count": null,
   "id": "323ce8f9",
   "metadata": {},
   "outputs": [],
   "source": [
    "\n",
    "print(is_valid_email(\"student@example.com\"))  # Expected Output: True\n",
    "print(is_valid_email(\"user.name@my-site.org\"))  # Expected Output: True\n",
    "print(is_valid_email(\"invalid-email.com\"))  # Expected Output: False\n",
    "print(is_valid_email(\"missing@domain\"))  # Expected Output: False\n",
    "print(is_valid_email(\"@nouser.com\"))  # Expected Output: False\n"
   ]
  },
  {
   "cell_type": "code",
   "execution_count": null,
   "id": "3f2d6ff6",
   "metadata": {},
   "outputs": [],
   "source": []
  },
  {
   "cell_type": "markdown",
   "id": "89a307c6",
   "metadata": {},
   "source": [
    "### **Question 1: Extract All Numbers from a String**\n",
    "#### **Introduction**\n",
    "In this task, you will extract all numbers from a given text string. Numbers may appear anywhere within the text, and they can have any number of digits.\n",
    "\n",
    "#### **Instructions**\n",
    "1. Define a function `extract_numbers(text)` that takes a string as input.\n",
    "2. Use the `re.findall()` function with an appropriate **regex pattern** to match numbers in the string.\n",
    "3. Return a **list** of numbers as strings.\n",
    "\n",
    "#### **Hint**\n",
    "- Numbers in a string consist of one or more digits (`0-9`).\n",
    "- The regex pattern `\\d+` will help you find all occurrences of numbers.\n"
   ]
  },
  {
   "cell_type": "code",
   "execution_count": null,
   "id": "429cfebd",
   "metadata": {},
   "outputs": [],
   "source": [
    "# Solution 1: Extract All Numbers from a String\n",
    "def extract_numbers(text):\n",
    "    pattern = r'\\d+'\n",
    "    return re.findall(pattern, text)"
   ]
  },
  {
   "cell_type": "code",
   "execution_count": null,
   "id": "4f8742cd",
   "metadata": {},
   "outputs": [],
   "source": []
  },
  {
   "cell_type": "code",
   "execution_count": null,
   "id": "90932118",
   "metadata": {},
   "outputs": [],
   "source": [
    "print(extract_numbers(\"I have 2 apples and 15 oranges.\"))  # Expected Output: ['2', '15']\n",
    "print(extract_numbers(\"No numbers here!\"))  # Expected Output: []\n",
    "print(extract_numbers(\"Room 404 is not found, but 808 is available.\"))  # Expected Output: ['404', '808']"
   ]
  },
  {
   "cell_type": "code",
   "execution_count": null,
   "id": "2af3abeb",
   "metadata": {},
   "outputs": [],
   "source": []
  },
  {
   "cell_type": "markdown",
   "id": "bc82a452",
   "metadata": {},
   "source": [
    "\n",
    "### **Question 2: Check if a String Contains Only Letters**\n",
    "#### **Introduction**\n",
    "You need to check whether a given string consists **only of letters** (uppercase and lowercase) without any numbers or special characters.\n",
    "\n",
    "#### **Instructions**\n",
    "1. Define a function `is_only_letters(text)` that accepts a string.\n",
    "2. Use `re.match()` with a **regex pattern** to validate that the string contains only letters.\n",
    "3. Return `True` if the string contains only letters, otherwise return `False`.\n",
    "\n",
    "#### **Hint**\n",
    "- The regex pattern `^[A-Za-z]+$` ensures the string **only contains** letters from start (`^`) to end (`$`)."
   ]
  },
  {
   "cell_type": "code",
   "execution_count": null,
   "id": "a0c04520",
   "metadata": {},
   "outputs": [],
   "source": [
    "# Solution 2: Check if a String Contains Only Letters\n",
    "def is_only_letters(text):\n",
    "    pattern = r'^[A-Za-z]+$'\n",
    "    return bool(re.match(pattern, text))"
   ]
  },
  {
   "cell_type": "code",
   "execution_count": null,
   "id": "6e390cf8",
   "metadata": {},
   "outputs": [],
   "source": []
  },
  {
   "cell_type": "code",
   "execution_count": null,
   "id": "6e172aca",
   "metadata": {},
   "outputs": [],
   "source": [
    "print(is_only_letters(\"HelloWorld\"))  # Expected Output: True\n",
    "print(is_only_letters(\"Hello123\"))    # Expected Output: False\n",
    "print(is_only_letters(\"Python!\"))     # Expected Output: False"
   ]
  },
  {
   "cell_type": "code",
   "execution_count": null,
   "id": "b18bcc88",
   "metadata": {},
   "outputs": [],
   "source": []
  },
  {
   "cell_type": "markdown",
   "id": "531e1aa6",
   "metadata": {},
   "source": [
    "\n",
    "### **Question 3: Find Words Ending with \"ing\"**\n",
    "#### **Introduction**\n",
    "Your task is to extract all words from a string that **end with \"ing\"**.\n",
    "\n",
    "#### **Instructions**\n",
    "1. Define a function `find_ing_words(text)` that takes a string as input.\n",
    "2. Use `re.findall()` with a **regex pattern** to find words ending in \"ing\".\n",
    "3. Return a **list** of matched words.\n",
    "\n",
    "#### **Hint**\n",
    "- A **word boundary (`\\b`)** ensures the match is a **whole word**.\n",
    "- The regex pattern `\\b\\w+ing\\b` helps find words that **end in \"ing\"**."
   ]
  },
  {
   "cell_type": "code",
   "execution_count": null,
   "id": "ff836cfd",
   "metadata": {},
   "outputs": [],
   "source": [
    "# Solution 3: Find Words Ending with \"ing\"\n",
    "def find_ing_words(text):\n",
    "    pattern = r'\\b\\w+ing\\b'\n",
    "    return re.findall(pattern, text)"
   ]
  },
  {
   "cell_type": "code",
   "execution_count": null,
   "id": "de25766d",
   "metadata": {},
   "outputs": [],
   "source": []
  },
  {
   "cell_type": "code",
   "execution_count": null,
   "id": "2120e48e",
   "metadata": {},
   "outputs": [],
   "source": [
    "print(find_ing_words(\"I am running and she is singing.\"))  # Expected Output: ['running', 'singing']\n",
    "print(find_ing_words(\"Walking is fun but jumping is better!\"))  # Expected Output: ['Walking', 'jumping']\n",
    "print(find_ing_words(\"No ING words here!\"))  # Expected Output: []"
   ]
  },
  {
   "cell_type": "code",
   "execution_count": null,
   "id": "967eeaea",
   "metadata": {},
   "outputs": [],
   "source": []
  },
  {
   "cell_type": "markdown",
   "id": "31fd5b87",
   "metadata": {},
   "source": [
    "### **Question 4: Replace Multiple Spaces with a Single Space**\n",
    "#### **Introduction**\n",
    "This task involves cleaning a string by replacing **multiple spaces** with a **single space**.\n",
    "\n",
    "#### **Instructions**\n",
    "1. Define a function `normalize_spaces(text)` that accepts a string.\n",
    "2. Use `re.sub()` to replace **multiple spaces** (`\\s+`) with a **single space**.\n",
    "3. Trim **leading and trailing spaces** before returning the final string.\n",
    "\n",
    "#### **Hint**\n",
    "- The regex pattern `\\s+` matches one or more whitespace characters.\n",
    "- The `strip()` method removes any spaces at the start or end of the string."
   ]
  },
  {
   "cell_type": "code",
   "execution_count": null,
   "id": "891a5cbc",
   "metadata": {},
   "outputs": [],
   "source": [
    "# Solution 4: Replace Multiple Spaces with a Single Space\n",
    "def normalize_spaces(text):\n",
    "    pattern = r'\\s+'\n",
    "    return re.sub(pattern, ' ', text).strip()"
   ]
  },
  {
   "cell_type": "code",
   "execution_count": null,
   "id": "f296404a",
   "metadata": {},
   "outputs": [],
   "source": []
  },
  {
   "cell_type": "code",
   "execution_count": null,
   "id": "938421e7",
   "metadata": {},
   "outputs": [],
   "source": [
    "print(normalize_spaces(\"This   sentence   has    too   many spaces.\"))  # Expected Output: \"This sentence has too many spaces.\"\n",
    "print(normalize_spaces(\"No extra spaces here.\"))  # Expected Output: \"No extra spaces here.\"\n",
    "print(normalize_spaces(\"     Leading and trailing spaces should be removed too.    \"))  # Expected Output: \"Leading and trailing spaces should be removed too.\"\n"
   ]
  }
 ],
 "metadata": {
  "kernelspec": {
   "display_name": "Python 3 (ipykernel)",
   "language": "python",
   "name": "python3"
  },
  "language_info": {
   "codemirror_mode": {
    "name": "ipython",
    "version": 3
   },
   "file_extension": ".py",
   "mimetype": "text/x-python",
   "name": "python",
   "nbconvert_exporter": "python",
   "pygments_lexer": "ipython3",
   "version": "3.10.11"
  }
 },
 "nbformat": 4,
 "nbformat_minor": 5
}
