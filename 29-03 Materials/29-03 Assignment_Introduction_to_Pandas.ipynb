{
 "cells": [
  {
   "cell_type": "code",
   "execution_count": 5,
   "metadata": {
    "id": "0V3Xtuh9siNn"
   },
   "outputs": [],
   "source": [
    "# Import the required packages\n",
    "import pandas as pd\n",
    "import numpy as np\n",
    "import re"
   ]
  },
  {
   "cell_type": "markdown",
   "metadata": {
    "id": "Ase3qjp9cJUC"
   },
   "source": [
    "# <u>**Problem 1**</u>\n",
    "\n",
    "### You are given a list of urls. You need to extract the domain name from the urls in another list. Also you need to extract the ending string which the url ends with.\n",
    "\n",
    "### For example, https://www.example.com/market.php -- In this example, domain name is <code>www.example.com</code> and the ending string is <code>php</code>\n",
    "\n"
   ]
  },
  {
   "cell_type": "code",
   "execution_count": 2,
   "metadata": {
    "id": "xj0SaK7smcPu"
   },
   "outputs": [],
   "source": [
    "# List of urls\n",
    "url_list = ['https://blog.hubspot.com/marketing/parts-url',\n",
    "            'https://www.suretrust.com/internships',\n",
    "            'https://pandas.pydata.org/pandas-docs/stable/reference/api/pandas.DataFrame.rename.html',\n",
    "            'https://www.programiz.com/python-programming/list']"
   ]
  },
  {
   "cell_type": "code",
   "execution_count": 16,
   "metadata": {
    "id": "N1hhYCZw3V1c"
   },
   "outputs": [
    {
     "name": "stdout",
     "output_type": "stream",
     "text": [
      "['blog.hubspot.com', 'suretrust.com', 'pandas.pydata.org', 'programiz.com']\n",
      "['parts-url', 'internships', 'DataFrame.rename.html', 'list']\n"
     ]
    }
   ],
   "source": [
    "# Extract the domains and the ending string. Hint : use the split method for a string\n",
    "domain_list=[]\n",
    "ending_string_list =[]\n",
    "for url in url_list:\n",
    "    domain_list.append(re.search(r'https?://(?:www\\.)?([^/]+)',url).group(1))\n",
    "    ending = re.search(r'/([^/.]*)\\.?([^/]*)$', url)\n",
    "    ending_string_list.append(ending.group(2) if ending.group(2) else ending.group(1))\n",
    "\n",
    "print(domain_list)\n",
    "\n",
    "print(ending_string_list)\n",
    "\n"
   ]
  },
  {
   "cell_type": "markdown",
   "metadata": {
    "id": "EVgY54DrvLEF"
   },
   "source": [
    "## Next create a pandas dataframe with the above three lists."
   ]
  },
  {
   "cell_type": "code",
   "execution_count": 24,
   "metadata": {
    "colab": {
     "base_uri": "https://localhost:8080/",
     "height": 173
    },
    "id": "2osXcjvpu6Uz",
    "outputId": "10f0953c-c183-4e87-8490-dc302529b1c3"
   },
   "outputs": [
    {
     "name": "stdout",
     "output_type": "stream",
     "text": [
      "[('https://blog.hubspot.com/marketing/parts-url', 'blog.hubspot.com', 'parts-url'), ('https://www.suretrust.com/internships', 'suretrust.com', 'internships'), ('https://pandas.pydata.org/pandas-docs/stable/reference/api/pandas.DataFrame.rename.html', 'pandas.pydata.org', 'DataFrame.rename.html'), ('https://www.programiz.com/python-programming/list', 'programiz.com', 'list')]\n",
      "                                                 Url             Domain  \\\n",
      "0       https://blog.hubspot.com/marketing/parts-url   blog.hubspot.com   \n",
      "1              https://www.suretrust.com/internships      suretrust.com   \n",
      "2  https://pandas.pydata.org/pandas-docs/stable/r...  pandas.pydata.org   \n",
      "3  https://www.programiz.com/python-programming/list      programiz.com   \n",
      "\n",
      "           Ending_string  \n",
      "0              parts-url  \n",
      "1            internships  \n",
      "2  DataFrame.rename.html  \n",
      "3                   list  \n"
     ]
    }
   ],
   "source": [
    "# Your code here. Hint : zip the three lists\n",
    "list_of_tuples = list(zip(url_list,domain_list,ending_string_list))\n",
    "print(list_of_tuples)\n",
    "\n",
    "# Create the dataframe and name the columns as 'Url', 'Domain', 'Ending_string'\n",
    "url_info_frame = pd.DataFrame(list_of_tuples,columns=['Url', 'Domain', 'Ending_string'])\n",
    "\n",
    "# Print the dataframe\n",
    "print(url_info_frame)\n"
   ]
  },
  {
   "cell_type": "code",
   "execution_count": null,
   "metadata": {},
   "outputs": [],
   "source": []
  },
  {
   "cell_type": "markdown",
   "metadata": {},
   "source": [
    "# Problem 2\n",
    "\n",
    "### **Problem Statement:**\n",
    "You are given sales data for a small electronics store. The store sells various products like laptops, smartphones, and tablets. Your task is to create a pandas DataFrame from scratch using the given data and perform some basic analysis.\n",
    "\n",
    "#### **Instructions:**\n",
    "1. Create a pandas DataFrame with the following columns:\n",
    "   - `'Product'`: Name of the product  \n",
    "   - `'Category'`: Type of product (Laptop, Smartphone, Tablet)  \n",
    "   - `'Price'`: Price of the product (in USD)  \n",
    "   - `'Units Sold'`: Number of units sold  \n",
    "\n",
    "2. Use the following data to populate the DataFrame:  \n",
    "\n",
    "   | Product              | Category    | Price | Units Sold |\n",
    "   |----------------------|------------|-------|------------|\n",
    "   | MacBook Air         | Laptop     | 999   | 35         |\n",
    "   | Dell XPS 13         | Laptop     | 1199  | 25         |\n",
    "   | iPhone 14           | Smartphone | 799   | 50         |\n",
    "   | Samsung Galaxy S23  | Smartphone | 899   | 40         |\n",
    "   | iPad Pro            | Tablet     | 1099  | 30         |\n",
    "\n",
    "3. **Perform Basic Analysis on the DataFrame**:\n",
    "   - Print the first 5 rows of the DataFrame.\n",
    "   - Print the number of rows and columns.\n",
    "   - Print the number of elements in the dataframe.\n",
    "   - Print the column names.\n",
    "   - Check for missing values.\n",
    "   - Print basic statistics.\n",
    "\n",
    "---\n"
   ]
  },
  {
   "cell_type": "markdown",
   "metadata": {},
   "source": [
    "---\n",
    "\n",
    "### **Expected Output:**\n",
    "```\n",
    "First 5 rows of the DataFrame:\n",
    "             Product    Category  Price  Units Sold\n",
    "0     MacBook Air     Laptop    999         35\n",
    "1     Dell XPS 13     Laptop   1199         25\n",
    "2     iPhone 14   Smartphone    799         50\n",
    "3     Samsung Galaxy S23  Smartphone    899         40\n",
    "4     iPad Pro        Tablet   1099         30\n",
    "\n",
    "Shape of the DataFrame (rows, columns): (5, 4)\n",
    "\n",
    "Total number of elements in the DataFrame: 20\n",
    "\n",
    "Column names: ['Product', 'Category', 'Price', 'Units Sold']\n",
    "\n",
    "Missing values in each column:\n",
    "Product       0\n",
    "Category      0\n",
    "Price         0\n",
    "Units Sold    0\n",
    "dtype: int64\n",
    "\n",
    "Summary statistics of numerical columns:\n",
    "             Price  Units Sold\n",
    "count     5.000000   5.000000\n",
    "mean   999.000000  36.000000\n",
    "std    146.759473   9.354143\n",
    "min    799.000000  25.000000\n",
    "25%    899.000000  30.000000\n",
    "50%    999.000000  35.000000\n",
    "75%   1099.000000  40.000000\n",
    "max   1199.000000  50.000000\n",
    "```\n"
   ]
  },
  {
   "cell_type": "code",
   "execution_count": 27,
   "metadata": {},
   "outputs": [],
   "source": [
    "data={\"product\":[\"MacBook Air\",\"Dell XPS 13\",\"iPhone 14\",\"Samsung Galaxy S23\",\"iPad Pro\"],\n",
    "      \"Category\":[\"Laptop\",\"Laptop\",\"SmartPhone\",\"smartphone\",\"Tablet\"],\"Price\":[999,1199,799,899,1099],\"Units Sold\":[35,25,50,40,30]}"
   ]
  },
  {
   "cell_type": "code",
   "execution_count": 28,
   "metadata": {},
   "outputs": [],
   "source": [
    "df=pd.DataFrame(data)"
   ]
  },
  {
   "cell_type": "code",
   "execution_count": 29,
   "metadata": {},
   "outputs": [
    {
     "data": {
      "text/html": [
       "<div>\n",
       "<style scoped>\n",
       "    .dataframe tbody tr th:only-of-type {\n",
       "        vertical-align: middle;\n",
       "    }\n",
       "\n",
       "    .dataframe tbody tr th {\n",
       "        vertical-align: top;\n",
       "    }\n",
       "\n",
       "    .dataframe thead th {\n",
       "        text-align: right;\n",
       "    }\n",
       "</style>\n",
       "<table border=\"1\" class=\"dataframe\">\n",
       "  <thead>\n",
       "    <tr style=\"text-align: right;\">\n",
       "      <th></th>\n",
       "      <th>product</th>\n",
       "      <th>Category</th>\n",
       "      <th>Price</th>\n",
       "      <th>Units Sold</th>\n",
       "    </tr>\n",
       "  </thead>\n",
       "  <tbody>\n",
       "    <tr>\n",
       "      <th>0</th>\n",
       "      <td>MacBook Air</td>\n",
       "      <td>Laptop</td>\n",
       "      <td>999</td>\n",
       "      <td>35</td>\n",
       "    </tr>\n",
       "    <tr>\n",
       "      <th>1</th>\n",
       "      <td>Dell XPS 13</td>\n",
       "      <td>Laptop</td>\n",
       "      <td>1199</td>\n",
       "      <td>25</td>\n",
       "    </tr>\n",
       "    <tr>\n",
       "      <th>2</th>\n",
       "      <td>iPhone 14</td>\n",
       "      <td>SmartPhone</td>\n",
       "      <td>799</td>\n",
       "      <td>50</td>\n",
       "    </tr>\n",
       "    <tr>\n",
       "      <th>3</th>\n",
       "      <td>Samsung Galaxy S23</td>\n",
       "      <td>smartphone</td>\n",
       "      <td>899</td>\n",
       "      <td>40</td>\n",
       "    </tr>\n",
       "    <tr>\n",
       "      <th>4</th>\n",
       "      <td>iPad Pro</td>\n",
       "      <td>Tablet</td>\n",
       "      <td>1099</td>\n",
       "      <td>30</td>\n",
       "    </tr>\n",
       "  </tbody>\n",
       "</table>\n",
       "</div>"
      ],
      "text/plain": [
       "              product    Category  Price  Units Sold\n",
       "0         MacBook Air      Laptop    999          35\n",
       "1         Dell XPS 13      Laptop   1199          25\n",
       "2           iPhone 14  SmartPhone    799          50\n",
       "3  Samsung Galaxy S23  smartphone    899          40\n",
       "4            iPad Pro      Tablet   1099          30"
      ]
     },
     "execution_count": 29,
     "metadata": {},
     "output_type": "execute_result"
    }
   ],
   "source": [
    "df"
   ]
  },
  {
   "cell_type": "code",
   "execution_count": 41,
   "metadata": {},
   "outputs": [
    {
     "name": "stdout",
     "output_type": "stream",
     "text": [
      "First 5 rows of the DataFrame:\n",
      "              product    Category  Price  Units Sold\n",
      "0         MacBook Air      Laptop    999          35\n",
      "1         Dell XPS 13      Laptop   1199          25\n",
      "2           iPhone 14  SmartPhone    799          50\n",
      "3  Samsung Galaxy S23  smartphone    899          40\n",
      "4            iPad Pro      Tablet   1099          30\n",
      "\n",
      "Shape of the DataFrame (rows, columns): (5, 4)\n",
      "\n",
      "Total number of elements in the DataFrame: 20\n",
      "\n",
      "Column names: ['product', 'Category', 'Price', 'Units Sold']\n",
      "Missing values in each column:\n",
      "product       0\n",
      "Category      0\n",
      "Price         0\n",
      "Units Sold    0\n",
      "dtype: int64\n",
      "\n",
      "Summary statistics of numerical columns:\n",
      "             Price  Units Sold\n",
      "count     5.000000    5.000000\n",
      "mean    999.000000   36.000000\n",
      "std     158.113883    9.617692\n",
      "min     799.000000   25.000000\n",
      "25%     899.000000   30.000000\n",
      "50%     999.000000   35.000000\n",
      "75%    1099.000000   40.000000\n",
      "max    1199.000000   50.000000\n"
     ]
    }
   ],
   "source": [
    "print(\"First 5 rows of the DataFrame:\")\n",
    "print(df.head())\n",
    "print()\n",
    "print(\"Shape of the DataFrame (rows, columns):\",df.shape)\n",
    "print()\n",
    "print(\"Total number of elements in the DataFrame:\",df.size)\n",
    "print()\n",
    "print(\"Column names:\",list(df.columns))\n",
    "print(\"Missing values in each column:\")\n",
    "print(df.isnull().sum())\n",
    "print()\n",
    "print(\"Summary statistics of numerical columns:\")\n",
    "print(df.describe())\n"
   ]
  },
  {
   "cell_type": "code",
   "execution_count": null,
   "metadata": {},
   "outputs": [],
   "source": []
  }
 ],
 "metadata": {
  "colab": {
   "provenance": []
  },
  "kernelspec": {
   "display_name": "Python 3 (ipykernel)",
   "language": "python",
   "name": "python3"
  },
  "language_info": {
   "codemirror_mode": {
    "name": "ipython",
    "version": 3
   },
   "file_extension": ".py",
   "mimetype": "text/x-python",
   "name": "python",
   "nbconvert_exporter": "python",
   "pygments_lexer": "ipython3",
   "version": "3.10.12"
  }
 },
 "nbformat": 4,
 "nbformat_minor": 1
}
