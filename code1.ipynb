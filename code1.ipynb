{
 "cells": [
  {
   "cell_type": "markdown",
   "metadata": {},
   "source": [
    "#Data structres And Functions"
   ]
  },
  {
   "cell_type": "code",
   "execution_count": 12,
   "metadata": {},
   "outputs": [
    {
     "name": "stdout",
     "output_type": "stream",
     "text": [
      "enter text:kalyan kumar 34\n",
      "{'k': 2, 'a': 3, 'l': 1, 'y': 1, 'n': 1, ' ': 2, 'u': 1, 'm': 1, 'r': 1, '3': 1, '4': 1}\n"
     ]
    }
   ],
   "source": [
    "def count(text):\n",
    "        freq={}\n",
    "        for i in text:\n",
    "            if i in freq:\n",
    "                freq[i]+=1\n",
    "            else:\n",
    "                freq[i]=1\n",
    "        print(freq)\n",
    "\n",
    "text=input(\"enter text:\").lower()\n",
    "count(text)\n",
    "\n"
   ]
  },
  {
   "cell_type": "code",
   "execution_count": 7,
   "metadata": {},
   "outputs": [
    {
     "name": "stdout",
     "output_type": "stream",
     "text": [
      "Enter a number: 50\n",
      "Number is not Armstrong\n"
     ]
    }
   ],
   "source": [
    "def armstrong(number,length):\n",
    "    temp=number\n",
    "    sum=0\n",
    "    while(number>0):\n",
    "        sum+=(number%10)**length\n",
    "        number=number//10\n",
    "    \n",
    "    if sum == temp:\n",
    "        print(\"Number is Armstrong\")\n",
    "    else:\n",
    "        print(\"Number is not Armstrong\")\n",
    "\n",
    "num = int(input(\"Enter a number: \"))  \n",
    "num_len=len(str(num))\n",
    "armstrong(num,num_len)\n"
   ]
  },
  {
   "cell_type": "code",
   "execution_count": 28,
   "metadata": {},
   "outputs": [
    {
     "name": "stdout",
     "output_type": "stream",
     "text": [
      "enter text:welcome to the word of coding\n",
      "welcome to the of\n"
     ]
    }
   ],
   "source": [
    "def prime(number):\n",
    "    count=0\n",
    "    for i in range(1,number+1):\n",
    "        if(number%i==0):\n",
    "            count+=1\n",
    "    if(count==2):\n",
    "        return True\n",
    "msg=input(\"enter text:\").split()\n",
    "msg_list=[len(i) for i in msg]\n",
    "msg_str=[]\n",
    "for i in range(len(msg_list)):\n",
    "    if(prime(msg_list[i])):\n",
    "        msg_str.append(msg[i])\n",
    "    \n",
    "print(\" \".join(msg_str))"
   ]
  },
  {
   "cell_type": "code",
   "execution_count": null,
   "metadata": {},
   "outputs": [],
   "source": []
  }
 ],
 "metadata": {
  "kernelspec": {
   "display_name": "Python 3 (ipykernel)",
   "language": "python",
   "name": "python3"
  },
  "language_info": {
   "codemirror_mode": {
    "name": "ipython",
    "version": 3
   },
   "file_extension": ".py",
   "mimetype": "text/x-python",
   "name": "python",
   "nbconvert_exporter": "python",
   "pygments_lexer": "ipython3",
   "version": "3.10.12"
  }
 },
 "nbformat": 4,
 "nbformat_minor": 2
}
