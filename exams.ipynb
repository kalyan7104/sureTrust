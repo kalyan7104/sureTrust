{
 "cells": [
  {
   "cell_type": "code",
   "execution_count": 1,
   "id": "cae113ec",
   "metadata": {},
   "outputs": [],
   "source": [
    "import pandas as pd"
   ]
  },
  {
   "cell_type": "code",
   "execution_count": 2,
   "id": "efc76688",
   "metadata": {},
   "outputs": [],
   "source": [
    "import numpy as np"
   ]
  },
  {
   "cell_type": "code",
   "execution_count": 3,
   "id": "1651c4fc",
   "metadata": {},
   "outputs": [],
   "source": [
    "d=pd.read_csv(\"/home/kalyan/Downloads/Titanic-Dataset.csv\")"
   ]
  },
  {
   "cell_type": "code",
   "execution_count": 4,
   "id": "1b454eb3",
   "metadata": {},
   "outputs": [
    {
     "name": "stdout",
     "output_type": "stream",
     "text": [
      "     PassengerId  Survived  Pclass  \\\n",
      "0              1         0       3   \n",
      "1              2         1       1   \n",
      "2              3         1       3   \n",
      "3              4         1       1   \n",
      "4              5         0       3   \n",
      "..           ...       ...     ...   \n",
      "886          887         0       2   \n",
      "887          888         1       1   \n",
      "888          889         0       3   \n",
      "889          890         1       1   \n",
      "890          891         0       3   \n",
      "\n",
      "                                                  Name  Gender   Age  SibSp  \\\n",
      "0                              Braund, Mr. Owen Harris    male  22.0      1   \n",
      "1    Cumings, Mrs. John Bradley (Florence Briggs Th...  female  38.0      1   \n",
      "2                               Heikkinen, Miss. Laina  female  26.0      0   \n",
      "3         Futrelle, Mrs. Jacques Heath (Lily May Peel)  female  35.0      1   \n",
      "4                             Allen, Mr. William Henry    male  35.0      0   \n",
      "..                                                 ...     ...   ...    ...   \n",
      "886                              Montvila, Rev. Juozas    male  27.0      0   \n",
      "887                       Graham, Miss. Margaret Edith  female  19.0      0   \n",
      "888           Johnston, Miss. Catherine Helen \"Carrie\"  female   NaN      1   \n",
      "889                              Behr, Mr. Karl Howell    male  26.0      0   \n",
      "890                                Dooley, Mr. Patrick    male  32.0      0   \n",
      "\n",
      "     Parch            Ticket     Fare Cabin Embarked  \n",
      "0        0         A/5 21171   7.2500   NaN        S  \n",
      "1        0          PC 17599  71.2833   C85        C  \n",
      "2        0  STON/O2. 3101282   7.9250   NaN        S  \n",
      "3        0            113803  53.1000  C123        S  \n",
      "4        0            373450   8.0500   NaN        S  \n",
      "..     ...               ...      ...   ...      ...  \n",
      "886      0            211536  13.0000   NaN        S  \n",
      "887      0            112053  30.0000   B42        S  \n",
      "888      2        W./C. 6607  23.4500   NaN        S  \n",
      "889      0            111369  30.0000  C148        C  \n",
      "890      0            370376   7.7500   NaN        Q  \n",
      "\n",
      "[891 rows x 12 columns]\n"
     ]
    }
   ],
   "source": [
    "df=pd.DataFrame(d)\n",
    "print(df)"
   ]
  },
  {
   "cell_type": "code",
   "execution_count": 22,
   "id": "7023e2ed",
   "metadata": {},
   "outputs": [
    {
     "name": "stdout",
     "output_type": "stream",
     "text": [
      "[[22.      7.25    0.    ]\n",
      " [38.     71.2833  1.    ]\n",
      " [26.      7.925   1.    ]\n",
      " ...\n",
      " [    nan 23.45    0.    ]\n",
      " [26.     30.      1.    ]\n",
      " [32.      7.75    0.    ]]\n"
     ]
    }
   ],
   "source": [
    "data = df[['Age', 'Fare', 'Survived']].to_numpy() #to_numpy() is used for coverting data frames into numpy arrays\n",
    "print(data)\n"
   ]
  },
  {
   "cell_type": "code",
   "execution_count": 24,
   "id": "6803d910",
   "metadata": {},
   "outputs": [],
   "source": [
    "clean_data = data[~np.isnan(data).any(axis=1)]\n",
    "#This line removes rows containing any NaN values from a NumPy array `data` axis=1 specifiesrow \n",
    "#~ inverts to keep only rows. "
   ]
  },
  {
   "cell_type": "code",
   "execution_count": 7,
   "id": "0d4ee75c",
   "metadata": {},
   "outputs": [],
   "source": [
    "age_mean, age_std = np.mean(clean_data[:, 0]), np.std(clean_data[:, 0]) \n",
    "#calculates the mean (age_mean) and standard deviation (age_std) of the first column (index 0) in the clean_data array, which typically represents age values in the dataset.\n",
    "fare_mean, fare_std = np.mean(clean_data[:, 1]), np.std(clean_data[:, 1]) \n",
    "#calculates the mean (`fare_mean`) and standard deviation (`fare_std`) of the second column (index 1) in `clean_data`, which contains fare values.\n",
    "clean_data[:, 0] = (clean_data[:, 0] - age_mean) / age_std  \n",
    "clean_data[:, 1] = (clean_data[:, 1] - fare_mean) / fare_std  "
   ]
  },
  {
   "cell_type": "code",
   "execution_count": 8,
   "id": "988e0793",
   "metadata": {},
   "outputs": [
    {
     "name": "stdout",
     "output_type": "stream",
     "text": [
      "Survivors - Mean age: -0.09337269255785864 Mean fare: 0.3242830655233994\n",
      "Non-survivors - Mean age: 0.06386339821174336 Mean fare: -0.22179737972119304\n"
     ]
    }
   ],
   "source": [
    "\n",
    "survived = clean_data[clean_data[:, 2] == 1] # filters `clean_data` to create a new array `survived` containing only rows where the third column (index 2, survival status) equals 1 (indicating passengers who survived).\n",
    "\n",
    "#filters `clean_data` to create a new array `not_survived` containing only rows where the third column (index 2, survival status) equals 0 .\n",
    "not_survived = clean_data[clean_data[:, 2] == 0]\n",
    "\n",
    "mean_age_survived = np.mean(survived[:, 0]) #calculates the average age (`mean_age_survived`) from the first column (index 0) of the `survived` array containing passengers who survived.\n",
    "mean_fare_survived = np.mean(survived[:, 1])\n",
    "\n",
    "mean_age_not_survived = np.mean(not_survived[:, 0])\n",
    "mean_fare_not_survived = np.mean(not_survived[:, 1])\n",
    "\n",
    "print(\"Survivors - Mean age:\", mean_age_survived, \"Mean fare:\", mean_fare_survived)\n",
    "print(\"Non-survivors - Mean age:\", mean_age_not_survived, \"Mean fare:\", mean_fare_not_survived)"
   ]
  },
  {
   "cell_type": "code",
   "execution_count": 25,
   "id": "d6bb47f9",
   "metadata": {},
   "outputs": [],
   "source": [
    "\n",
    "original_fares = data[~np.isnan(data).any(axis=1)][:, 1]  # Get clean fares\n",
    "\n",
    "\n",
    "fare_mean = np.mean(original_fares) #calucates_mean\n",
    "fare_classification = np.where(original_fares < fare_mean, \"Low\", \"High\") #calssification of fares is performed which are less than fare_mean\n",
    "\n",
    "fare_class_numeric = np.where(original_fares < fare_mean, 0, 1)\n",
    "clean_data = np.column_stack((clean_data, fare_class_numeric))"
   ]
  },
  {
   "cell_type": "code",
   "execution_count": null,
   "id": "fe0673e5",
   "metadata": {},
   "outputs": [],
   "source": []
  },
  {
   "cell_type": "markdown",
   "id": "145ca2b6",
   "metadata": {},
   "source": []
  },
  {
   "cell_type": "code",
   "execution_count": 10,
   "id": "145b8576",
   "metadata": {},
   "outputs": [],
   "source": [
    "data2=pd.read_excel(\"/home/kalyan/Downloads/iris.xlsx\")"
   ]
  },
  {
   "cell_type": "code",
   "execution_count": 11,
   "id": "47653167",
   "metadata": {},
   "outputs": [
    {
     "name": "stdout",
     "output_type": "stream",
     "text": [
      "Defaulting to user installation because normal site-packages is not writeable\n",
      "Requirement already satisfied: openpyxl==3.1.0 in ./.local/lib/python3.10/site-packages (3.1.0)\n",
      "Requirement already satisfied: et-xmlfile in /usr/lib/python3/dist-packages (from openpyxl==3.1.0) (1.0.1)\n",
      "Note: you may need to restart the kernel to use updated packages.\n"
     ]
    }
   ],
   "source": [
    "pip install openpyxl==3.1.0"
   ]
  },
  {
   "cell_type": "code",
   "execution_count": 16,
   "id": "0d8eca2e",
   "metadata": {},
   "outputs": [],
   "source": [
    "data2=pd.read_excel(\"/home/kalyan/Downloads/iris.xlsx\") #loads the  excel data"
   ]
  },
  {
   "cell_type": "code",
   "execution_count": 17,
   "id": "b31dc3b6",
   "metadata": {},
   "outputs": [],
   "source": [
    "iris=pd.DataFrame(data2) # creates dataframe"
   ]
  },
  {
   "cell_type": "code",
   "execution_count": 18,
   "id": "7668659f",
   "metadata": {},
   "outputs": [
    {
     "data": {
      "text/html": [
       "<div>\n",
       "<style scoped>\n",
       "    .dataframe tbody tr th:only-of-type {\n",
       "        vertical-align: middle;\n",
       "    }\n",
       "\n",
       "    .dataframe tbody tr th {\n",
       "        vertical-align: top;\n",
       "    }\n",
       "\n",
       "    .dataframe thead th {\n",
       "        text-align: right;\n",
       "    }\n",
       "</style>\n",
       "<table border=\"1\" class=\"dataframe\">\n",
       "  <thead>\n",
       "    <tr style=\"text-align: right;\">\n",
       "      <th></th>\n",
       "      <th>sepal.length</th>\n",
       "      <th>sepal.width</th>\n",
       "      <th>petal.length</th>\n",
       "      <th>petal.width</th>\n",
       "      <th>variety</th>\n",
       "    </tr>\n",
       "  </thead>\n",
       "  <tbody>\n",
       "    <tr>\n",
       "      <th>0</th>\n",
       "      <td>5.1</td>\n",
       "      <td>3.5</td>\n",
       "      <td>1.4</td>\n",
       "      <td>0.2</td>\n",
       "      <td>Setosa</td>\n",
       "    </tr>\n",
       "    <tr>\n",
       "      <th>1</th>\n",
       "      <td>4.9</td>\n",
       "      <td>3.0</td>\n",
       "      <td>1.4</td>\n",
       "      <td>0.2</td>\n",
       "      <td>Setosa</td>\n",
       "    </tr>\n",
       "    <tr>\n",
       "      <th>2</th>\n",
       "      <td>4.7</td>\n",
       "      <td>3.2</td>\n",
       "      <td>1.3</td>\n",
       "      <td>0.2</td>\n",
       "      <td>Setosa</td>\n",
       "    </tr>\n",
       "    <tr>\n",
       "      <th>3</th>\n",
       "      <td>4.6</td>\n",
       "      <td>3.1</td>\n",
       "      <td>1.5</td>\n",
       "      <td>0.2</td>\n",
       "      <td>Setosa</td>\n",
       "    </tr>\n",
       "    <tr>\n",
       "      <th>4</th>\n",
       "      <td>5.0</td>\n",
       "      <td>3.6</td>\n",
       "      <td>1.4</td>\n",
       "      <td>0.2</td>\n",
       "      <td>Setosa</td>\n",
       "    </tr>\n",
       "    <tr>\n",
       "      <th>...</th>\n",
       "      <td>...</td>\n",
       "      <td>...</td>\n",
       "      <td>...</td>\n",
       "      <td>...</td>\n",
       "      <td>...</td>\n",
       "    </tr>\n",
       "    <tr>\n",
       "      <th>145</th>\n",
       "      <td>6.7</td>\n",
       "      <td>3.0</td>\n",
       "      <td>5.2</td>\n",
       "      <td>2.3</td>\n",
       "      <td>Virginica</td>\n",
       "    </tr>\n",
       "    <tr>\n",
       "      <th>146</th>\n",
       "      <td>6.3</td>\n",
       "      <td>2.5</td>\n",
       "      <td>5.0</td>\n",
       "      <td>1.9</td>\n",
       "      <td>Virginica</td>\n",
       "    </tr>\n",
       "    <tr>\n",
       "      <th>147</th>\n",
       "      <td>6.5</td>\n",
       "      <td>3.0</td>\n",
       "      <td>5.2</td>\n",
       "      <td>2.0</td>\n",
       "      <td>Virginica</td>\n",
       "    </tr>\n",
       "    <tr>\n",
       "      <th>148</th>\n",
       "      <td>6.2</td>\n",
       "      <td>3.4</td>\n",
       "      <td>5.4</td>\n",
       "      <td>2.3</td>\n",
       "      <td>Virginica</td>\n",
       "    </tr>\n",
       "    <tr>\n",
       "      <th>149</th>\n",
       "      <td>5.9</td>\n",
       "      <td>3.0</td>\n",
       "      <td>5.1</td>\n",
       "      <td>1.8</td>\n",
       "      <td>Virginica</td>\n",
       "    </tr>\n",
       "  </tbody>\n",
       "</table>\n",
       "<p>150 rows × 5 columns</p>\n",
       "</div>"
      ],
      "text/plain": [
       "     sepal.length  sepal.width  petal.length  petal.width    variety\n",
       "0             5.1          3.5           1.4          0.2     Setosa\n",
       "1             4.9          3.0           1.4          0.2     Setosa\n",
       "2             4.7          3.2           1.3          0.2     Setosa\n",
       "3             4.6          3.1           1.5          0.2     Setosa\n",
       "4             5.0          3.6           1.4          0.2     Setosa\n",
       "..            ...          ...           ...          ...        ...\n",
       "145           6.7          3.0           5.2          2.3  Virginica\n",
       "146           6.3          2.5           5.0          1.9  Virginica\n",
       "147           6.5          3.0           5.2          2.0  Virginica\n",
       "148           6.2          3.4           5.4          2.3  Virginica\n",
       "149           5.9          3.0           5.1          1.8  Virginica\n",
       "\n",
       "[150 rows x 5 columns]"
      ]
     },
     "execution_count": 18,
     "metadata": {},
     "output_type": "execute_result"
    }
   ],
   "source": [
    "iris   #prints the dataframe"
   ]
  },
  {
   "cell_type": "code",
   "execution_count": 21,
   "id": "ef809855",
   "metadata": {},
   "outputs": [
    {
     "name": "stdout",
     "output_type": "stream",
     "text": [
      "Average petal ratio by species:\n",
      "variety\n",
      "Setosa        6.908000\n",
      "Versicolor    3.242837\n",
      "Virginica     2.780662\n",
      "Name: petal_ratio, dtype: float64\n",
      "\n",
      "Species with highest sepal length std: Virginica\n",
      "\n",
      "Rows with above-mean sepal width: 67\n",
      "\n",
      "Combined DataFrame shape: (150, 6)\n"
     ]
    }
   ],
   "source": [
    "# 2. Create ratio\n",
    "iris['petal_ratio'] = iris['petal.length'] / iris['petal.width']\n",
    "\n",
    "# 3a. Average ratio by species\n",
    "print(\"Average petal ratio by species:\")\n",
    "print(iris.groupby('variety')['petal_ratio'].mean())\n",
    "\n",
    "# 3b. Highest sepal length std\n",
    "print(\"\\nSpecies with highest sepal length std:\", \n",
    "      iris.groupby('variety')['sepal.length'].std().idxmax())\n",
    "\n",
    "# 3c. Filter wide sepals\n",
    "wide_sepals = iris[iris['sepal.width'] > iris['sepal.width'].mean()]\n",
    "print(\"\\nRows with above-mean sepal width:\", len(wide_sepals))\n",
    "\n",
    "# 3d. Split and combine\n",
    "combined = pd.concat([\n",
    "    iris[iris['petal_ratio'] < 2],\n",
    "    iris[iris['petal_ratio'] >= 2]\n",
    "], axis=0)\n",
    "print(\"\\nCombined DataFrame shape:\", combined.shape)"
   ]
  },
  {
   "cell_type": "code",
   "execution_count": null,
   "id": "755da61c",
   "metadata": {},
   "outputs": [],
   "source": []
  }
 ],
 "metadata": {
  "kernelspec": {
   "display_name": "Python 3 (ipykernel)",
   "language": "python",
   "name": "python3"
  },
  "language_info": {
   "codemirror_mode": {
    "name": "ipython",
    "version": 3
   },
   "file_extension": ".py",
   "mimetype": "text/x-python",
   "name": "python",
   "nbconvert_exporter": "python",
   "pygments_lexer": "ipython3",
   "version": "3.10.12"
  }
 },
 "nbformat": 4,
 "nbformat_minor": 5
}
