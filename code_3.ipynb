{
 "cells": [
  {
   "cell_type": "markdown",
   "metadata": {},
   "source": [
    "#python practice problems"
   ]
  },
  {
   "cell_type": "markdown",
   "metadata": {},
   "source": [
    "Write a Python program to calculate Euclidean Distance."
   ]
  },
  {
   "cell_type": "code",
   "execution_count": 7,
   "metadata": {},
   "outputs": [
    {
     "name": "stdout",
     "output_type": "stream",
     "text": [
      "enter point1 value1: 5\n",
      "enter point1 value1: 4\n",
      "enter point2 value2: 6\n",
      "enter point2 value2: 7\n",
      "3.1622776601683795\n"
     ]
    }
   ],
   "source": [
    "import math\n",
    "\n",
    "point1=[int(input(\"enter point1 value1: \")) for i in range(2)]\n",
    "point2=[int(input(\"enter point2 value2: \")) for i in range(2)]\n",
    "print(math.dist(point1,point2))\n",
    "\n"
   ]
  },
  {
   "cell_type": "markdown",
   "metadata": {},
   "source": [
    "Question 2: Reverse User Input for Data Processing\n",
    "Imagine you are developing a secure system for user input validation, and part of the system\n",
    "involves reversing strings (such as passwords or IDs) for a unique encryption method.\n",
    "Write a Python program that accepts a string from the user and returns it in reverse order. This\n",
    "could simulate part of a process where data is transformed before being stored or transmitted \n",
    "securely.\n",
    "Example 1:\n",
    "Input:\n",
    "1234abcd\n",
    "Output\n",
    "dcba4321\n",
    "Explanation:\n",
    "Reverse of 1234abcd is dcba4321\n",
    "Example 2:\n",
    "Input:\n",
    "Python@123\n",
    "Output:\n",
    "321@nohtyP\n",
    "Explanation:\n",
    "Reverse of Python@123 is 321@nohtyP\n"
   ]
  },
  {
   "cell_type": "code",
   "execution_count": 8,
   "metadata": {},
   "outputs": [
    {
     "name": "stdout",
     "output_type": "stream",
     "text": [
      "Enter a string:kalyan\n",
      "Reversed String:naylak\n"
     ]
    }
   ],
   "source": [
    "str=input(\"Enter a string:\")\n",
    "reversed_str=str[::-1]\n",
    "print(f\"Reversed String:{reversed_str}\")"
   ]
  },
  {
   "cell_type": "markdown",
   "metadata": {},
   "source": [
    "<h2 style=\"color:red\">Question 3: Finding indices of Closest Temperatures</h2>\n",
    "Imagine you work for a weather station, and you have a list of temperatures recorded <br>\n",
    "throughout the day. Your job is to find which two temperatures in the list are the most similar <br>\n",
    "(closest in value). Once you find the two closest temperatures, you need to tell their positions <br>\n",
    "(indices) in the list.<br>\n",
    "Note: \"Closest\", we mean finding two numbers that have the smallest difference between \n",
    "them.\n",
    "Example 1:<br>\n",
    "Input:\n",
    "[1, 7, 9, 2, 10]<br>\n",
    "Output:\n",
    "[0, 3]<br>\n",
    "Explanation:<br>\n",
    "The output [0, 3] represents the indices of the closest pair of numbers in the list [1, 7, 9, 2, 10]. <br>\n",
    "The numbers at indices 0 and 3 are 1 and 2, which have the smallest difference (1).<br>\n",
    "Example 2:<br>\n",
    "Input:\n",
    "[5, 8, 12, 15, 7]\n",
    "Output:<br>\n",
    "[4, 1]\n",
    "Explanation:<br>\n",
    "The output [4, 1] represents the indices of the closest pair of numbers in the list [5,8,12,15,7]. <br>\n",
    "The numbers at indices 4 and 1 are 7 and 8 which have the smallest difference (1).<br>\n",
    "Example 3:<br>\n",
    "Input:\n",
    "[100, 101, 99, 103, 105]\n",
    "Output:<br>\n",
    "[0, 1]\n",
    "Explanation:<br>\n",
    "The output [0, 1] represents the indices of the closest pair of numbers in the list [100, 101, 99, \n",
    "103, 105].<br> The numbers at indices 0 and 1 are 100 and 101, which have the smallest difference \n",
    "(1)"
   ]
  },
  {
   "cell_type": "code",
   "execution_count": 36,
   "metadata": {},
   "outputs": [
    {
     "name": "stdout",
     "output_type": "stream",
     "text": [
      "enter no of values:5\n",
      "enter values: 1\n",
      "enter values: 7\n",
      "enter values: 9\n",
      "enter values: 2\n",
      "enter values: 10\n",
      "[0, 3]\n"
     ]
    }
   ],
   "source": [
    "def close_values(lst):\n",
    "        dif=max(lst)\n",
    "        result=[]\n",
    "        index1=0\n",
    "        index2=0\n",
    "        for i in range(len(lst)-1):\n",
    "            for j in range(i+1,len(lst)):\n",
    "                if(abs(lst[i]-lst[j])<dif):\n",
    "                    dif=abs(lst[i]-lst[j])\n",
    "                    index1=i\n",
    "                    index2=j\n",
    "        result.append(index1)\n",
    "        result.append(index2)\n",
    "        print(result)\n",
    "    \n",
    "n=int(input(\"enter no of values:\"))\n",
    "lst=[int(input(\"enter values: \")) for i in range(n)]\n",
    "close_values(lst)\n"
   ]
  },
  {
   "cell_type": "markdown",
   "metadata": {},
   "source": [
    "<h2 style=\"color:red\">Question 4: Strange Sort: Alternating Smallest and Largest</h2><br>\n",
    "In an amusement park ticket queue, visitors are sorted in a strange manner. The smallest <br>\n",
    "number (representing the youngest visitor) stands first, followed by the oldest visitor.<br> The next \n",
    "youngest visitor stands next, followed by the next oldest visitor, and so on. Write a Python <br>\n",
    "program to sort a list of numbers in such a “strange sort,” where the first element is the <br>\n",
    "smallest, the second is the largest, the third is the next smallest, and so on.<br>\n",
    "Example 1:<br>\n",
    "Input:\n",
    "[1, 3, 4, 5, 11]<br>\n",
    "Output:\n",
    "[1, 11, 3, 5, 4]<br>\n",
    "Explanation:<br>\n",
    "The smallest element is 1, then the largest is 11, followed by the next smallest (3), the next \n",
    "largest (5), and the remaining element (4).\n",
    "Example 2:<br>\n",
    "Input:\n",
    "[7, 2, 10, 4, 8]<br>\n",
    "Output:\n",
    "[2, 10, 4, 8, 7]<br>\n",
    "Explanation:<br>\n",
    "The smallest element is 2, then the largest is 10, followed by the next smallest (4), the next \n",
    "largest (8), and the remaining element (7).<br>\n",
    "Example 3:<br>\n",
    "Input:\n",
    "[9, 15, 3, 12, 6, 1]<br>\n",
    "Output:\n",
    "[1, 15, 3, 12, 6, 9]<br>\n",
    "Explanation:<br>\n",
    "The smallest element is 1, then the largest is 15, followed by the next smallest (3), the next \n",
    "largest (12), and so on."
   ]
  },
  {
   "cell_type": "code",
   "execution_count": 37,
   "metadata": {},
   "outputs": [
    {
     "name": "stdout",
     "output_type": "stream",
     "text": [
      "enter no of values:5\n",
      "enter values: 1\n",
      "enter values: 3\n",
      "enter values: 5\n",
      "enter values: 7\n",
      "enter values: 11\n",
      "[1, 11, 3, 7, 5]\n"
     ]
    }
   ],
   "source": [
    "def sorted_list(lst):\n",
    "    lst.sort()\n",
    "    result=[]\n",
    "    low=0\n",
    "    high=len(lst)-1\n",
    "    while(low<high):\n",
    "        result.append(lst[low])\n",
    "        result.append(lst[high])\n",
    "        low+=1\n",
    "        high-=1\n",
    "    if len(lst)%2==1:\n",
    "        result.append(lst[low])\n",
    "    print(result)\n",
    "\n",
    "n=int(input(\"enter no of values:\"))\n",
    "lst=[int(input(\"enter values: \")) for i in range(n)]\n",
    "sorted_list(lst)"
   ]
  },
  {
   "cell_type": "markdown",
   "metadata": {},
   "source": [
    "<h2 style=\"color:red\">Question 5: Check if a String is Pangram</h2>\n",
    "You are designing a chatbot for an e-commerce platform. The chatbot is expected to understand <br>\n",
    "and respond to user queries efficiently. To ensure that it can handle diverse inputs, you need to <br>\n",
    "verify that its internal processing covers all possible alphabetical characters. A pangram is a <br>\n",
    "sentence that contains every letter of the English alphabet at least once.<br>\n",
    "Write a Python function that takes a string as input and checks whether the string is a pangram<br> \n",
    "(contains every letter of the alphabet at least once).<br>\n",
    "Example 1:<br>\n",
    "Input:\n",
    "The quick brown fox jumps over the lazy dog.<br>\n",
    "Output:\n",
    "True<br>\n",
    "Explanation:<br>\n",
    "This is a famous pangram that contains all the letters of the alphabet.<br>\n",
    "Example 2:<br>\n",
    "Input:\n",
    "Pack my box with five dozen liquor jugs.<br>\n",
    "Output:\n",
    "True<br>\n",
    "Explanation:<br>\n",
    "This is a famous pangram that contains all the letters of the alphabet.<br>\n",
    "Example 3:<br>\n",
    "Input:\n",
    "I love programming in Python<br>\n",
    "Output:\n",
    "False<br>\n",
    "Explanation:<br>\n",
    "This string is missing several letters, such as ‘z’, ‘j’, and ‘k’, so it is not a pangram."
   ]
  },
  {
   "cell_type": "code",
   "execution_count": 46,
   "metadata": {},
   "outputs": [
    {
     "name": "stdout",
     "output_type": "stream",
     "text": [
      "True\n",
      "True\n",
      "False\n"
     ]
    }
   ],
   "source": [
    "\n",
    "\n",
    "def is_pangram(s):\n",
    "    lst=[chr(i) for i in range(ord(\"a\"),ord(\"z\")+1) ] \n",
    "    count=0\n",
    "    for i in lst:\n",
    "        if i not in s.lower():\n",
    "            return False\n",
    "    return True\n",
    "print(is_pangram(\"the quick brown fox jumps over the lazy dog.\"))  \n",
    "print(is_pangram(\"Pack my box with five dozen liquor jugs.\"))  \n",
    "print(is_pangram(\"I love programming in Python\"))  \n"
   ]
  },
  {
   "cell_type": "code",
   "execution_count": null,
   "metadata": {},
   "outputs": [],
   "source": []
  }
 ],
 "metadata": {
  "kernelspec": {
   "display_name": "Python 3 (ipykernel)",
   "language": "python",
   "name": "python3"
  },
  "language_info": {
   "codemirror_mode": {
    "name": "ipython",
    "version": 3
   },
   "file_extension": ".py",
   "mimetype": "text/x-python",
   "name": "python",
   "nbconvert_exporter": "python",
   "pygments_lexer": "ipython3",
   "version": "3.10.12"
  }
 },
 "nbformat": 4,
 "nbformat_minor": 2
}
